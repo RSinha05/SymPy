{
 "metadata": {
  "name": ""
 },
 "nbformat": 3,
 "nbformat_minor": 0,
 "worksheets": [
  {
   "cells": [
    {
     "cell_type": "code",
     "collapsed": false,
     "input": [
      "from sympy.galgebra.ga import Ga\n",
      "from sympy.galgebra.printer import Format"
     ],
     "language": "python",
     "metadata": {},
     "outputs": [],
     "prompt_number": 1
    },
    {
     "cell_type": "code",
     "collapsed": false,
     "input": [
      "from sympy import symbols, latex, init_printing\n",
      "Format(ipy=True)\n",
      "init_printing()"
     ],
     "language": "python",
     "metadata": {},
     "outputs": [],
     "prompt_number": 2
    },
    {
     "cell_type": "code",
     "collapsed": false,
     "input": [
      "coords = (x, y, z) = symbols('x y z', real=True)"
     ],
     "language": "python",
     "metadata": {},
     "outputs": [],
     "prompt_number": 3
    },
    {
     "cell_type": "code",
     "collapsed": false,
     "input": [
      "o3d = Ga('e_x e_y e_z',g=[1,1,1], coords=coords)"
     ],
     "language": "python",
     "metadata": {},
     "outputs": [],
     "prompt_number": 4
    },
    {
     "cell_type": "code",
     "collapsed": false,
     "input": [
      "o3d.grad"
     ],
     "language": "python",
     "metadata": {},
     "outputs": [
      {
       "latex": [
        "$$ e_{x} \\frac{\\partial}{\\partial x} + e_{y} \\frac{\\partial}{\\partial y} + e_{z} \\frac{\\partial}{\\partial z} $$"
       ],
       "metadata": {},
       "output_type": "pyout",
       "prompt_number": 5,
       "text": [
        "e_{x} \\frac{\\partial}{\\partial x} + e_{y} \\frac{\\partial}{\\partial y} + e_{z} \\frac{\\partial}{\\partial z}"
       ]
      }
     ],
     "prompt_number": 5
    },
    {
     "cell_type": "code",
     "collapsed": false,
     "input": [
      "F = o3d.mv('F','vector',f=True)"
     ],
     "language": "python",
     "metadata": {},
     "outputs": [],
     "prompt_number": 6
    },
    {
     "cell_type": "code",
     "collapsed": false,
     "input": [
      "F"
     ],
     "language": "python",
     "metadata": {},
     "outputs": [
      {
       "latex": [
        "\\begin{equation*} F^{x}  e_{x} + F^{y}  e_{y} + F^{z}  e_{z} \\end{equation*}"
       ],
       "metadata": {},
       "output_type": "pyout",
       "prompt_number": 7,
       "text": [
        "F^{x}  e_{x} + F^{y}  e_{y} + F^{z}  e_{z}"
       ]
      }
     ],
     "prompt_number": 7
    },
    {
     "cell_type": "code",
     "collapsed": false,
     "input": [
      "o3d.grad * F"
     ],
     "language": "python",
     "metadata": {},
     "outputs": [
      {
       "latex": [
        "\\begin{equation*} \\left ( \\partial_{x} F^{x}  + \\partial_{y} F^{y}  + \\partial_{z} F^{z} \\right )  + \\left ( - \\partial_{y} F^{x}  + \\partial_{x} F^{y} \\right ) e_{x}\\wedge e_{y} + \\left ( - \\partial_{z} F^{x}  + \\partial_{x} F^{z} \\right ) e_{x}\\wedge e_{z} + \\left ( - \\partial_{z} F^{y}  + \\partial_{y} F^{z} \\right ) e_{y}\\wedge e_{z} \\end{equation*}"
       ],
       "metadata": {},
       "output_type": "pyout",
       "prompt_number": 8,
       "text": [
        "\\left ( \\partial_{x} F^{x}  + \\partial_{y} F^{y}  + \\partial_{z} F^{z} \\right )  + \\left ( - \\partial_{y} F^{x}  + \\partial_{x} F^{y} \\right ) e_{x}\\wedge e_{y} + \\left ( - \\partial_{z} F^{x}  + \\partial_{x} F^{z} \\right ) e_{x}\\wedge e_{z} + \\left ( - \\partial_{z} F^{y}  + \\partial_{y} F^{z} \\right ) e_{y}\\wedge e_{z}"
       ]
      }
     ],
     "prompt_number": 8
    },
    {
     "cell_type": "code",
     "collapsed": false,
     "input": [
      "o3d.grad * o3d.grad"
     ],
     "language": "python",
     "metadata": {},
     "outputs": [
      {
       "latex": [
        "$$ \\frac{\\partial^{2}}{\\partial x^{2}} + \\frac{\\partial^{2}}{\\partial y^{2}} + \\frac{\\partial^{2}}{\\partial z^{2}} $$"
       ],
       "metadata": {},
       "output_type": "pyout",
       "prompt_number": 9,
       "text": [
        "\\frac{\\partial^{2}}{\\partial x^{2}} + \\frac{\\partial^{2}}{\\partial y^{2}} + \\frac{\\partial^{2}}{\\partial z^{2}}"
       ]
      }
     ],
     "prompt_number": 9
    },
    {
     "cell_type": "code",
     "collapsed": false,
     "input": [
      "(o3d.grad * o3d.grad) * F"
     ],
     "language": "python",
     "metadata": {},
     "outputs": [
      {
       "latex": [
        "\\begin{equation*} \\left ( \\partial^{2}_{x} F^{x}  + \\partial^{2}_{y} F^{x}  + \\partial^{2}_{z} F^{x} \\right ) e_{x} + \\left ( \\partial^{2}_{x} F^{y}  + \\partial^{2}_{y} F^{y}  + \\partial^{2}_{z} F^{y} \\right ) e_{y} + \\left ( \\partial^{2}_{x} F^{z}  + \\partial^{2}_{y} F^{z}  + \\partial^{2}_{z} F^{z} \\right ) e_{z} \\end{equation*}"
       ],
       "metadata": {},
       "output_type": "pyout",
       "prompt_number": 10,
       "text": [
        "\\left ( \\partial^{2}_{x} F^{x}  + \\partial^{2}_{y} F^{x}  + \\partial^{2}_{z} F^{x} \\right ) e_{x} + \\left ( \\partial^{2}_{x} F^{y}  + \\partial^{2}_{y} F^{y}  + \\partial^{2}_{z} F^{y} \\right ) e_{y} + \\left ( \\partial^{2}_{x} F^{z}  + \\partial^{2}_{y} F^{z}  + \\partial^{2}_{z} F^{z} \\right ) e_{z}"
       ]
      }
     ],
     "prompt_number": 10
    },
    {
     "cell_type": "code",
     "collapsed": false,
     "input": [
      "ex, ey, ez = o3d.mv()\n",
      "X = (x*ex)+(y*ey)+(z*ez)"
     ],
     "language": "python",
     "metadata": {},
     "outputs": [],
     "prompt_number": 11
    },
    {
     "cell_type": "code",
     "collapsed": false,
     "input": [
      "X"
     ],
     "language": "python",
     "metadata": {},
     "outputs": [
      {
       "latex": [
        "\\begin{equation*} x e_{x} + y e_{y} + z e_{z} \\end{equation*}"
       ],
       "metadata": {},
       "output_type": "pyout",
       "prompt_number": 12,
       "text": [
        "x e_{x} + y e_{y} + z e_{z}"
       ]
      }
     ],
     "prompt_number": 12
    },
    {
     "cell_type": "code",
     "collapsed": false,
     "input": [
      "L = (X ^ o3d.grad) - (o3d.grad ^ X)"
     ],
     "language": "python",
     "metadata": {},
     "outputs": [],
     "prompt_number": 13
    },
    {
     "cell_type": "code",
     "collapsed": false,
     "input": [
      "L"
     ],
     "language": "python",
     "metadata": {},
     "outputs": [
      {
       "latex": [
        "$$ e_{x}\\wedge e_{y} \\left ( - y \\frac{\\partial}{\\partial x} + x \\frac{\\partial}{\\partial y}\\right )  + e_{x}\\wedge e_{z} \\left ( - z \\frac{\\partial}{\\partial x} + x \\frac{\\partial}{\\partial z}\\right )  + e_{y}\\wedge e_{z} \\left ( - z \\frac{\\partial}{\\partial y} + y \\frac{\\partial}{\\partial z}\\right )  $$"
       ],
       "metadata": {},
       "output_type": "pyout",
       "prompt_number": 14,
       "text": [
        "e_{x}\\wedge e_{y} \\left ( - y \\frac{\\partial}{\\partial x} + x \\frac{\\partial}{\\partial y}\\right )  + e_{x}\\wedge e_{z} \\left ( - z \\frac{\\partial}{\\partial x} + x \\frac{\\partial}{\\partial z}\\right )  + e_{y}\\wedge e_{z} \\left ( - z \\frac{\\partial}{\\partial y} + y \\frac{\\partial}{\\partial z}\\right ) "
       ]
      }
     ],
     "prompt_number": 14
    },
    {
     "cell_type": "code",
     "collapsed": false,
     "input": [
      "Llst = (Lxy,Lyz,Lxz) = L.components()\n"
     ],
     "language": "python",
     "metadata": {},
     "outputs": [],
     "prompt_number": 15
    },
    {
     "cell_type": "code",
     "collapsed": false,
     "input": [
      "Llst"
     ],
     "language": "python",
     "metadata": {},
     "outputs": [
      {
       "latex": [
        "$$\\begin{pmatrix}e_{x}\\wedge e_{y} \\left ( - y \\frac{\\partial}{\\partial x} + x \\frac{\\partial}{\\partial y}\\right ) , & e_{x}\\wedge e_{z} \\left ( - z \\frac{\\partial}{\\partial x} + x \\frac{\\partial}{\\partial z}\\right ) , & e_{y}\\wedge e_{z} \\left ( - z \\frac{\\partial}{\\partial y} + y \\frac{\\partial}{\\partial z}\\right ) \\end{pmatrix}$$"
       ],
       "metadata": {},
       "output_type": "pyout",
       "png": "[encoded data removed]",
       "prompt_number": 16,
       "text": [
        "(e_{x}\\wedge e_{y} \\left ( - y \\frac{\\partial}{\\partial x} + x \\frac{\\partial}\n",
        "{\\partial y}\\right ) , e_{x}\\wedge e_{z} \\left ( - z \\frac{\\partial}{\\partial \n",
        "x} + x \\frac{\\partial}{\\partial z}\\right ) , e_{y}\\wedge e_{z} \\left ( - z \\fr\n",
        "ac{\\partial}{\\partial y} + y \\frac{\\partial}{\\partial z}\\right ) )"
       ]
      }
     ],
     "prompt_number": 16
    },
    {
     "cell_type": "code",
     "collapsed": false,
     "input": [
      "def Acom(x,y): return x*y+y*x #anticommutator since bases are included, not just components"
     ],
     "language": "python",
     "metadata": {},
     "outputs": [],
     "prompt_number": 17
    },
    {
     "cell_type": "code",
     "collapsed": false,
     "input": [
      "Acom(Lxy,Lyz)"
     ],
     "language": "python",
     "metadata": {},
     "outputs": [
      {
       "latex": [
        "$$ e_{y}\\wedge e_{z} \\left ( - z \\frac{\\partial}{\\partial y} + y \\frac{\\partial}{\\partial z}\\right )  $$"
       ],
       "metadata": {},
       "output_type": "pyout",
       "prompt_number": 18,
       "text": [
        "e_{y}\\wedge e_{z} \\left ( - z \\frac{\\partial}{\\partial y} + y \\frac{\\partial}{\\partial z}\\right ) "
       ]
      }
     ],
     "prompt_number": 18
    },
    {
     "cell_type": "code",
     "collapsed": false,
     "input": [
      "Acom(Lyz,Lxz)"
     ],
     "language": "python",
     "metadata": {},
     "outputs": [
      {
       "latex": [
        "$$ e_{x}\\wedge e_{y} \\left ( - y \\frac{\\partial}{\\partial x} + x \\frac{\\partial}{\\partial y}\\right )  $$"
       ],
       "metadata": {},
       "output_type": "pyout",
       "prompt_number": 19,
       "text": [
        "e_{x}\\wedge e_{y} \\left ( - y \\frac{\\partial}{\\partial x} + x \\frac{\\partial}{\\partial y}\\right ) "
       ]
      }
     ],
     "prompt_number": 19
    },
    {
     "cell_type": "code",
     "collapsed": false,
     "input": [
      "Acom(Lxz,Lxy)"
     ],
     "language": "python",
     "metadata": {},
     "outputs": [
      {
       "latex": [
        "$$ e_{x}\\wedge e_{z} \\left ( - z \\frac{\\partial}{\\partial x} + x \\frac{\\partial}{\\partial z}\\right )  $$"
       ],
       "metadata": {},
       "output_type": "pyout",
       "prompt_number": 20,
       "text": [
        "e_{x}\\wedge e_{z} \\left ( - z \\frac{\\partial}{\\partial x} + x \\frac{\\partial}{\\partial z}\\right ) "
       ]
      }
     ],
     "prompt_number": 20
    },
    {
     "cell_type": "code",
     "collapsed": false,
     "input": [],
     "language": "python",
     "metadata": {},
     "outputs": []
    }
   ],
   "metadata": {}
  }
 ]
}