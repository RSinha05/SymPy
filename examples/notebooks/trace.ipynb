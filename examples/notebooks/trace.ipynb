{
 "cells": [
  {
   "cell_type": "code",
   "execution_count": 2,
   "id": "f203aa94",
   "metadata": {
    "collapsed": true
   },
   "outputs": [],
   "source": [
    "from sympy import symbols\n",
    "from sympy.physics.quantum.trace import Tr\n",
    "from sympy.matrices.matrices import Matrix\n",
    "from IPython.core.display import display_pretty\n",
    "from sympy.printing.latex import *\n",
    "\n",
    "%load_ext sympyprinting"
   ]
  },
  {
   "cell_type": "markdown",
   "id": "fa6d95f2",
   "metadata": {},
   "source": [
    "###Basic Examples"
   ]
  },
  {
   "cell_type": "code",
   "execution_count": 3,
   "id": "3f25acca",
   "metadata": {
    "collapsed": true
   },
   "outputs": [],
   "source": [
    "a, b, c, d = symbols('a b c d'); \n",
    "A, B = symbols('A B', commutative=False)\n",
    "t = Tr(A*B)"
   ]
  },
  {
   "cell_type": "code",
   "execution_count": 4,
   "id": "d5b6c598",
   "metadata": {
    "collapsed": false
   },
   "outputs": [
    {
     "data": {
      "text/latex": [
       "$$\\mbox{Tr}\\left(A B\\right)$$"
      ],
      "text/plain": [
       "Tr(A⋅B)"
      ]
     },
     "execution_count": 4,
     "metadata": {},
     "output_type": "execute_result"
    }
   ],
   "source": [
    "t"
   ]
  },
  {
   "cell_type": "code",
   "execution_count": 5,
   "id": "a0cbf4ef",
   "metadata": {
    "collapsed": false
   },
   "outputs": [
    {
     "data": {
      "text/plain": [
       "\\mbox{Tr}\\left(A B\\right)"
      ]
     },
     "execution_count": 5,
     "metadata": {},
     "output_type": "execute_result"
    }
   ],
   "source": [
    "latex(t)"
   ]
  },
  {
   "cell_type": "code",
   "execution_count": 14,
   "id": "d154cf12",
   "metadata": {
    "collapsed": false
   },
   "outputs": [
    {
     "data": {
      "text/plain": [
       "Tr(ρ((❘1,1⟩, 0.5),(❘1,-1⟩, 0.5)))"
      ]
     },
     "metadata": {},
     "output_type": "display_data"
    }
   ],
   "source": [
    "display_pretty(t)"
   ]
  },
  {
   "cell_type": "markdown",
   "id": "9a352a35",
   "metadata": {},
   "source": [
    "### Using Matrices"
   ]
  },
  {
   "cell_type": "code",
   "execution_count": 15,
   "id": "4c8a1e0a",
   "metadata": {
    "collapsed": true
   },
   "outputs": [],
   "source": [
    "t = Tr ( Matrix([ [2,3], [3,4] ]))"
   ]
  },
  {
   "cell_type": "code",
   "execution_count": 16,
   "id": "4c63f673",
   "metadata": {
    "collapsed": false
   },
   "outputs": [
    {
     "data": {
      "image/png": "[encoded data removed]",
      "text/latex": [
       "$$6$$"
      ],
      "text/plain": [
       "6"
      ]
     },
     "execution_count": 16,
     "metadata": {},
     "output_type": "execute_result"
    }
   ],
   "source": [
    "t"
   ]
  },
  {
   "cell_type": "markdown",
   "id": "c48c7f7b",
   "metadata": {},
   "source": [
    "### Example using modules in physics.quantum"
   ]
  },
  {
   "cell_type": "code",
   "execution_count": 7,
   "id": "76e92cd9",
   "metadata": {
    "collapsed": true
   },
   "outputs": [],
   "source": [
    "from sympy.physics.quantum.density import Density\n",
    "from sympy.physics.quantum.spin import (\n",
    "    Jx, Jy, Jz, Jplus, Jminus, J2,\n",
    "    JxBra, JyBra, JzBra,\n",
    "    JxKet, JyKet, JzKet,\n",
    ")"
   ]
  },
  {
   "cell_type": "code",
   "execution_count": 8,
   "id": "c08471b0",
   "metadata": {
    "collapsed": false
   },
   "outputs": [
    {
     "data": {
      "text/latex": [
       "$$\\rho\\left(\\begin{pmatrix}{\\left|1,1\\right\\rangle }, & 0.5\\end{pmatrix},\\begin{pmatrix}{\\left|1,-1\\right\\rangle }, & 0.5\\end{pmatrix}\\right)$$"
      ],
      "text/plain": [
       "ρ((❘1,1⟩, 0.5),(❘1,-1⟩, 0.5))"
      ]
     },
     "execution_count": 8,
     "metadata": {},
     "output_type": "execute_result"
    }
   ],
   "source": [
    "d = Density([JzKet(1,1),0.5],[JzKet(1,-1),0.5]); d"
   ]
  },
  {
   "cell_type": "code",
   "execution_count": 9,
   "id": "f9a82b2c",
   "metadata": {
    "collapsed": true
   },
   "outputs": [],
   "source": [
    "t = Tr(d)"
   ]
  },
  {
   "cell_type": "code",
   "execution_count": 10,
   "id": "acff385a",
   "metadata": {
    "collapsed": false
   },
   "outputs": [
    {
     "data": {
      "text/latex": [
       "$$\\mbox{Tr}\\left(\\rho\\left(\\begin{pmatrix}{\\left|1,1\\right\\rangle }, & 0.5\\end{pmatrix},\\begin{pmatrix}{\\left|1,-1\\right\\rangle }, & 0.5\\end{pmatrix}\\right)\\right)$$"
      ],
      "text/plain": [
       "Tr(ρ((❘1,1⟩, 0.5),(❘1,-1⟩, 0.5)))"
      ]
     },
     "execution_count": 10,
     "metadata": {},
     "output_type": "execute_result"
    }
   ],
   "source": [
    "t"
   ]
  },
  {
   "cell_type": "code",
   "execution_count": 11,
   "id": "98601da1",
   "metadata": {
    "collapsed": false
   },
   "outputs": [
    {
     "data": {
      "text/plain": [
       "\n",
       "\\mbox{Tr}\\left(\\rho\\left(\\begin{pmatrix}{\\left|1,1\\right\\rangle }, & 0.5\\end{p\n",
       "matrix},\\begin{pmatrix}{\\left|1,-1\\right\\rangle }, & 0.5\\end{pmatrix}\\right)\\r\n",
       "ight)"
      ]
     },
     "execution_count": 11,
     "metadata": {},
     "output_type": "execute_result"
    }
   ],
   "source": [
    "latex(t)"
   ]
  },
  {
   "cell_type": "code",
   "execution_count": 12,
   "id": "7c0efd88",
   "metadata": {
    "collapsed": false
   },
   "outputs": [
    {
     "data": {
      "image/png": "[encoded data removed]",
      "text/latex": [
       "$$1.0$$"
      ],
      "text/plain": [
       "1.00000000000000"
      ]
     },
     "execution_count": 12,
     "metadata": {},
     "output_type": "execute_result"
    }
   ],
   "source": [
    "t.doit()"
   ]
  },
  {
   "cell_type": "code",
   "execution_count": 12,
   "id": "53e0401c",
   "metadata": {
    "collapsed": true
   },
   "outputs": [],
   "source": []
  }
 ],
 "metadata": {},
 "nbformat": 4,
 "nbformat_minor": 5
}
