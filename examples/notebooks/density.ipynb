{
 "metadata": {
  "name": "density"
 },
 "nbformat": 3,
 "nbformat_minor": 0,
 "worksheets": [
  {
   "cells": [
    {
     "cell_type": "markdown",
     "metadata": {},
     "source": [
      "# Density operator and matrix "
     ]
    },
    {
     "cell_type": "code",
     "collapsed": true,
     "input": [
      "from sympy import *\n",
      "from sympy.physics.quantum import *\n",
      "from sympy.physics.quantum.density import *\n",
      "from sympy.physics.quantum.spin import (\n",
      "    Jx, Jy, Jz, Jplus, Jminus, J2,\n",
      "    JxBra, JyBra, JzBra,\n",
      "    JxKet, JyKet, JzKet,\n",
      ")\n",
      "from IPython.core.display import display_pretty"
     ],
     "language": "python",
     "metadata": {},
     "outputs": [],
     "prompt_number": 1
    },
    {
     "cell_type": "code",
     "collapsed": true,
     "input": [
      "%load_ext sympyprinting"
     ],
     "language": "python",
     "metadata": {},
     "outputs": [],
     "prompt_number": 2
    },
    {
     "cell_type": "markdown",
     "metadata": {},
     "source": [
      "Create n density matrix using symbolic states"
     ]
    },
    {
     "cell_type": "code",
     "collapsed": true,
     "input": [
      "psi = Ket('psi')\n",
      "phi = Ket('phi')"
     ],
     "language": "python",
     "metadata": {},
     "outputs": [],
     "prompt_number": 3
    },
    {
     "cell_type": "code",
     "collapsed": false,
     "input": [
      "d = Density((psi,0.5),(phi,0.5)); d"
     ],
     "language": "python",
     "metadata": {},
     "outputs": [
      {
       "latex": [
        "$$\\rho\\left(\\begin{pmatrix}{\\left|\\psi\\right\\rangle }, & 0.5\\end{pmatrix},\\begin{pmatrix}{\\left|\\phi\\right\\rangle }, & 0.5\\end{pmatrix}\\right)$$"
       ],
       "output_type": "pyout",
       "prompt_number": 4,
       "text": [
        "\u03c1((\u2758\u03c8\u27e9, 0.5),(\u2758\u03c6\u27e9, 0.5))"
       ]
      }
     ],
     "prompt_number": 4
    },
    {
     "cell_type": "code",
     "collapsed": false,
     "input": [
      "display_pretty(d)"
     ],
     "language": "python",
     "metadata": {},
     "outputs": [
      {
       "output_type": "display_data",
       "text": [
        "\u03c1((\u2758\u03c8\u27e9, 0.5),(\u2758\u03c6\u27e9, 0.5))"
       ]
      }
     ],
     "prompt_number": 5
    },
    {
     "cell_type": "code",
     "collapsed": false,
     "input": [
      "d.states()"
     ],
     "language": "python",
     "metadata": {},
     "outputs": [
      {
       "latex": [
        "$$\\begin{pmatrix}{\\left|\\psi\\right\\rangle }, & {\\left|\\phi\\right\\rangle }\\end{pmatrix}$$"
       ],
       "output_type": "pyout",
       "prompt_number": 6,
       "text": [
        "(\u2758\u03c8\u27e9, \u2758\u03c6\u27e9)"
       ]
      }
     ],
     "prompt_number": 6
    },
    {
     "cell_type": "code",
     "collapsed": false,
     "input": [
      "d.probs()"
     ],
     "language": "python",
     "metadata": {},
     "outputs": [
      {
       "latex": [
        "$$\\begin{pmatrix}0.5, & 0.5\\end{pmatrix}$$"
       ],
       "output_type": "pyout",
       "prompt_number": 7,
       "text": [
        "(0.5, 0.5)"
       ]
      }
     ],
     "prompt_number": 7
    },
    {
     "cell_type": "code",
     "collapsed": false,
     "input": [
      "d.doit()"
     ],
     "language": "python",
     "metadata": {},
     "outputs": [
      {
       "latex": [
        "$$0.5 {\\left|\\phi\\right\\rangle }{\\left\\langle \\phi\\right|} + 0.5 {\\left|\\psi\\right\\rangle }{\\left\\langle \\psi\\right|}$$"
       ],
       "output_type": "pyout",
       "png": "[encoded data removed]",
       "prompt_number": 8,
       "text": [
        "0.5\u22c5\u2758\u03c6\u27e9\u27e8\u03c6\u2758 + 0.5\u22c5\u2758\u03c8\u27e9\u27e8\u03c8\u2758"
       ]
      }
     ],
     "prompt_number": 8
    },
    {
     "cell_type": "code",
     "collapsed": false,
     "input": [
      "Dagger(d)"
     ],
     "language": "python",
     "metadata": {},
     "outputs": [
      {
       "latex": [
        "$$\\rho\\left(\\begin{pmatrix}{\\left|\\psi\\right\\rangle }, & 0.5\\end{pmatrix},\\begin{pmatrix}{\\left|\\phi\\right\\rangle }, & 0.5\\end{pmatrix}\\right)$$"
       ],
       "output_type": "pyout",
       "prompt_number": 9,
       "text": [
        "\u03c1((\u2758\u03c8\u27e9, 0.5),(\u2758\u03c6\u27e9, 0.5))"
       ]
      }
     ],
     "prompt_number": 9
    },
    {
     "cell_type": "code",
     "collapsed": true,
     "input": [
      "A = Operator('A')"
     ],
     "language": "python",
     "metadata": {},
     "outputs": [],
     "prompt_number": 10
    },
    {
     "cell_type": "code",
     "collapsed": false,
     "input": [
      "d.apply_op(A)"
     ],
     "language": "python",
     "metadata": {},
     "outputs": [
      {
       "latex": [
        "$$\\rho\\left(\\begin{pmatrix}A {\\left|\\psi\\right\\rangle }, & 0.5\\end{pmatrix},\\begin{pmatrix}A {\\left|\\phi\\right\\rangle }, & 0.5\\end{pmatrix}\\right)$$"
       ],
       "output_type": "pyout",
       "prompt_number": 11,
       "text": [
        "\u03c1((A\u22c5\u2758\u03c8\u27e9, 0.5),(A\u22c5\u2758\u03c6\u27e9, 0.5))"
       ]
      }
     ],
     "prompt_number": 11
    },
    {
     "cell_type": "markdown",
     "metadata": {},
     "source": [
      "Now create a density matrix using spin states"
     ]
    },
    {
     "cell_type": "code",
     "collapsed": true,
     "input": [
      "up = JzKet(S(1)/2,S(1)/2)\n",
      "down = JzKet(S(1)/2,-S(1)/2)"
     ],
     "language": "python",
     "metadata": {},
     "outputs": [],
     "prompt_number": 12
    },
    {
     "cell_type": "code",
     "collapsed": false,
     "input": [
      "d2 = Density((up,0.5),(down,0.5)); d2"
     ],
     "language": "python",
     "metadata": {},
     "outputs": [
      {
       "latex": [
        "$$\\rho\\left(\\begin{pmatrix}{\\left|\\frac{1}{2},\\frac{1}{2}\\right\\rangle }, & 0.5\\end{pmatrix},\\begin{pmatrix}{\\left|\\frac{1}{2},- \\frac{1}{2}\\right\\rangle }, & 0.5\\end{pmatrix}\\right)$$"
       ],
       "output_type": "pyout",
       "prompt_number": 13,
       "text": [
        "\u03c1((\u27581/2,1/2\u27e9, 0.5),(\u27581/2,-1/2\u27e9, 0.5))"
       ]
      }
     ],
     "prompt_number": 13
    },
    {
     "cell_type": "code",
     "collapsed": false,
     "input": [
      "represent(d2)"
     ],
     "language": "python",
     "metadata": {},
     "outputs": [
      {
       "output_type": "pyout",
       "prompt_number": 14,
       "text": [
        "\n",
        "\u23a10.5   0 \u23a4\n",
        "\u23a2        \u23a5\n",
        "\u23a3 0   0.5\u23a6"
       ]
      }
     ],
     "prompt_number": 14
    },
    {
     "cell_type": "code",
     "collapsed": false,
     "input": [
      "d2.apply_op(Jz)"
     ],
     "language": "python",
     "metadata": {},
     "outputs": [
      {
       "latex": [
        "$$\\rho\\left(\\begin{pmatrix}J_z {\\left|\\frac{1}{2},\\frac{1}{2}\\right\\rangle }, & 0.5\\end{pmatrix},\\begin{pmatrix}J_z {\\left|\\frac{1}{2},- \\frac{1}{2}\\right\\rangle }, & 0.5\\end{pmatrix}\\right)$$"
       ],
       "output_type": "pyout",
       "prompt_number": 15,
       "text": [
        "\n",
        "\u03c1\u239b\u239bJ \u22c5\u27581/2,1/2\u27e9, 0.5\u239e,\u239bJ \u22c5\u27581/2,-1/2\u27e9, 0.5\u239e\u239e\n",
        " \u239d\u239d z               \u23a0 \u239d z                \u23a0\u23a0"
       ]
      }
     ],
     "prompt_number": 15
    },
    {
     "cell_type": "code",
     "collapsed": false,
     "input": [
      "qapply(_)"
     ],
     "language": "python",
     "metadata": {},
     "outputs": [
      {
       "latex": [
        "$$\\rho\\left(\\begin{pmatrix}\\frac{1}{2} \\hbar {\\left|\\frac{1}{2},\\frac{1}{2}\\right\\rangle }, & 0.5\\end{pmatrix},\\begin{pmatrix}- \\frac{1}{2} \\hbar {\\left|\\frac{1}{2},- \\frac{1}{2}\\right\\rangle }, & 0.5\\end{pmatrix}\\right)$$"
       ],
       "output_type": "pyout",
       "prompt_number": 16,
       "text": [
        "\n",
        " \u239b\u239b\u210f\u22c5\u27581/2,1/2\u27e9     \u239e \u239b-\u210f\u22c5\u27581/2,-1/2\u27e9     \u239e\u239e\n",
        "\u03c1\u239c\u239c\u2500\u2500\u2500\u2500\u2500\u2500\u2500\u2500\u2500\u2500\u2500, 0.5\u239f,\u239c\u2500\u2500\u2500\u2500\u2500\u2500\u2500\u2500\u2500\u2500\u2500\u2500\u2500, 0.5\u239f\u239f\n",
        " \u239d\u239d     2          \u23a0 \u239d      2           \u23a0\u23a0"
       ]
      }
     ],
     "prompt_number": 16
    },
    {
     "cell_type": "code",
     "collapsed": false,
     "input": [
      "qapply((Jy*d2).doit())"
     ],
     "language": "python",
     "metadata": {},
     "outputs": [
      {
       "latex": [
        "$$0.5 J_y {\\left|\\frac{1}{2},- \\frac{1}{2}\\right\\rangle }{\\left\\langle \\frac{1}{2},- \\frac{1}{2}\\right|} + 0.5 J_y {\\left|\\frac{1}{2},\\frac{1}{2}\\right\\rangle }{\\left\\langle \\frac{1}{2},\\frac{1}{2}\\right|}$$"
       ],
       "output_type": "pyout",
       "png": "[encoded data removed]",
       "prompt_number": 17,
       "text": [
        "\n",
        "0.5\u22c5J \u22c5\u27581/2,-1/2\u27e9\u27e81/2,-1/2\u2758 + 0.5\u22c5J \u22c5\u27581/2,1/2\u27e9\u27e81/2,1/2\u2758\n",
        "     y                             y                   "
       ]
      }
     ],
     "prompt_number": 17
    },
    {
     "cell_type": "markdown",
     "metadata": {},
     "source": [
      "## Evaluate entropy of the density matrices"
     ]
    },
    {
     "cell_type": "code",
     "collapsed": false,
     "input": [
      "entropy(d2)"
     ],
     "language": "python",
     "metadata": {},
     "outputs": [
      {
       "latex": [
        "$$\\frac{1}{2} \\log{\\left (2 \\right )}$$"
       ],
       "output_type": "pyout",
       "png": "[encoded data removed]",
       "prompt_number": 18,
       "text": [
        "\n",
        "log(2)\n",
        "\u2500\u2500\u2500\u2500\u2500\u2500\n",
        "  2   "
       ]
      }
     ],
     "prompt_number": 18
    },
    {
     "cell_type": "code",
     "collapsed": false,
     "input": [
      "entropy(represent(d2))"
     ],
     "language": "python",
     "metadata": {},
     "outputs": [
      {
       "latex": [
        "$$\\frac{1}{2} \\log{\\left (2 \\right )}$$"
       ],
       "output_type": "pyout",
       "png": "[encoded data removed]",
       "prompt_number": 19,
       "text": [
        "\n",
        "log(2)\n",
        "\u2500\u2500\u2500\u2500\u2500\u2500\n",
        "  2   "
       ]
      }
     ],
     "prompt_number": 19
    },
    {
     "cell_type": "code",
     "collapsed": false,
     "input": [
      "entropy(represent(d2,format=\"numpy\"))"
     ],
     "language": "python",
     "metadata": {},
     "outputs": [
      {
       "output_type": "pyout",
       "prompt_number": 20,
       "text": [
        "(0.69314718056-0j)"
       ]
      }
     ],
     "prompt_number": 20
    },
    {
     "cell_type": "code",
     "collapsed": false,
     "input": [
      "entropy(represent(d2,format=\"scipy.sparse\"))"
     ],
     "language": "python",
     "metadata": {},
     "outputs": [
      {
       "output_type": "pyout",
       "prompt_number": 21,
       "text": [
        "(0.69314718056-0j)"
       ]
      }
     ],
     "prompt_number": 21
    },
    {
     "cell_type": "markdown",
     "metadata": {},
     "source": [
      "## Density operators with Tensor Products as args"
     ]
    },
    {
     "cell_type": "code",
     "collapsed": false,
     "input": [
      "from sympy.core.trace import Tr\n",
      "\n",
      "A, B, C, D = symbols('A B C D',commutative=False)\n",
      "\n",
      "t1 = TensorProduct(A,B,C)\n",
      "\n",
      "d = Density([t1, 1.0])\n",
      "d.doit()\n",
      "\n",
      "t2 = TensorProduct(A,B)\n",
      "t3 = TensorProduct(C,D)\n",
      "\n",
      "d = Density([t2, 0.5], [t3, 0.5])\n",
      "d.doit() "
     ],
     "language": "python",
     "metadata": {},
     "outputs": [
      {
       "latex": [
        "$$0.5 \\left({A A^{\\dagger}}\\right)\\otimes \\left({B B^{\\dagger}}\\right) + 0.5 \\left({C C^{\\dagger}}\\right)\\otimes \\left({D D^{\\dagger}}\\right)$$"
       ],
       "output_type": "pyout",
       "png": "[encoded data removed]",
       "prompt_number": 22,
       "text": [
        "\n",
        "    \u239b   \u2020\u239e  \u239b   \u2020\u239e       \u239b   \u2020\u239e  \u239b   \u2020\u239e\n",
        "0.5\u22c5\u239dA\u22c5A \u23a0\u2a02 \u239dB\u22c5B \u23a0 + 0.5\u22c5\u239dC\u22c5C \u23a0\u2a02 \u239dD\u22c5D \u23a0"
       ]
      }
     ],
     "prompt_number": 22
    },
    {
     "cell_type": "code",
     "collapsed": false,
     "input": [
      "#mixed states\n",
      "d = Density([t2+t3, 1.0])\n",
      "d.doit() "
     ],
     "language": "python",
     "metadata": {},
     "outputs": [
      {
       "latex": [
        "$$1.0 \\left({A A^{\\dagger}}\\right)\\otimes \\left({B B^{\\dagger}}\\right) + 1.0 \\left({A C^{\\dagger}}\\right)\\otimes \\left({B D^{\\dagger}}\\right) + 1.0 \\left({C A^{\\dagger}}\\right)\\otimes \\left({D B^{\\dagger}}\\right) + 1.0 \\left({C C^{\\dagger}}\\right)\\otimes \\left({D D^{\\dagger}}\\right)$$"
       ],
       "output_type": "pyout",
       "png": "[encoded data removed]",
       "prompt_number": 23,
       "text": [
        "\n",
        "    \u239b   \u2020\u239e  \u239b   \u2020\u239e       \u239b   \u2020\u239e  \u239b   \u2020\u239e       \u239b   \u2020\u239e  \u239b   \u2020\u239e       \u239b   \u2020\u239e  \u239b  \n",
        "1.0\u22c5\u239dA\u22c5A \u23a0\u2a02 \u239dB\u22c5B \u23a0 + 1.0\u22c5\u239dA\u22c5C \u23a0\u2a02 \u239dB\u22c5D \u23a0 + 1.0\u22c5\u239dC\u22c5A \u23a0\u2a02 \u239dD\u22c5B \u23a0 + 1.0\u22c5\u239dC\u22c5C \u23a0\u2a02 \u239dD\u22c5\n",
        "\n",
        " \u2020\u239e\n",
        "D \u23a0"
       ]
      }
     ],
     "prompt_number": 23
    },
    {
     "cell_type": "markdown",
     "metadata": {},
     "source": [
      "## Trace operators on Density Operators with Spin States"
     ]
    },
    {
     "cell_type": "code",
     "collapsed": false,
     "input": [
      "from sympy.physics.quantum.density import Density\n",
      "from sympy.physics.quantum.spin import (\n",
      "    Jx, Jy, Jz, Jplus, Jminus, J2,\n",
      "    JxBra, JyBra, JzBra,\n",
      "    JxKet, JyKet, JzKet,\n",
      ")\n",
      "from sympy.core.trace import Tr\n",
      "\n",
      "d = Density([JzKet(1,1),0.5],[JzKet(1,-1),0.5]);\n",
      "t = Tr(d); \n",
      "\n",
      "display_pretty(t)\n",
      "print t.doit()"
     ],
     "language": "python",
     "metadata": {},
     "outputs": [
      {
       "output_type": "display_data",
       "text": [
        "Tr(\u03c1((\u27581,1\u27e9, 0.5),(\u27581,-1\u27e9, 0.5)))"
       ]
      },
      {
       "output_type": "stream",
       "stream": "stdout",
       "text": [
        "1.00000000000000\n"
       ]
      }
     ],
     "prompt_number": 24
    },
    {
     "cell_type": "markdown",
     "metadata": {},
     "source": [
      "## Partial Trace on Density Operators with Mixed State"
     ]
    },
    {
     "cell_type": "code",
     "collapsed": false,
     "input": [
      "#Partial trace on mixed state\n",
      "from sympy.core.trace import Tr\n",
      "\n",
      "A, B, C, D = symbols('A B C D',commutative=False)\n",
      "\n",
      "t1 = TensorProduct(A,B,C)\n",
      "\n",
      "d = Density([t1, 1.0])\n",
      "d.doit()\n",
      "\n",
      "t2 = TensorProduct(A,B)\n",
      "t3 = TensorProduct(C,D)\n",
      "\n",
      "d = Density([t2, 0.5], [t3, 0.5])\n",
      "\n",
      "\n",
      "tr = Tr(d,[1])\n",
      "tr.doit()"
     ],
     "language": "python",
     "metadata": {},
     "outputs": [
      {
       "latex": [
        "$$0.5 A A^{\\dagger} \\mbox{Tr}\\left(B B^{\\dagger}\\right) + 0.5 C C^{\\dagger} \\mbox{Tr}\\left(D D^{\\dagger}\\right)$$"
       ],
       "output_type": "pyout",
       "prompt_number": 25,
       "text": [
        "\n",
        "       \u2020       \u2020           \u2020       \u2020 \n",
        "0.5\u22c5A\u22c5A \u22c5Tr(B\u22c5B ) + 0.5\u22c5C\u22c5C \u22c5Tr(D\u22c5D )"
       ]
      }
     ],
     "prompt_number": 25
    },
    {
     "cell_type": "markdown",
     "metadata": {},
     "source": [
      "## Partial Trace on Density Operators with Spin states"
     ]
    },
    {
     "cell_type": "code",
     "collapsed": false,
     "input": [
      "from sympy.physics.quantum.density import Density\n",
      "from sympy.physics.quantum.spin import (\n",
      "    Jx, Jy, Jz, Jplus, Jminus, J2,\n",
      "    JxBra, JyBra, JzBra,\n",
      "    JxKet, JyKet, JzKet,\n",
      ")\n",
      "from sympy.core.trace import Tr\n",
      "\n",
      "tp1 = TensorProduct(JzKet(1,1), JzKet(1,-1))\n",
      "\n",
      "#trace out 0 index\n",
      "d = Density([tp1,1]);\n",
      "t = Tr(d,[0]); \n",
      "\n",
      "display_pretty(t)\n",
      "display_pretty(t.doit())\n",
      "\n",
      "#trace out 1 index\n",
      "t = Tr(d,[1])\n",
      "display_pretty(t)\n",
      "t.doit()"
     ],
     "language": "python",
     "metadata": {},
     "outputs": [
      {
       "output_type": "display_data",
       "text": [
        "Tr((\u27581,1\u27e9\u2a02 \u27581,-1\u27e9, 1))"
       ]
      },
      {
       "output_type": "display_data",
       "text": [
        "\u27581,-1\u27e9\u27e81,-1\u2758"
       ]
      },
      {
       "output_type": "display_data",
       "text": [
        "Tr((\u27581,1\u27e9\u2a02 \u27581,-1\u27e9, 1))"
       ]
      },
      {
       "latex": [
        "$${\\left|1,1\\right\\rangle }{\\left\\langle 1,1\\right|}$$"
       ],
       "output_type": "pyout",
       "png": "[encoded data removed]",
       "prompt_number": 26,
       "text": [
        "\u27581,1\u27e9\u27e81,1\u2758"
       ]
      }
     ],
     "prompt_number": 26
    },
    {
     "cell_type": "markdown",
     "metadata": {},
     "source": [
      "## Examples of qapply() on Density matrices with spin states"
     ]
    },
    {
     "cell_type": "code",
     "collapsed": false,
     "input": [
      "psi = Ket('psi')\n",
      "phi = Ket('phi')\n",
      "\n",
      "u = UnitaryOperator()\n",
      "d = Density((psi,0.5),(phi,0.5)); d\n",
      "\n",
      "display_pretty(qapply(u*d))\n",
      " \n",
      "# another example\n",
      "up = JzKet(S(1)/2, S(1)/2)\n",
      "down = JzKet(S(1)/2, -S(1)/2)\n",
      "d = Density((up,0.5),(down,0.5))\n",
      "\n",
      "uMat = Matrix([[0,1],[1,0]])\n",
      "display_pretty(qapply(uMat*d))\n",
      "\n",
      "\n"
     ],
     "language": "python",
     "metadata": {},
     "outputs": [
      {
       "output_type": "display_data",
       "text": [
        "O\u22c5\u03c1((\u2758\u03c8\u27e9, 0.5),(\u2758\u03c6\u27e9, 0.5))"
       ]
      },
      {
       "output_type": "display_data",
       "text": [
        "\n",
        "\u23a1                  0                    \u03c1((\u27581/2,1/2\u27e9, 0.5),(\u27581/2,-1/2\u27e9, 0.5))\u23a4\n",
        "\u23a2                                                                            \u23a5\n",
        "\u23a3\u03c1((\u27581/2,1/2\u27e9, 0.5),(\u27581/2,-1/2\u27e9, 0.5))                    0                  \u23a6"
       ]
      }
     ],
     "prompt_number": 27
    },
    {
     "cell_type": "markdown",
     "metadata": {},
     "source": [
      "## Example of qapply() on Density Matrices with qubits"
     ]
    },
    {
     "cell_type": "code",
     "collapsed": false,
     "input": [
      "from sympy.physics.quantum.gate import UGate\n",
      "from sympy.physics.quantum.qubit import Qubit\n",
      "\n",
      "uMat = UGate((0,), Matrix([[0,1],[1,0]]))\n",
      "d = Density([Qubit('0'),0.5],[Qubit('1'), 0.5])\n",
      "\n",
      "display_pretty(d)\n",
      "\n",
      "#after applying Not gate\n",
      "display_pretty(qapply(uMat*d) )"
     ],
     "language": "python",
     "metadata": {},
     "outputs": [
      {
       "output_type": "display_data",
       "text": [
        "\u03c1((\u27580\u27e9, 0.5),(\u27581\u27e9, 0.5))"
       ]
      },
      {
       "output_type": "display_data",
       "text": [
        "\n",
        "U \u22c5\u03c1((\u27580\u27e9, 0.5),(\u27581\u27e9, 0.5))\n",
        " 0                         "
       ]
      }
     ],
     "prompt_number": 28
    },
    {
     "cell_type": "code",
     "collapsed": true,
     "input": [],
     "language": "python",
     "metadata": {},
     "outputs": [],
     "prompt_number": 28
    }
   ],
   "metadata": {}
  }
 ]
}