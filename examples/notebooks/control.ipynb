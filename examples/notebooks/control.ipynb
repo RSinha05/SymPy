{
 "cells": [
  {
   "cell_type": "code",
   "execution_count": 1,
   "metadata": {
    "collapsed": true,
    "deletable": true,
    "editable": true
   },
   "outputs": [],
   "source": [
    "import sympy\n",
    "import sympy.control as cn\n",
    "sympy.init_printing()"
   ]
  },
  {
   "cell_type": "markdown",
   "metadata": {
    "deletable": true,
    "editable": true
   },
   "source": [
    "# SISO Examples"
   ]
  },
  {
   "cell_type": "code",
   "execution_count": 2,
   "metadata": {
    "collapsed": false,
    "deletable": true,
    "editable": true
   },
   "outputs": [
    {
     "data": {
      "image/png": "[encoded data removed]",
      "text/latex": [
       "$$\\frac{s + 2}{s^{2} + 2 s + 3}$$"
      ],
      "text/plain": [
       "   s + 2    \n",
       "────────────\n",
       " 2          \n",
       "s  + 2⋅s + 3"
      ]
     },
     "execution_count": 2,
     "metadata": {},
     "output_type": "execute_result"
    }
   ],
   "source": [
    "tf1 = cn.tf([1, 2], [1, 2, 3])\n",
    "tf1"
   ]
  },
  {
   "cell_type": "markdown",
   "metadata": {
    "deletable": true,
    "editable": true
   },
   "source": [
    "You can call step/ramp and it will try to solve the inverse laplace transform and find the analytical response in the time-domain."
   ]
  },
  {
   "cell_type": "code",
   "execution_count": 3,
   "metadata": {
    "collapsed": false,
    "deletable": true,
    "editable": true
   },
   "outputs": [
    {
     "data": {
      "image/png": "[encoded data removed]",
      "text/latex": [
       "$$\\frac{\\theta\\left(t\\right)}{6} \\left(4 e^{t} + \\sqrt{2} \\sin{\\left (\\sqrt{2} t \\right )} - 4 \\cos{\\left (\\sqrt{2} t \\right )}\\right) e^{- t}$$"
      ],
      "text/plain": [
       "⎛   t                             ⎞  -t             \n",
       "⎝4⋅ℯ  + √2⋅sin(√2⋅t) - 4⋅cos(√2⋅t)⎠⋅ℯ  ⋅Heaviside(t)\n",
       "────────────────────────────────────────────────────\n",
       "                         6                          "
      ]
     },
     "execution_count": 3,
     "metadata": {},
     "output_type": "execute_result"
    }
   ],
   "source": [
    "tf1_step = cn.step(tf1)\n",
    "tf1_step"
   ]
  },
  {
   "cell_type": "code",
   "execution_count": 4,
   "metadata": {
    "collapsed": false,
    "deletable": true,
    "editable": true
   },
   "outputs": [
    {
     "data": {
      "image/png": "[encoded data removed]",
      "text/plain": [
       "<matplotlib.figure.Figure at 0x7fab6d60f518>"
      ]
     },
     "metadata": {},
     "output_type": "display_data"
    },
    {
     "data": {
      "text/plain": [
       "<sympy.plotting.plot.Plot at 0x7fab6d60f0f0>"
      ]
     },
     "execution_count": 4,
     "metadata": {},
     "output_type": "execute_result"
    }
   ],
   "source": [
    "sympy.plot(tf1_step)"
   ]
  },
  {
   "cell_type": "markdown",
   "metadata": {
    "deletable": true,
    "editable": true
   },
   "source": [
    "You can convert transfer function to state-space. It uses a Gilbert minimal realization."
   ]
  },
  {
   "cell_type": "code",
   "execution_count": 5,
   "metadata": {
    "collapsed": false,
    "deletable": true,
    "editable": true
   },
   "outputs": [
    {
     "data": {
      "image/png": "[encoded data removed]",
      "text/latex": [
       "$$\\left ( \\left[\\begin{matrix}-1 + \\sqrt{2} i & 0\\\\0 & -1 - \\sqrt{2} i\\end{matrix}\\right], \\quad \\left[\\begin{matrix}1\\\\1\\end{matrix}\\right], \\quad \\left[\\begin{matrix}\\frac{1}{2} - \\frac{\\sqrt{2} i}{4} & \\frac{1}{2} + \\frac{\\sqrt{2} i}{4}\\end{matrix}\\right], \\quad \\left[\\begin{matrix}0\\end{matrix}\\right], \\quad 0\\right )$$"
      ],
      "text/plain": [
       "⎛⎡-1 + √2⋅ⅈ      0    ⎤  ⎡1⎤  ⎡1   √2⋅ⅈ  1   √2⋅ⅈ⎤        ⎞\n",
       "⎜⎢                    ⎥, ⎢ ⎥, ⎢─ - ────  ─ + ────⎥, [0], 0⎟\n",
       "⎝⎣    0      -1 - √2⋅ⅈ⎦  ⎣1⎦  ⎣2    4    2    4  ⎦        ⎠"
      ]
     },
     "execution_count": 5,
     "metadata": {},
     "output_type": "execute_result"
    }
   ],
   "source": [
    "ss1 = cn.tf2ss(tf1)\n",
    "ss1"
   ]
  },
  {
   "cell_type": "markdown",
   "metadata": {
    "deletable": true,
    "editable": true
   },
   "source": [
    "And you can get the round-trip result back as a transfer function again. Note that it comes back in a matrix since it natively works with transfer function matrices."
   ]
  },
  {
   "cell_type": "code",
   "execution_count": 6,
   "metadata": {
    "collapsed": false,
    "deletable": true,
    "editable": true
   },
   "outputs": [
    {
     "data": {
      "image/png": "[encoded data removed]",
      "text/latex": [
       "$$\\left[\\begin{matrix}\\frac{s + 2}{s^{2} + 2 s + 3}\\end{matrix}\\right]$$"
      ],
      "text/plain": [
       "⎡   s + 2    ⎤\n",
       "⎢────────────⎥\n",
       "⎢ 2          ⎥\n",
       "⎣s  + 2⋅s + 3⎦"
      ]
     },
     "execution_count": 6,
     "metadata": {},
     "output_type": "execute_result"
    }
   ],
   "source": [
    "cn.ss2tf(ss1)"
   ]
  },
  {
   "cell_type": "markdown",
   "metadata": {
    "deletable": true,
    "editable": true
   },
   "source": [
    "There is also a convenience function for doing pade approximations."
   ]
  },
  {
   "cell_type": "code",
   "execution_count": 7,
   "metadata": {
    "collapsed": false,
    "deletable": true,
    "editable": true
   },
   "outputs": [
    {
     "data": {
      "image/png": "[encoded data removed]",
      "text/latex": [
       "$$\\frac{- s + 2}{s + 2}$$"
      ],
      "text/plain": [
       "-s + 2\n",
       "──────\n",
       "s + 2 "
      ]
     },
     "execution_count": 7,
     "metadata": {},
     "output_type": "execute_result"
    }
   ],
   "source": [
    "tf_delay = cn.pade(lambda x: sympy.exp(-x), 1)\n",
    "tf_delay"
   ]
  },
  {
   "cell_type": "code",
   "execution_count": 8,
   "metadata": {
    "collapsed": false,
    "deletable": true,
    "editable": true
   },
   "outputs": [
    {
     "data": {
      "image/png": "[encoded data removed]",
      "text/latex": [
       "$$\\theta\\left(t\\right) - 2 e^{- 2 t} \\theta\\left(t\\right)$$"
      ],
      "text/plain": [
       "                  -2⋅t             \n",
       "Heaviside(t) - 2⋅ℯ    ⋅Heaviside(t)"
      ]
     },
     "execution_count": 8,
     "metadata": {},
     "output_type": "execute_result"
    }
   ],
   "source": [
    "y_delay_step = cn.step(tf_delay)\n",
    "y_delay_step"
   ]
  },
  {
   "cell_type": "code",
   "execution_count": 9,
   "metadata": {
    "collapsed": false,
    "deletable": true,
    "editable": true
   },
   "outputs": [
    {
     "data": {
      "image/png": "[encoded data removed]",
      "text/plain": [
       "<matplotlib.figure.Figure at 0x7fab473fc438>"
      ]
     },
     "metadata": {},
     "output_type": "display_data"
    },
    {
     "data": {
      "text/plain": [
       "<sympy.plotting.plot.Plot at 0x7fab473fc048>"
      ]
     },
     "execution_count": 9,
     "metadata": {},
     "output_type": "execute_result"
    }
   ],
   "source": [
    "sympy.plot(y_delay_step)"
   ]
  },
  {
   "cell_type": "markdown",
   "metadata": {
    "deletable": true,
    "editable": true
   },
   "source": [
    "# MIMO"
   ]
  },
  {
   "cell_type": "markdown",
   "metadata": {
    "deletable": true,
    "editable": true
   },
   "source": [
    "The tf2ss and ss2tf also work for MIMO."
   ]
  },
  {
   "cell_type": "code",
   "execution_count": 10,
   "metadata": {
    "collapsed": false,
    "deletable": true,
    "editable": true
   },
   "outputs": [
    {
     "data": {
      "image/png": "[encoded data removed]",
      "text/latex": [
       "$$\\left[\\begin{matrix}\\frac{s + 2}{s^{2} + 2 s + 3}\\\\\\frac{2 s + 3}{s^{2} + 4 s + 3}\\end{matrix}\\right]$$"
      ],
      "text/plain": [
       "⎡   s + 2    ⎤\n",
       "⎢────────────⎥\n",
       "⎢ 2          ⎥\n",
       "⎢s  + 2⋅s + 3⎥\n",
       "⎢            ⎥\n",
       "⎢  2⋅s + 3   ⎥\n",
       "⎢────────────⎥\n",
       "⎢ 2          ⎥\n",
       "⎣s  + 4⋅s + 3⎦"
      ]
     },
     "execution_count": 10,
     "metadata": {},
     "output_type": "execute_result"
    }
   ],
   "source": [
    "tfm1 = sympy.Matrix([\n",
    "    cn.tf([1, 2], [1, 2, 3]),\n",
    "    cn.tf([2, 3], [1, 4, 3]),\n",
    "])\n",
    "tfm1"
   ]
  },
  {
   "cell_type": "code",
   "execution_count": 11,
   "metadata": {
    "collapsed": false,
    "deletable": true,
    "editable": true
   },
   "outputs": [
    {
     "data": {
      "image/png": "[encoded data removed]",
      "text/latex": [
       "$$\\left ( \\left[\\begin{matrix}-1 + \\sqrt{2} i & 0 & 0 & 0\\\\0 & -1 - \\sqrt{2} i & 0 & 0\\\\0 & 0 & -3 & 0\\\\0 & 0 & 0 & -1\\end{matrix}\\right], \\quad \\left[\\begin{matrix}1\\\\1\\\\1\\\\1\\end{matrix}\\right], \\quad \\left[\\begin{matrix}\\frac{1}{2} - \\frac{\\sqrt{2} i}{4} & \\frac{1}{2} + \\frac{\\sqrt{2} i}{4} & 0 & 0\\\\0 & 0 & \\frac{3}{2} & \\frac{1}{2}\\end{matrix}\\right], \\quad \\left[\\begin{matrix}0\\\\0\\end{matrix}\\right], \\quad 0\\right )$$"
      ],
      "text/plain": [
       "⎛⎡-1 + √2⋅ⅈ      0      0   0 ⎤  ⎡1⎤                                        ⎞\n",
       "⎜⎢                            ⎥  ⎢ ⎥  ⎡1   √2⋅ⅈ  1   √2⋅ⅈ          ⎤        ⎟\n",
       "⎜⎢    0      -1 - √2⋅ⅈ  0   0 ⎥  ⎢1⎥  ⎢─ - ────  ─ + ────   0    0 ⎥  ⎡0⎤   ⎟\n",
       "⎜⎢                            ⎥, ⎢ ⎥, ⎢2    4    2    4            ⎥, ⎢ ⎥, 0⎟\n",
       "⎜⎢    0          0      -3  0 ⎥  ⎢1⎥  ⎢                            ⎥  ⎣0⎦   ⎟\n",
       "⎜⎢                            ⎥  ⎢ ⎥  ⎣   0         0      3/2  1/2⎦        ⎟\n",
       "⎝⎣    0          0      0   -1⎦  ⎣1⎦                                        ⎠"
      ]
     },
     "execution_count": 11,
     "metadata": {},
     "output_type": "execute_result"
    }
   ],
   "source": [
    "ss1 = cn.tf2ss(tfm1)\n",
    "ss1"
   ]
  },
  {
   "cell_type": "code",
   "execution_count": 12,
   "metadata": {
    "collapsed": false,
    "deletable": true,
    "editable": true
   },
   "outputs": [
    {
     "data": {
      "image/png": "[encoded data removed]",
      "text/latex": [
       "$$\\left[\\begin{matrix}\\frac{s + 2}{s^{2} + 2 s + 3}\\\\\\frac{2 s + 3}{\\left(s + 1\\right) \\left(s + 3\\right)}\\end{matrix}\\right]$$"
      ],
      "text/plain": [
       "⎡    s + 2      ⎤\n",
       "⎢ ────────────  ⎥\n",
       "⎢  2            ⎥\n",
       "⎢ s  + 2⋅s + 3  ⎥\n",
       "⎢               ⎥\n",
       "⎢    2⋅s + 3    ⎥\n",
       "⎢───────────────⎥\n",
       "⎣(s + 1)⋅(s + 3)⎦"
      ]
     },
     "execution_count": 12,
     "metadata": {},
     "output_type": "execute_result"
    }
   ],
   "source": [
    "cn.ss2tf(ss1)"
   ]
  }
 ],
 "metadata": {
  "anaconda-cloud": {},
  "kernelspec": {
   "display_name": "Python [conda root]",
   "language": "python",
   "name": "conda-root-py"
  },
  "language_info": {
   "codemirror_mode": {
    "name": "ipython",
    "version": 3
   },
   "file_extension": ".py",
   "mimetype": "text/x-python",
   "name": "python",
   "nbconvert_exporter": "python",
   "pygments_lexer": "ipython3",
   "version": "3.5.3"
  }
 },
 "nbformat": 4,
 "nbformat_minor": 2
}
