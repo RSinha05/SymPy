{
 "metadata": {
  "name": "",
  "signature": "sha256:e9c1f509007d4d170e0f4e85c445eb580450cb931ad126af22d122875e7683a7"
 },
 "nbformat": 3,
 "nbformat_minor": 0,
 "worksheets": [
  {
   "cells": [
    {
     "cell_type": "markdown",
     "metadata": {},
     "source": [
      "#The use of lambdify() function to evaluate numerical results faster"
     ]
    },
    {
     "cell_type": "markdown",
     "metadata": {},
     "source": [
      "Since SymPy is primarily a symbolic mathematical library, numerical computation though possible by `evalf()` method and `N()` function, is slow.\n",
      "\n",
      "The `sympy.utilities.lambdify` module is used to transform sympy expressions to lambda functions which can calculate numerical values more efficiently.\n",
      "\n"
     ]
    },
    {
     "cell_type": "markdown",
     "metadata": {},
     "source": [
      "\n",
      "If not specified differently by the user, SymPy functions are replaced as far as possible by either python-math, numpy (if available) or mpmath functions - exactly in this order. \n",
      "\n",
      "\n",
      "We will investigate the effect of `lambdify` function with `numpy` module on the speed of numerical computation  and compare it with computation in SymPy natively. \n",
      "\n",
      "**All the tests are run on quadcore Intel\u00ae Core\u2122 i5-3210M CPU @ 2.50GHz on a 64-bit Ubuntu 14.04 installation**\n",
      "\n",
      "\n",
      "\n",
      "   "
     ]
    },
    {
     "cell_type": "markdown",
     "metadata": {},
     "source": [
      "\n",
      "##Using the `lambdify()` function. "
     ]
    },
    {
     "cell_type": "code",
     "collapsed": false,
     "input": [
      "from IPython.display import display\n",
      "from sympy.interactive import printing\n",
      "printing.init_printing(use_latex='mathjax')\n",
      "from __future__ import division\n",
      "import sympy as sym\n",
      "from sympy import *\n",
      "import numpy as np\n",
      "from numpy import *"
     ],
     "language": "python",
     "metadata": {},
     "outputs": [],
     "prompt_number": 1
    },
    {
     "cell_type": "markdown",
     "metadata": {},
     "source": [
      "\n",
      "\n",
      "Defining a SymPy symbol `xs`"
     ]
    },
    {
     "cell_type": "code",
     "collapsed": false,
     "input": [
      "xs = symbols('x')"
     ],
     "language": "python",
     "metadata": {},
     "outputs": [],
     "prompt_number": 2
    },
    {
     "cell_type": "markdown",
     "metadata": {},
     "source": [
      "Creating a symbolic function fn"
     ]
    },
    {
     "cell_type": "code",
     "collapsed": false,
     "input": [
      "fn = xs**2\n",
      "fn"
     ],
     "language": "python",
     "metadata": {},
     "outputs": [
      {
       "latex": [
        "$$x^{2}$$"
       ],
       "metadata": {},
       "output_type": "pyout",
       "prompt_number": 3,
       "text": [
        " 2\n",
        "x "
       ]
      }
     ],
     "prompt_number": 3
    },
    {
     "cell_type": "markdown",
     "metadata": {},
     "source": [
      "Now using the `lambdified` function on fn"
     ]
    },
    {
     "cell_type": "code",
     "collapsed": false,
     "input": [
      "fn_lambdified = lambdify(xs,xs**2)"
     ],
     "language": "python",
     "metadata": {},
     "outputs": [],
     "prompt_number": 4
    },
    {
     "cell_type": "markdown",
     "metadata": {},
     "source": [
      "Using `numpy` modules `linspace` to create an array x with 1000 datapoints between 0 & 1"
     ]
    },
    {
     "cell_type": "code",
     "collapsed": false,
     "input": [
      "x = np.linspace(0,1,1000)"
     ],
     "language": "python",
     "metadata": {},
     "outputs": [],
     "prompt_number": 5
    },
    {
     "cell_type": "markdown",
     "metadata": {},
     "source": [
      "Using IPython Notebook command **`%timeit`** to record the time taken to run the command"
     ]
    },
    {
     "cell_type": "code",
     "collapsed": false,
     "input": [
      "%timeit fn_lambdified(x)"
     ],
     "language": "python",
     "metadata": {},
     "outputs": [
      {
       "output_type": "stream",
       "stream": "stdout",
       "text": [
        "100000 loops, best of 3: 2.2 \u00b5s per loop\n"
       ]
      }
     ],
     "prompt_number": 6
    },
    {
     "cell_type": "markdown",
     "metadata": {},
     "source": [
      "**Result: 2.2 \u00b5s**. \n",
      "\n",
      "Comparing this with the time taken to run the same numerical calcuation in Sympy natively"
     ]
    },
    {
     "cell_type": "code",
     "collapsed": false,
     "input": [
      "%timeit ans= [fn.subs(xs, i) for i in x]"
     ],
     "language": "python",
     "metadata": {},
     "outputs": [
      {
       "output_type": "stream",
       "stream": "stdout",
       "text": [
        "1 loops, best of 3: 135 ms per loop\n"
       ]
      }
     ],
     "prompt_number": 7
    },
    {
     "cell_type": "markdown",
     "metadata": {},
     "source": [
      "Time taken is **135 ms**, more by a factor of **65,000**.\n",
      "\n",
      "\n",
      "\n",
      "\n",
      "##Taylor series expansion of $e^{x}$\n",
      "\n",
      "Now, taking a more robust example to study the variation of runtime with increasing complexity of the base function. \n",
      "We will use a Taylor series expansion of varying degree for the exponential function : $e^{x}$"
     ]
    },
    {
     "cell_type": "markdown",
     "metadata": {},
     "source": [
      "\n",
      "Defining the function:"
     ]
    },
    {
     "cell_type": "code",
     "collapsed": false,
     "input": [
      "fn = E**xs\n",
      "fn"
     ],
     "language": "python",
     "metadata": {},
     "outputs": [
      {
       "latex": [
        "$$e^{x}$$"
       ],
       "metadata": {},
       "output_type": "pyout",
       "prompt_number": 8,
       "text": [
        " x\n",
        "\u212f "
       ]
      }
     ],
     "prompt_number": 8
    },
    {
     "cell_type": "markdown",
     "metadata": {},
     "source": [
      "###Creating a 1st order Taylor series expansion"
     ]
    },
    {
     "cell_type": "markdown",
     "metadata": {},
     "source": [
      "`removeO()` removes the `O` term from the expansion"
     ]
    },
    {
     "cell_type": "code",
     "collapsed": false,
     "input": [
      "fn_taylor = fn.series(xs,0,2).removeO()\n",
      "fn_taylor"
     ],
     "language": "python",
     "metadata": {},
     "outputs": [
      {
       "latex": [
        "$$x + 1$$"
       ],
       "metadata": {},
       "output_type": "pyout",
       "prompt_number": 9,
       "text": [
        "x + 1"
       ]
      }
     ],
     "prompt_number": 9
    },
    {
     "cell_type": "markdown",
     "metadata": {},
     "source": [
      "Using `lambdify` on `fn_taylor` and timing the numerical computation done using `numpy` module"
     ]
    },
    {
     "cell_type": "code",
     "collapsed": false,
     "input": [
      "fn_taylor_lambdified = lambdify(xs, fn_taylor, modules=['numpy'])\n",
      "%timeit fn_taylor_lambdified(x)"
     ],
     "language": "python",
     "metadata": {},
     "outputs": [
      {
       "output_type": "stream",
       "stream": "stdout",
       "text": [
        "100000 loops, best of 3: 3.96 \u00b5s per loop\n"
       ]
      }
     ],
     "prompt_number": 10
    },
    {
     "cell_type": "markdown",
     "metadata": {},
     "source": [
      "**Result: 3.96 \u00b5s**\n",
      "\n",
      "Timing the same execution in SymPy itself"
     ]
    },
    {
     "cell_type": "code",
     "collapsed": false,
     "input": [
      "%timeit ans = [fn_taylor.subs(xs, i) for i in x]"
     ],
     "language": "python",
     "metadata": {},
     "outputs": [
      {
       "output_type": "stream",
       "stream": "stdout",
       "text": [
        "1 loops, best of 3: 188 ms per loop\n"
       ]
      }
     ],
     "prompt_number": 11
    },
    {
     "cell_type": "markdown",
     "metadata": {},
     "source": [
      "**Result: 188 ms**\n",
      "\n",
      "\n",
      "###Creating a 2nd order Taylor series expansion"
     ]
    },
    {
     "cell_type": "code",
     "collapsed": false,
     "input": [
      "fn_taylor = fn.series(xs,0,3).removeO()\n",
      "fn_taylor"
     ],
     "language": "python",
     "metadata": {},
     "outputs": [
      {
       "latex": [
        "$$\\frac{x^{2}}{2} + x + 1$$"
       ],
       "metadata": {},
       "output_type": "pyout",
       "prompt_number": 12,
       "text": [
        " 2        \n",
        "x         \n",
        "\u2500\u2500 + x + 1\n",
        "2         "
       ]
      }
     ],
     "prompt_number": 12
    },
    {
     "cell_type": "markdown",
     "metadata": {},
     "source": [
      "Using the `lambdify()` function and timing the operation for both cases"
     ]
    },
    {
     "cell_type": "code",
     "collapsed": false,
     "input": [
      "fn_taylor_lambdified = lambdify(xs, fn_taylor, modules=['numpy'])\n",
      "%timeit fn_taylor_lambdified(x)"
     ],
     "language": "python",
     "metadata": {},
     "outputs": [
      {
       "output_type": "stream",
       "stream": "stdout",
       "text": [
        "100000 loops, best of 3: 13.9 \u00b5s per loop\n"
       ]
      }
     ],
     "prompt_number": 13
    },
    {
     "cell_type": "markdown",
     "metadata": {},
     "source": [
      "**Result: 13.9 \u00b5s**"
     ]
    },
    {
     "cell_type": "code",
     "collapsed": false,
     "input": [
      "%timeit ans = [fn_taylor.subs(xs, i) for i in x]"
     ],
     "language": "python",
     "metadata": {},
     "outputs": [
      {
       "output_type": "stream",
       "stream": "stdout",
       "text": [
        "1 loops, best of 3: 534 ms per loop\n"
       ]
      }
     ],
     "prompt_number": 14
    },
    {
     "cell_type": "markdown",
     "metadata": {},
     "source": [
      "**Result: 534 ms**\n",
      "\n",
      "\n",
      "###Creating a 3rd order Taylor series expansion"
     ]
    },
    {
     "cell_type": "code",
     "collapsed": false,
     "input": [
      "fn_taylor = fn.series(xs,0,4).removeO()\n",
      "fn_taylor"
     ],
     "language": "python",
     "metadata": {},
     "outputs": [
      {
       "latex": [
        "$$\\frac{x^{3}}{6} + \\frac{x^{2}}{2} + x + 1$$"
       ],
       "metadata": {},
       "output_type": "pyout",
       "prompt_number": 15,
       "text": [
        " 3    2        \n",
        "x    x         \n",
        "\u2500\u2500 + \u2500\u2500 + x + 1\n",
        "6    2         "
       ]
      }
     ],
     "prompt_number": 15
    },
    {
     "cell_type": "markdown",
     "metadata": {},
     "source": [
      "Using the `lambdify()` function and timing the operation for both cases"
     ]
    },
    {
     "cell_type": "code",
     "collapsed": false,
     "input": [
      "fn_taylor_lambdified = lambdify(xs, fn_taylor, modules=['numpy'])\n",
      "%timeit fn_taylor_lambdified(x)"
     ],
     "language": "python",
     "metadata": {},
     "outputs": [
      {
       "output_type": "stream",
       "stream": "stdout",
       "text": [
        "10000 loops, best of 3: 98.6 \u00b5s per loop\n"
       ]
      }
     ],
     "prompt_number": 16
    },
    {
     "cell_type": "markdown",
     "metadata": {},
     "source": [
      "**Result: 98.6 \u00b5s**"
     ]
    },
    {
     "cell_type": "code",
     "collapsed": false,
     "input": [
      "%timeit ans = [fn_taylor.subs(xs, i) for i in x]"
     ],
     "language": "python",
     "metadata": {},
     "outputs": [
      {
       "output_type": "stream",
       "stream": "stdout",
       "text": [
        "1 loops, best of 3: 942 ms per loop\n"
       ]
      }
     ],
     "prompt_number": 17
    },
    {
     "cell_type": "markdown",
     "metadata": {},
     "source": [
      "**Result: 942 ms**\n",
      "\n",
      "\n",
      "###Creating a 4th order Taylor series expansion"
     ]
    },
    {
     "cell_type": "code",
     "collapsed": false,
     "input": [
      "fn_taylor = fn.series(xs,0,5).removeO()\n",
      "fn_taylor"
     ],
     "language": "python",
     "metadata": {},
     "outputs": [
      {
       "latex": [
        "$$\\frac{x^{4}}{24} + \\frac{x^{3}}{6} + \\frac{x^{2}}{2} + x + 1$$"
       ],
       "metadata": {},
       "output_type": "pyout",
       "prompt_number": 18,
       "text": [
        " 4    3    2        \n",
        "x    x    x         \n",
        "\u2500\u2500 + \u2500\u2500 + \u2500\u2500 + x + 1\n",
        "24   6    2         "
       ]
      }
     ],
     "prompt_number": 18
    },
    {
     "cell_type": "markdown",
     "metadata": {},
     "source": [
      "Using the `lambdify()` function and timing the operation for both cases"
     ]
    },
    {
     "cell_type": "code",
     "collapsed": false,
     "input": [
      "fn_taylor_lambdified = lambdify(xs, fn_taylor, modules=['numpy'])\n",
      "%timeit fn_taylor_lambdified(x)"
     ],
     "language": "python",
     "metadata": {},
     "outputs": [
      {
       "output_type": "stream",
       "stream": "stdout",
       "text": [
        "1000 loops, best of 3: 179 \u00b5s per loop\n"
       ]
      }
     ],
     "prompt_number": 19
    },
    {
     "cell_type": "markdown",
     "metadata": {},
     "source": [
      "**Result: 179 \u00b5s**"
     ]
    },
    {
     "cell_type": "code",
     "collapsed": false,
     "input": [
      "%timeit ans = [fn_taylor.subs(xs, i) for i in x]"
     ],
     "language": "python",
     "metadata": {},
     "outputs": [
      {
       "output_type": "stream",
       "stream": "stdout",
       "text": [
        "1 loops, best of 3: 1.27 s per loop\n"
       ]
      }
     ],
     "prompt_number": 20
    },
    {
     "cell_type": "markdown",
     "metadata": {},
     "source": [
      "**Result: 1.27 s**\n",
      "\n",
      "\n",
      "###Creating a 5th order Taylor series expansion"
     ]
    },
    {
     "cell_type": "code",
     "collapsed": false,
     "input": [
      "fn_taylor = fn.series(xs,0,6).removeO()\n",
      "fn_taylor"
     ],
     "language": "python",
     "metadata": {},
     "outputs": [
      {
       "latex": [
        "$$\\frac{x^{5}}{120} + \\frac{x^{4}}{24} + \\frac{x^{3}}{6} + \\frac{x^{2}}{2} + x + 1$$"
       ],
       "metadata": {},
       "output_type": "pyout",
       "prompt_number": 21,
       "text": [
        "  5    4    3    2        \n",
        " x    x    x    x         \n",
        "\u2500\u2500\u2500 + \u2500\u2500 + \u2500\u2500 + \u2500\u2500 + x + 1\n",
        "120   24   6    2         "
       ]
      }
     ],
     "prompt_number": 21
    },
    {
     "cell_type": "markdown",
     "metadata": {},
     "source": [
      "Using the `lambdify()` function and timing the operation for both cases"
     ]
    },
    {
     "cell_type": "code",
     "collapsed": false,
     "input": [
      "fn_taylor_lambdified = lambdify(xs, fn_taylor, modules=['numpy'])\n",
      "%timeit fn_taylor_lambdified(x)"
     ],
     "language": "python",
     "metadata": {},
     "outputs": [
      {
       "output_type": "stream",
       "stream": "stdout",
       "text": [
        "1000 loops, best of 3: 265 \u00b5s per loop\n"
       ]
      }
     ],
     "prompt_number": 22
    },
    {
     "cell_type": "markdown",
     "metadata": {},
     "source": [
      "**Result: 265 \u00b5s**"
     ]
    },
    {
     "cell_type": "code",
     "collapsed": false,
     "input": [
      "%timeit ans = [fn_taylor.subs(xs, i) for i in x]"
     ],
     "language": "python",
     "metadata": {},
     "outputs": [
      {
       "output_type": "stream",
       "stream": "stdout",
       "text": [
        "1 loops, best of 3: 1.61 s per loop\n"
       ]
      }
     ],
     "prompt_number": 23
    },
    {
     "cell_type": "markdown",
     "metadata": {},
     "source": [
      "**Result: 1.61 s**\n",
      "\n",
      "##Creating a plot to contrast the difference in runtime"
     ]
    },
    {
     "cell_type": "code",
     "collapsed": false,
     "input": [
      "%matplotlib inline\n",
      "import matplotlib.pyplot as plt"
     ],
     "language": "python",
     "metadata": {},
     "outputs": [],
     "prompt_number": 24
    },
    {
     "cell_type": "markdown",
     "metadata": {},
     "source": [
      "Creating a list of the runtimes from the `%timeit` commands"
     ]
    },
    {
     "cell_type": "code",
     "collapsed": false,
     "input": [
      "xl = [1,2,3,4,5]\n",
      "yl = [3.96, 13.8, 98.6, 179, 256]\n",
      "ynl = [188000, 534000, 942000, 1270000, 1610000]"
     ],
     "language": "python",
     "metadata": {},
     "outputs": [],
     "prompt_number": 25
    },
    {
     "cell_type": "markdown",
     "metadata": {},
     "source": [
      "Generating the plots with different scales for each case. "
     ]
    },
    {
     "cell_type": "code",
     "collapsed": false,
     "input": [
      "fig, ax1 = plt.subplots()\n",
      "ax1.plot(xl, yl, 'b-', lw=2)\n",
      "ax1.set_xlabel('Order of Taylor series expansion')\n",
      "# Make the y-axis label and tick labels match the line color.\n",
      "ax1.set_ylabel('Lambdified', color='b')\n",
      "for tl in ax1.get_yticklabels():\n",
      "    tl.set_color('b')\n",
      "\n",
      "ax2 = ax1.twinx()\n",
      "ax2.plot(xl, ynl, 'r-', lw=2)\n",
      "ax2.set_ylabel('Not lambdified', color='r')\n",
      "for tl in ax2.get_yticklabels():\n",
      "    tl.set_color('r')\n",
      "plt.title(\"Difference in runtimes for both cases\")\n",
      "plt.show()"
     ],
     "language": "python",
     "metadata": {},
     "outputs": [
      {
       "metadata": {},
       "output_type": "display_data",
       "png": "[encoded data removed]",
       "text": [
        "<matplotlib.figure.Figure at 0x7fb23611b910>"
       ]
      }
     ],
     "prompt_number": 26
    },
    {
     "cell_type": "markdown",
     "metadata": {},
     "source": [
      "####Note the difference in the scale required to get approximately the same curves in both the cases\n",
      "\n",
      "\n",
      "High-precision calculations can be slow, hence it is recommended (but entirely optional) to install gmpy (http://code.google.com/p/gmpy/), which will significantly speed up computations such as the one above."
     ]
    }
   ],
   "metadata": {}
  }
 ]
}