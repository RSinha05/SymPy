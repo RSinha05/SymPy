{
 "cells": [
  {
   "cell_type": "markdown",
   "metadata": {},
   "source": [
    "# The Rabbits Problem\n",
    "## Introduction\n",
    "\n",
    "In the book \"Liber Abaci\" Leonardo of Pisa stated the following problem.\n",
    "\n",
    "Consider the set of rabbits satisfying following conditions:\n",
    "\n",
    "1. Rabbits are able to mate at the age of one month.\n",
    "2. Mating always produces new pair of rabbits (one male, one female).\n",
    "3. Mature pair produces one new pair every month.\n",
    "4. Rabbits never die.\n",
    "\n",
    "Starting from one pair of newborns, how many pairs will there be after one year?\n",
    "\n",
    "Now, let's solve it in several ways using SymPy.\n",
    "\n",
    "## Restructuring the problem\n",
    "\n",
    "Unfortunately SymPy doesn't know anything about rabbits, so we need to state the problem in more abstract way. Firstly let's compute first few values: \n",
    "\n",
    "1. In the first month we have only the initial pair of immature rabbits.\n",
    "2. In the second month initial pair is mature, but still hasn't given birth.\n",
    "3. In the third month initial pair gives birth and we have _two_ pairs now.\n",
    "4. After three months initial pair gives second birth, what makes _three_ pairs. \n",
    "\n",
    "Now, let's denote $F_n$ the number of pairs in $n$th month. We have $F_1=1$ and $F_2=1$. We can also see that $F_n=F_{n-1}+F_{n-2}$. This holds because in $n$th month we have all pairs from $(n-1)$th month, and every pair which is more than one month old (i.e. that which was alive in $(n-2)$th month) gives one extra pair. Let's also denote $F_0=0$ so that the reccurence relation holds for $n\\geq 2$. Now we have more _mathematical_ notation for this problem, and the task is just to compute $F_{12}$.\n",
    "\n",
    "## The most straightforward way\n",
    "\n",
    "You have probably noticed that this is just the well-known [Fibonacci Sequence](http://en.wikipedia.org/wiki/Fibonacci_number). So let's ask SymPy about the $12$th Fibonacci number:"
   ]
  },
  {
   "cell_type": "code",
   "execution_count": 1,
   "metadata": {},
   "outputs": [
    {
     "data": {
      "text/plain": [
       "144"
      ]
     },
     "execution_count": 1,
     "metadata": {},
     "output_type": "execute_result"
    }
   ],
   "source": [
    "from sympy import fibonacci\n",
    "fibonacci(12)"
   ]
  },
  {
   "cell_type": "markdown",
   "metadata": {},
   "source": [
    "And it does the trick. But that was kind of cheating - what if we don't know Fibonacci Sequence?\n",
    "\n",
    "## Solving the reccurence\n",
    "\n",
    "In this case we can use SymPy's reccurence solver. We just have to input a reccurence relation and dictionary with initial values, and then substitute $n$ with 12:"
   ]
  },
  {
   "cell_type": "code",
   "execution_count": 2,
   "metadata": {},
   "outputs": [
    {
     "data": {
      "text/plain": [
       "144"
      ]
     },
     "execution_count": 2,
     "metadata": {},
     "output_type": "execute_result"
    }
   ],
   "source": [
    "from sympy import Function, rsolve\n",
    "from sympy.abc import n\n",
    "y=Function('y')\n",
    "f=y(n)-y(n-1)-y(n-2)\n",
    "rsolve(f, y(n), {y(0):0, y(1):1}).subs(n, 12).simplify()"
   ]
  },
  {
   "cell_type": "markdown",
   "metadata": {},
   "source": [
    "## Characteristic polynomial\n",
    "\n",
    "We can also use the less straightforward methods, for example method of characteristic polynomial. More about it [here](http://en.wikipedia.org/wiki/Recurrence_relation#Theorem).\n",
    "First of all we must construct a proper polynomial equation. In this case it's $z^2-z-1=0$. We use SymPy to solve it:"
   ]
  },
  {
   "cell_type": "code",
   "execution_count": 3,
   "metadata": {},
   "outputs": [],
   "source": [
    "from sympy import Symbol, solve\n",
    "from sympy.abc import z\n",
    "[a,b]=solve(z**2 - z - 1, z)"
   ]
  },
  {
   "cell_type": "markdown",
   "metadata": {},
   "source": [
    "So the solution is in the form $F_n = Ca^n+Db^n$. Now we must find the constants $C$ and $D$ using first two terms of the sequence:"
   ]
  },
  {
   "cell_type": "code",
   "execution_count": 4,
   "metadata": {},
   "outputs": [],
   "source": [
    "c=Symbol('c')\n",
    "d=Symbol('d')\n",
    "ans=solve([c+d, c*a+d*b-1], [c, d])\n",
    "C=ans[c]\n",
    "D=ans[d]"
   ]
  },
  {
   "cell_type": "markdown",
   "metadata": {},
   "source": [
    "And the last step is to compute the answer for $n=12$:"
   ]
  },
  {
   "cell_type": "code",
   "execution_count": 5,
   "metadata": {},
   "outputs": [
    {
     "data": {
      "text/plain": [
       "144"
      ]
     },
     "execution_count": 5,
     "metadata": {},
     "output_type": "execute_result"
    }
   ],
   "source": [
    "(C*a**12 + D*b**12).simplify()"
   ]
  },
  {
   "cell_type": "markdown",
   "metadata": {},
   "source": [
    "## Generating function\n",
    "\n",
    "In this paragraph we'll find a generating function for this reccurence to calculate the answer. The generation function must satisfy the equation $F(x)=xF(x)+x^2F(x)+x$. After simplifying we have:\n",
    "$$F(x)=\\frac{x}{1-x-x^2}.$$ \n",
    "Now we use SymPy to calculate the $13$th term of its series expansion:"
   ]
  },
  {
   "cell_type": "code",
   "execution_count": 6,
   "metadata": {},
   "outputs": [
    {
     "data": {
      "text/plain": [
       "x + x**2 + 2*x**3 + 3*x**4 + 5*x**5 + 8*x**6 + 13*x**7 + 21*x**8 + 34*x**9 + 55*x**10 + 89*x**11 + 144*x**12 + O(x**13)"
      ]
     },
     "execution_count": 6,
     "metadata": {},
     "output_type": "execute_result"
    }
   ],
   "source": [
    "from sympy.abc import x\n",
    "f=x/(1-x-x**2)\n",
    "f.series(x, 0, n=13)"
   ]
  },
  {
   "cell_type": "markdown",
   "metadata": {},
   "source": [
    "And we can easily see that the $12$th term is $144$.\n",
    "## Fibonacci matrix\n",
    "We can also use the well-known matrix method for computing Fibonacci numbers (more [here](http://en.wikipedia.org/wiki/Fibonacci_number#Matrix_form)). "
   ]
  },
  {
   "cell_type": "code",
   "execution_count": 7,
   "metadata": {},
   "outputs": [
    {
     "data": {
      "text/plain": [
       "Matrix([\n",
       "[144, 89],\n",
       "[ 89, 55]])"
      ]
     },
     "execution_count": 7,
     "metadata": {},
     "output_type": "execute_result"
    }
   ],
   "source": [
    "from sympy import Matrix\n",
    "M = Matrix([[1, 1], [1, 0]])\n",
    "M**11"
   ]
  },
  {
   "cell_type": "markdown",
   "metadata": {},
   "source": [
    "And we obtain again that $F_{12}=144$.\n",
    "\n",
    "## Binet's formula\n",
    "\n",
    "Binet's formulat can calculate the $n$th Fibonacci number as $$\\frac{\\phi^n - (-\\phi)^{-n}}{\\sqrt{5}}$$ where $\\phi = \\frac{1}{2}\\left(1 + \\sqrt{5}\\right)$ is the *golden ratio*. We can easily evaluate this formula in Sympy with\n",
    "\n"
   ]
  },
  {
   "cell_type": "code",
   "execution_count": 8,
   "metadata": {
    "scrolled": false
   },
   "outputs": [
    {
     "data": {
      "text/plain": [
       "144"
      ]
     },
     "execution_count": 8,
     "metadata": {},
     "output_type": "execute_result"
    }
   ],
   "source": [
    "from sympy import sqrt, simplify\n",
    "phi = (1 + sqrt(5)) / 2 \n",
    "fib12 = (phi**12 - (-phi)**(-12)) / sqrt(5) \n",
    "simplify(fib12)"
   ]
  },
  {
   "cell_type": "markdown",
   "metadata": {},
   "source": [
    "That was the last method. As you can see SymPy is very comfortable tool for solving various mathematical problems. "
   ]
  }
 ],
 "metadata": {
  "kernelspec": {
   "display_name": "Python 3",
   "language": "python",
   "name": "python3"
  },
  "language_info": {
   "codemirror_mode": {
    "name": "ipython",
    "version": 3
   },
   "file_extension": ".py",
   "mimetype": "text/x-python",
   "name": "python",
   "nbconvert_exporter": "python",
   "pygments_lexer": "ipython3",
   "version": "3.6.2"
  }
 },
 "nbformat": 4,
 "nbformat_minor": 1
}
