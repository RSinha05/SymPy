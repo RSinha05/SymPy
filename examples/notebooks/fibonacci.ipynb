{
 "metadata": {
  "name": "example"
 }, 
 "nbformat": 2, 
 "worksheets": [
  {
   "cells": [
    {
     "cell_type": "markdown", 
     "source": [
      "#The Rabbits Problem#", 
      "##Introduction##", 
      "In the book \"Liber Abaci\" Leonardo of Pisa stated the following problem:", 
      "> Consider the set of rabbits satisfying following conditions:", 
      "", 
      ">1. Rabbits are able to mate at the age of one month.", 
      "2. Mating always produces new pair of rabbits (one male, one female).", 
      "3. Mature pair produces one new pair every month.", 
      "4. Rabbits never die.", 
      "", 
      "> Starting from one pair of newborns, how many pairs will there be after one year?", 
      "", 
      "Now, let's solve it in several ways using SymPy.", 
      "", 
      "##Restructuring the problem##", 
      "Unfortunately SymPy doesn't know anything about rabbits, so we need to state the problem in more abstract way. Firstly let's compute first few values: ", 
      "", 
      "1. In the first month we have only the initial pair of immature rabbits.", 
      "2. In the second month initial pair is mature, but still hasn't given birth.", 
      "3. In the third month initial pair gives birth and we have _two_ pairs now.", 
      "4. After three months initial pair gives second birth, what makes _three_ pairs. ", 
      "", 
      "Now, let's denote $F_n$ the number of pairs in $n$th month. We have $F_1=1$ and $F_2=1$. We can also see that $F_n=F_{n-1}+F_{n-2}$. This holds because in $n$th month we have all pairs from $(n-1)$th month, and every pair which is more than one month old (i.e. that which was alive in $(n-2)$th month) gives one extra pair. Let's also denote $F_0=0$ so that the reccurence relation holds for $n\\geq 2$. Now we have more _mathematical_ notation for this problem, and the task is just to compute $F_{12}$.", 
      "", 
      "##The most straightforward way##", 
      "", 
      "You have probably noticed that this is just the well-known [Fibonacci Sequence](http://en.wikipedia.org/wiki/Fibonacci_number). So let's ask SymPy about the $12$th Fibonacci number:"
     ]
    }, 
    {
     "cell_type": "code", 
     "collapsed": false, 
     "input": [
      "from sympy import fibonacci", 
      "fibonacci(12)"
     ], 
     "language": "python", 
     "outputs": [
      {
       "output_type": "pyout", 
       "prompt_number": 1, 
       "text": [
        "144"
       ]
      }
     ], 
     "prompt_number": 1
    }, 
    {
     "cell_type": "markdown", 
     "source": [
      "And it does the trick. But that was kind of cheating - what if we don't know Fibonacci Sequence?", 
      "", 
      "##Solving the reccurence##", 
      "", 
      "In this case we can use SymPy's reccurence solver. We just have to input a reccurence relation and dictionary with initial values, and then substitute $n$ with 12:"
     ]
    }, 
    {
     "cell_type": "code", 
     "collapsed": false, 
     "input": [
      "from sympy import Function, rsolve", 
      "from sympy.abc import n", 
      "y=Function('y')", 
      "f=y(n)-y(n-1)-y(n-2)", 
      "rsolve(f, y(n), {y(0):0, y(1):1}).subs(n, 12).simplify()"
     ], 
     "language": "python", 
     "outputs": [
      {
       "output_type": "pyout", 
       "prompt_number": 2, 
       "text": [
        "144"
       ]
      }
     ], 
     "prompt_number": 2
    }, 
    {
     "cell_type": "markdown", 
     "source": [
      "##Characteristic polynomial##", 
      "We can also use the less straightforward methods, for example method of characteristic polynomial. More about it [here](http://en.wikipedia.org/wiki/Recurrence_relation#Theorem).", 
      "First of all we must construct a proper polynomial equation. In this case it's $z^2-z-1=0$. We use SymPy to solve it:"
     ]
    }, 
    {
     "cell_type": "code", 
     "collapsed": false, 
     "input": [
      "from sympy import Symbol, solve", 
      "from sympy.abc import z", 
      "[a,b]=solve(z**2 - z - 1, z)"
     ], 
     "language": "python", 
     "outputs": [], 
     "prompt_number": 3
    }, 
    {
     "cell_type": "markdown", 
     "source": [
      "So the solution is in the form $F_n = Ca^n+Db^n$. Now we must find the constants $C$ and $D$ using first two terms of the sequence:"
     ]
    }, 
    {
     "cell_type": "code", 
     "collapsed": false, 
     "input": [
      "c=Symbol('c')", 
      "d=Symbol('d')", 
      "ans=solve([c+d, c*a+d*b-1], [c, d])", 
      "C=ans[c]", 
      "D=ans[d]"
     ], 
     "language": "python", 
     "outputs": [], 
     "prompt_number": 4
    }, 
    {
     "cell_type": "markdown", 
     "source": [
      "And the last step is to compute the answer for n=12:"
     ]
    }, 
    {
     "cell_type": "code", 
     "collapsed": false, 
     "input": [
      "(C*a**12 + D*b**12).simplify()"
     ], 
     "language": "python", 
     "outputs": [
      {
       "output_type": "pyout", 
       "prompt_number": 5, 
       "text": [
        "144"
       ]
      }
     ], 
     "prompt_number": 5
    }, 
    {
     "cell_type": "markdown", 
     "source": [
      "##Generating function##", 
      "", 
      "In this paragraph we'll find a generating function for this reccurence to calculate the answer. The generation function must satisfy the equation $F(x)=xF(x)+x^2F(x)+x$. After simplifying we have:", 
      "$$F(x)=\\frac{x}{1-x-x^2}.$$ ", 
      "Now we use SymPy to calculate the $13$th term of its series expansion:"
     ]
    }, 
    {
     "cell_type": "code", 
     "collapsed": false, 
     "input": [
      "from sympy.abc import x", 
      "f=x/(1-x-x**2)", 
      "f.series(x, 0, n=13)"
     ], 
     "language": "python", 
     "outputs": [
      {
       "output_type": "pyout", 
       "prompt_number": 6, 
       "text": [
        "x + x**2 + 2*x**3 + 3*x**4 + 5*x**5 + 8*x**6 + 13*x**7 + 21*x**8 + 34*x**9 + 55*x**10 + 89*x**11 + 144*x**12 + O(x**13)"
       ]
      }
     ], 
     "prompt_number": 6
    }, 
    {
     "cell_type": "markdown", 
     "source": [
      "And we can easily see that the $12$th term is $144$.", 
      "##Fibonacci matrix##", 
      "We can also use the well-known matrix method for computing Fibonacci numbers (more [here](http://en.wikipedia.org/wiki/Fibonacci_number#Matrix_form)). "
     ]
    }, 
    {
     "cell_type": "code", 
     "collapsed": false, 
     "input": [
      "from sympy import Matrix", 
      "M = Matrix([[1, 1], [1, 0]])", 
      "M**11"
     ], 
     "language": "python", 
     "outputs": [
      {
       "output_type": "pyout", 
       "prompt_number": 7, 
       "text": [
        "[144, 89]", 
        "[ 89, 55]"
       ]
      }
     ], 
     "prompt_number": 7
    }, 
    {
     "cell_type": "markdown", 
     "source": [
      "And we obtain again that $F_{12}=144$.", 
      "", 
      "That was the last one method. As you can see SymPy is very comfortable tool for solving various mathematical problems. "
     ]
    }
   ]
  }
 ]
}