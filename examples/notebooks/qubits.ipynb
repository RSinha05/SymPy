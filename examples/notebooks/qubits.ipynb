{
 "metadata": {
  "name": "qubits"
 }, 
 "nbformat": 2, 
 "worksheets": [
  {
   "cells": [
    {
     "cell_type": "code", 
     "collapsed": false, 
     "input": [
      "from sympy import symbols", 
      "from sympy.core.trace import Tr", 
      "from sympy.matrices.matrices import Matrix", 
      "from IPython.core.display import display_pretty", 
      "from sympy.printing.latex import *", 
      "from sympy.physics.quantum.cartesian import *", 
      "from sympy.physics.quantum.qubit import *", 
      "from sympy.physics.quantum.density import *", 
      "", 
      "%load_ext sympyprinting", 
      "", 
      "#TODO: Add examples of simple qubit usage "
     ], 
     "language": "python", 
     "outputs": [], 
     "prompt_number": 4
    }, 
    {
     "cell_type": "markdown", 
     "source": [
      "## Examples of Tr operations on Qubits"
     ]
    }, 
    {
     "cell_type": "code", 
     "collapsed": false, 
     "input": [
      "q1 = Qubit('10110')", 
      "q2 = Qubit('01010')", 
      "d = Density( [q1, 0.6], [q2, 0.4] )", 
      "", 
      "# Trace one bit ", 
      "t = Tr(d,[0])", 
      "", 
      "display_pretty(t.doit())", 
      "", 
      "", 
      "# Partial trace of 3 qubits", 
      "# the 0th bit is the right-most bit", 
      "t = Tr(d,[2, 1, 3])", 
      "display_pretty(t.doit())"
     ], 
     "language": "python", 
     "outputs": [
      {
       "output_type": "display_data", 
       "text": [
        "0.4\u22c5(\u27580101\u27e9, 1) + 0.6\u22c5(\u27581011\u27e9, 1)"
       ]
      }, 
      {
       "output_type": "display_data", 
       "text": [
        "0.4\u22c5(\u275800\u27e9, 1) + 0.6\u22c5(\u275810\u27e9, 1)"
       ]
      }
     ], 
     "prompt_number": 2
    }, 
    {
     "cell_type": "markdown", 
     "source": [
      "## Partial Tr of mixed state"
     ]
    }, 
    {
     "cell_type": "code", 
     "collapsed": false, 
     "input": [
      "from sympy import *", 
      "q = (1/sqrt(2)) * (Qubit('00') + Qubit('11'))", 
      "", 
      "d = Density ( [q, 1.0] )", 
      "t = Tr(d, [0])", 
      "display_pretty(t.doit())"
     ], 
     "language": "python", 
     "outputs": [
      {
       "output_type": "display_data", 
       "text": [
        "0.5\u22c5(\u27580\u27e9, 1) + 0.5\u22c5(\u27581\u27e9, 1)"
       ]
      }
     ], 
     "prompt_number": 3
    }, 
    {
     "cell_type": "code", 
     "collapsed": true, 
     "input": [], 
     "language": "python", 
     "outputs": [], 
     "prompt_number": 3
    }
   ]
  }
 ]
}