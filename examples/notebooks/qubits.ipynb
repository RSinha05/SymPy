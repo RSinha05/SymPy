{
 "cells": [
  {
   "cell_type": "code",
   "execution_count": 4,
   "id": "3b939ebb",
   "metadata": {
    "collapsed": false
   },
   "outputs": [],
   "source": [
    "from sympy import symbols\n",
    "from sympy.physics.quantum.trace import Tr\n",
    "from sympy.matrices.matrices import Matrix\n",
    "from IPython.core.display import display_pretty\n",
    "from sympy.printing.latex import *\n",
    "from sympy.physics.quantum.cartesian import *\n",
    "from sympy.physics.quantum.qubit import *\n",
    "from sympy.physics.quantum.density import *\n",
    "\n",
    "%load_ext sympyprinting\n",
    "\n",
    "#TODO: Add examples of simple qubit usage "
   ]
  },
  {
   "cell_type": "markdown",
   "id": "169a926d",
   "metadata": {},
   "source": [
    "## Examples of Tr operations on Qubits"
   ]
  },
  {
   "cell_type": "code",
   "execution_count": 2,
   "id": "9656e034",
   "metadata": {
    "collapsed": false
   },
   "outputs": [
    {
     "data": {
      "text/plain": [
       "0.4⋅(❘0101⟩, 1) + 0.6⋅(❘1011⟩, 1)"
      ]
     },
     "metadata": {},
     "output_type": "display_data"
    },
    {
     "data": {
      "text/plain": [
       "0.4⋅(❘00⟩, 1) + 0.6⋅(❘10⟩, 1)"
      ]
     },
     "metadata": {},
     "output_type": "display_data"
    }
   ],
   "source": [
    "q1 = Qubit('10110')\n",
    "q2 = Qubit('01010')\n",
    "d = Density( [q1, 0.6], [q2, 0.4] )\n",
    "\n",
    "# Trace one bit \n",
    "t = Tr(d,[0])\n",
    "\n",
    "display_pretty(t.doit())\n",
    "\n",
    "\n",
    "# Partial trace of 3 qubits\n",
    "# the 0th bit is the right-most bit\n",
    "t = Tr(d,[2, 1, 3])\n",
    "display_pretty(t.doit())"
   ]
  },
  {
   "cell_type": "markdown",
   "id": "ab3825d9",
   "metadata": {},
   "source": [
    "## Partial Tr of mixed state"
   ]
  },
  {
   "cell_type": "code",
   "execution_count": 3,
   "id": "8b9cc2fb",
   "metadata": {
    "collapsed": false
   },
   "outputs": [
    {
     "data": {
      "text/plain": [
       "0.5⋅(❘0⟩, 1) + 0.5⋅(❘1⟩, 1)"
      ]
     },
     "metadata": {},
     "output_type": "display_data"
    }
   ],
   "source": [
    "from sympy import *\n",
    "q = (1/sqrt(2)) * (Qubit('00') + Qubit('11'))\n",
    "\n",
    "d = Density ( [q, 1.0] )\n",
    "t = Tr(d, [0])\n",
    "display_pretty(t.doit())"
   ]
  },
  {
   "cell_type": "code",
   "execution_count": 3,
   "id": "1400b05b",
   "metadata": {
    "collapsed": true
   },
   "outputs": [],
   "source": []
  }
 ],
 "metadata": {},
 "nbformat": 4,
 "nbformat_minor": 5
}
