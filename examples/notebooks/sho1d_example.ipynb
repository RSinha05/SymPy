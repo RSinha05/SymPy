{
 "cells": [
  {
   "cell_type": "markdown",
   "id": "f6940170",
   "metadata": {},
   "source": [
    "# Example Notebook for sho1d.py"
   ]
  },
  {
   "cell_type": "markdown",
   "id": "41090570",
   "metadata": {},
   "source": [
    "Import the sho1d.py file as well as the test_sho1d.py file"
   ]
  },
  {
   "cell_type": "code",
   "execution_count": 1,
   "id": "6085733a",
   "metadata": {
    "collapsed": false
   },
   "outputs": [],
   "source": [
    "from sympy import *\n",
    "from IPython.display import display_pretty\n",
    "from sympy.physics.quantum import *\n",
    "from sympy.physics.quantum.sho1d import *\n",
    "from sympy.physics.quantum.tests.test_sho1d import *\n",
    "init_printing(pretty_print=False, use_latex=False)"
   ]
  },
  {
   "cell_type": "markdown",
   "id": "4e6d67ac",
   "metadata": {},
   "source": [
    "### Printing Of Operators"
   ]
  },
  {
   "cell_type": "markdown",
   "id": "d6fde01f",
   "metadata": {},
   "source": [
    "Create a raising and lowering operator and make sure they print correctly"
   ]
  },
  {
   "cell_type": "code",
   "execution_count": 2,
   "id": "055f4384",
   "metadata": {
    "collapsed": false
   },
   "outputs": [],
   "source": [
    "ad = RaisingOp('a')\n",
    "a = LoweringOp('a')"
   ]
  },
  {
   "cell_type": "code",
   "execution_count": 3,
   "id": "159e41b6",
   "metadata": {
    "collapsed": false
   },
   "outputs": [
    {
     "data": {
      "text/plain": [
       "RaisingOp(a)"
      ]
     },
     "execution_count": 3,
     "metadata": {},
     "output_type": "execute_result"
    }
   ],
   "source": [
    "ad"
   ]
  },
  {
   "cell_type": "code",
   "execution_count": 4,
   "id": "7c326a55",
   "metadata": {
    "collapsed": false
   },
   "outputs": [
    {
     "data": {
      "text/plain": [
       "a"
      ]
     },
     "execution_count": 4,
     "metadata": {},
     "output_type": "execute_result"
    }
   ],
   "source": [
    "a"
   ]
  },
  {
   "cell_type": "code",
   "execution_count": 5,
   "id": "db2034da",
   "metadata": {
    "collapsed": false
   },
   "outputs": [
    {
     "name": "stdout",
     "output_type": "stream",
     "text": [
      "a^{\\dag}\n",
      "a\n"
     ]
    }
   ],
   "source": [
    "print(latex(ad))\n",
    "print(latex(a))"
   ]
  },
  {
   "cell_type": "code",
   "execution_count": 6,
   "id": "9f5dc37b",
   "metadata": {
    "collapsed": false
   },
   "outputs": [
    {
     "data": {
      "text/plain": [
       "RaisingOp(a)"
      ]
     },
     "metadata": {},
     "output_type": "display_data"
    },
    {
     "data": {
      "text/plain": [
       "a"
      ]
     },
     "metadata": {},
     "output_type": "display_data"
    }
   ],
   "source": [
    "display_pretty(ad)\n",
    "display_pretty(a)"
   ]
  },
  {
   "cell_type": "code",
   "execution_count": 7,
   "id": "2d776273",
   "metadata": {
    "collapsed": false
   },
   "outputs": [
    {
     "name": "stdout",
     "output_type": "stream",
     "text": [
      "RaisingOp(Symbol('a'))\n",
      "LoweringOp(Symbol('a'))\n"
     ]
    }
   ],
   "source": [
    "print(srepr(ad))\n",
    "print(srepr(a))"
   ]
  },
  {
   "cell_type": "code",
   "execution_count": 8,
   "id": "3f00e360",
   "metadata": {
    "collapsed": false
   },
   "outputs": [
    {
     "name": "stdout",
     "output_type": "stream",
     "text": [
      "RaisingOp(a)\n",
      "a\n"
     ]
    }
   ],
   "source": [
    "print(repr(ad))\n",
    "print(repr(a))"
   ]
  },
  {
   "cell_type": "markdown",
   "id": "7bdd8f19",
   "metadata": {},
   "source": [
    "### Printing of States"
   ]
  },
  {
   "cell_type": "markdown",
   "id": "06b26387",
   "metadata": {},
   "source": [
    "Create a simple harmonic state and check its printing"
   ]
  },
  {
   "cell_type": "code",
   "execution_count": 9,
   "id": "20e51444",
   "metadata": {
    "collapsed": false
   },
   "outputs": [],
   "source": [
    "k = SHOKet('k')\n",
    "b = SHOBra('b')"
   ]
  },
  {
   "cell_type": "code",
   "execution_count": 10,
   "id": "35f50a7a",
   "metadata": {
    "collapsed": false
   },
   "outputs": [
    {
     "data": {
      "text/plain": [
       "|k>"
      ]
     },
     "execution_count": 10,
     "metadata": {},
     "output_type": "execute_result"
    }
   ],
   "source": [
    "k"
   ]
  },
  {
   "cell_type": "code",
   "execution_count": 11,
   "id": "e9e0c265",
   "metadata": {
    "collapsed": false
   },
   "outputs": [
    {
     "data": {
      "text/plain": [
       "<b|"
      ]
     },
     "execution_count": 11,
     "metadata": {},
     "output_type": "execute_result"
    }
   ],
   "source": [
    "b"
   ]
  },
  {
   "cell_type": "code",
   "execution_count": 12,
   "id": "8c4d75db",
   "metadata": {
    "collapsed": false
   },
   "outputs": [
    {
     "name": "stdout",
     "output_type": "stream",
     "text": [
      "❘k⟩\n",
      "⟨b❘\n"
     ]
    }
   ],
   "source": [
    "print(pretty(k))\n",
    "print(pretty(b))"
   ]
  },
  {
   "cell_type": "code",
   "execution_count": 13,
   "id": "c6d200b9",
   "metadata": {
    "collapsed": false
   },
   "outputs": [
    {
     "name": "stdout",
     "output_type": "stream",
     "text": [
      "{\\left|k\\right\\rangle }\n",
      "{\\left\\langle b\\right|}\n"
     ]
    }
   ],
   "source": [
    "print(latex(k))\n",
    "print(latex(b))"
   ]
  },
  {
   "cell_type": "code",
   "execution_count": 14,
   "id": "4b4008c5",
   "metadata": {
    "collapsed": false
   },
   "outputs": [
    {
     "name": "stdout",
     "output_type": "stream",
     "text": [
      "SHOKet(Symbol('k'))\n",
      "SHOBra(Symbol('b'))\n"
     ]
    }
   ],
   "source": [
    "print(srepr(k))\n",
    "print(srepr(b))"
   ]
  },
  {
   "cell_type": "markdown",
   "id": "1cec5e1a",
   "metadata": {},
   "source": [
    "### Properties"
   ]
  },
  {
   "cell_type": "markdown",
   "id": "c0eb07ff",
   "metadata": {},
   "source": [
    "Take the dagger of the raising and lowering operators. They should return each other."
   ]
  },
  {
   "cell_type": "code",
   "execution_count": 15,
   "id": "9b7ee285",
   "metadata": {
    "collapsed": false
   },
   "outputs": [
    {
     "data": {
      "text/plain": [
       "a"
      ]
     },
     "execution_count": 15,
     "metadata": {},
     "output_type": "execute_result"
    }
   ],
   "source": [
    "Dagger(ad)"
   ]
  },
  {
   "cell_type": "code",
   "execution_count": 16,
   "id": "fa4eaf76",
   "metadata": {
    "collapsed": false
   },
   "outputs": [
    {
     "data": {
      "text/plain": [
       "RaisingOp(a)"
      ]
     },
     "execution_count": 16,
     "metadata": {},
     "output_type": "execute_result"
    }
   ],
   "source": [
    "Dagger(a)"
   ]
  },
  {
   "cell_type": "markdown",
   "id": "ee15fef5",
   "metadata": {},
   "source": [
    "Check Commutators of the raising and lowering operators"
   ]
  },
  {
   "cell_type": "code",
   "execution_count": 17,
   "id": "18b76dca",
   "metadata": {
    "collapsed": false
   },
   "outputs": [
    {
     "data": {
      "text/plain": [
       "-1"
      ]
     },
     "execution_count": 17,
     "metadata": {},
     "output_type": "execute_result"
    }
   ],
   "source": [
    "Commutator(ad,a).doit()"
   ]
  },
  {
   "cell_type": "code",
   "execution_count": 18,
   "id": "7516261d",
   "metadata": {
    "collapsed": false
   },
   "outputs": [
    {
     "data": {
      "text/plain": [
       "1"
      ]
     },
     "execution_count": 18,
     "metadata": {},
     "output_type": "execute_result"
    }
   ],
   "source": [
    "Commutator(a,ad).doit()"
   ]
  },
  {
   "cell_type": "markdown",
   "id": "bb1f057f",
   "metadata": {},
   "source": [
    "Take a look at the dual states of the bra and ket"
   ]
  },
  {
   "cell_type": "code",
   "execution_count": 19,
   "id": "9f749628",
   "metadata": {
    "collapsed": false
   },
   "outputs": [
    {
     "data": {
      "text/plain": [
       "<k|"
      ]
     },
     "execution_count": 19,
     "metadata": {},
     "output_type": "execute_result"
    }
   ],
   "source": [
    "k.dual"
   ]
  },
  {
   "cell_type": "code",
   "execution_count": 20,
   "id": "60b3ebfa",
   "metadata": {
    "collapsed": false
   },
   "outputs": [
    {
     "data": {
      "text/plain": [
       "|b>"
      ]
     },
     "execution_count": 20,
     "metadata": {},
     "output_type": "execute_result"
    }
   ],
   "source": [
    "b.dual"
   ]
  },
  {
   "cell_type": "markdown",
   "id": "8745424f",
   "metadata": {},
   "source": [
    "Taking the InnerProduct of the bra and ket will return the KroneckerDelta function"
   ]
  },
  {
   "cell_type": "code",
   "execution_count": 21,
   "id": "af8bb7c8",
   "metadata": {
    "collapsed": false
   },
   "outputs": [
    {
     "data": {
      "text/plain": [
       "KroneckerDelta(k, b)"
      ]
     },
     "execution_count": 21,
     "metadata": {},
     "output_type": "execute_result"
    }
   ],
   "source": [
    "InnerProduct(b,k).doit()"
   ]
  },
  {
   "cell_type": "markdown",
   "id": "83546a44",
   "metadata": {},
   "source": [
    "Take a look at how the raising and lowering operators act on states. We use qapply to apply an operator to a state"
   ]
  },
  {
   "cell_type": "code",
   "execution_count": 22,
   "id": "a67c248b",
   "metadata": {
    "collapsed": false
   },
   "outputs": [
    {
     "data": {
      "text/plain": [
       "sqrt(k + 1)*|k + 1>"
      ]
     },
     "execution_count": 22,
     "metadata": {},
     "output_type": "execute_result"
    }
   ],
   "source": [
    "qapply(ad*k)"
   ]
  },
  {
   "cell_type": "code",
   "execution_count": 23,
   "id": "4c92417e",
   "metadata": {
    "collapsed": false
   },
   "outputs": [
    {
     "data": {
      "text/plain": [
       "sqrt(k)*|k - 1>"
      ]
     },
     "execution_count": 23,
     "metadata": {},
     "output_type": "execute_result"
    }
   ],
   "source": [
    "qapply(a*k)"
   ]
  },
  {
   "cell_type": "markdown",
   "id": "bc9095b1",
   "metadata": {},
   "source": [
    "But the states may have an explicit energy level. Let's look at the ground and first excited states"
   ]
  },
  {
   "cell_type": "code",
   "execution_count": 24,
   "id": "e6167335",
   "metadata": {
    "collapsed": false
   },
   "outputs": [],
   "source": [
    "kg = SHOKet(0)\n",
    "kf = SHOKet(1)"
   ]
  },
  {
   "cell_type": "code",
   "execution_count": 25,
   "id": "346fa8d1",
   "metadata": {
    "collapsed": false
   },
   "outputs": [
    {
     "data": {
      "text/plain": [
       "|1>"
      ]
     },
     "execution_count": 25,
     "metadata": {},
     "output_type": "execute_result"
    }
   ],
   "source": [
    "qapply(ad*kg)"
   ]
  },
  {
   "cell_type": "code",
   "execution_count": 26,
   "id": "512f5d91",
   "metadata": {
    "collapsed": false
   },
   "outputs": [
    {
     "data": {
      "text/plain": [
       "sqrt(2)*|2>"
      ]
     },
     "execution_count": 26,
     "metadata": {},
     "output_type": "execute_result"
    }
   ],
   "source": [
    "qapply(ad*kf)"
   ]
  },
  {
   "cell_type": "code",
   "execution_count": 27,
   "id": "e3131226",
   "metadata": {
    "collapsed": false
   },
   "outputs": [
    {
     "data": {
      "text/plain": [
       "0"
      ]
     },
     "execution_count": 27,
     "metadata": {},
     "output_type": "execute_result"
    }
   ],
   "source": [
    "qapply(a*kg)"
   ]
  },
  {
   "cell_type": "code",
   "execution_count": 28,
   "id": "9ac0cd2d",
   "metadata": {
    "collapsed": false
   },
   "outputs": [
    {
     "data": {
      "text/plain": [
       "|0>"
      ]
     },
     "execution_count": 28,
     "metadata": {},
     "output_type": "execute_result"
    }
   ],
   "source": [
    "qapply(a*kf)"
   ]
  },
  {
   "cell_type": "markdown",
   "id": "3fe4f698",
   "metadata": {},
   "source": [
    "Notice that a*kg is 0 and a*kf is the |0> the ground state."
   ]
  },
  {
   "cell_type": "markdown",
   "id": "8e0b9442",
   "metadata": {},
   "source": [
    "### NumberOp & Hamiltonian"
   ]
  },
  {
   "cell_type": "markdown",
   "id": "c37ea855",
   "metadata": {},
   "source": [
    "Let's look at the Number Operator and Hamiltonian Operator"
   ]
  },
  {
   "cell_type": "code",
   "execution_count": 29,
   "id": "5749fe93",
   "metadata": {
    "collapsed": false
   },
   "outputs": [],
   "source": [
    "k = SHOKet('k')\n",
    "ad = RaisingOp('a')\n",
    "a = LoweringOp('a')\n",
    "N = NumberOp('N')\n",
    "H = Hamiltonian('H')"
   ]
  },
  {
   "cell_type": "markdown",
   "id": "120b663c",
   "metadata": {},
   "source": [
    "The number operator is simply expressed as ad*a"
   ]
  },
  {
   "cell_type": "code",
   "execution_count": 30,
   "id": "9828cbe9",
   "metadata": {
    "collapsed": false
   },
   "outputs": [
    {
     "data": {
      "text/plain": [
       "RaisingOp(a)*a"
      ]
     },
     "execution_count": 30,
     "metadata": {},
     "output_type": "execute_result"
    }
   ],
   "source": [
    "N().rewrite('a').doit()"
   ]
  },
  {
   "cell_type": "markdown",
   "id": "0910f4ed",
   "metadata": {},
   "source": [
    "The number operator expressed in terms of the position and momentum operators"
   ]
  },
  {
   "cell_type": "code",
   "execution_count": 31,
   "id": "d9c348d6",
   "metadata": {
    "collapsed": false
   },
   "outputs": [
    {
     "data": {
      "text/plain": [
       "-1/2 + (m**2*omega**2*X**2 + Px**2)/(2*hbar*m*omega)"
      ]
     },
     "execution_count": 31,
     "metadata": {},
     "output_type": "execute_result"
    }
   ],
   "source": [
    "N().rewrite('xp').doit()"
   ]
  },
  {
   "cell_type": "markdown",
   "id": "ae8e500b",
   "metadata": {},
   "source": [
    "It can also be expressed in terms of the Hamiltonian operator"
   ]
  },
  {
   "cell_type": "code",
   "execution_count": 32,
   "id": "24255911",
   "metadata": {
    "collapsed": false
   },
   "outputs": [
    {
     "data": {
      "text/plain": [
       "-1/2 + H/(hbar*omega)"
      ]
     },
     "execution_count": 32,
     "metadata": {},
     "output_type": "execute_result"
    }
   ],
   "source": [
    "N().rewrite('H').doit()"
   ]
  },
  {
   "cell_type": "markdown",
   "id": "2732e960",
   "metadata": {},
   "source": [
    "The Hamiltonian operator can be expressed in terms of the raising and lowering operators, position and momentum operators, and the number operator"
   ]
  },
  {
   "cell_type": "code",
   "execution_count": 33,
   "id": "ca5d8549",
   "metadata": {
    "collapsed": false
   },
   "outputs": [
    {
     "data": {
      "text/plain": [
       "hbar*omega*(1/2 + RaisingOp(a)*a)"
      ]
     },
     "execution_count": 33,
     "metadata": {},
     "output_type": "execute_result"
    }
   ],
   "source": [
    "H().rewrite('a').doit()"
   ]
  },
  {
   "cell_type": "code",
   "execution_count": 34,
   "id": "2e1fffac",
   "metadata": {
    "collapsed": false
   },
   "outputs": [
    {
     "data": {
      "text/plain": [
       "(m**2*omega**2*X**2 + Px**2)/(2*m)"
      ]
     },
     "execution_count": 34,
     "metadata": {},
     "output_type": "execute_result"
    }
   ],
   "source": [
    "H().rewrite('xp').doit()"
   ]
  },
  {
   "cell_type": "code",
   "execution_count": 35,
   "id": "8c19b88e",
   "metadata": {
    "collapsed": false
   },
   "outputs": [
    {
     "data": {
      "text/plain": [
       "hbar*omega*(1/2 + N)"
      ]
     },
     "execution_count": 35,
     "metadata": {},
     "output_type": "execute_result"
    }
   ],
   "source": [
    "H().rewrite('N').doit()"
   ]
  },
  {
   "cell_type": "markdown",
   "id": "6689f9d2",
   "metadata": {},
   "source": [
    "The raising and lowering operators can also be expressed in terms of the position and momentum operators"
   ]
  },
  {
   "cell_type": "code",
   "execution_count": 36,
   "id": "adeddf59",
   "metadata": {
    "collapsed": false
   },
   "outputs": [
    {
     "data": {
      "text/plain": [
       "sqrt(2)*(m*omega*X - I*Px)/(2*sqrt(hbar)*sqrt(m*omega))"
      ]
     },
     "execution_count": 36,
     "metadata": {},
     "output_type": "execute_result"
    }
   ],
   "source": [
    "ad().rewrite('xp').doit()"
   ]
  },
  {
   "cell_type": "code",
   "execution_count": 37,
   "id": "47fcc042",
   "metadata": {
    "collapsed": false
   },
   "outputs": [
    {
     "data": {
      "text/plain": [
       "sqrt(2)*(m*omega*X + I*Px)/(2*sqrt(hbar)*sqrt(m*omega))"
      ]
     },
     "execution_count": 37,
     "metadata": {},
     "output_type": "execute_result"
    }
   ],
   "source": [
    "a().rewrite('xp').doit()"
   ]
  },
  {
   "cell_type": "markdown",
   "id": "f8f14886",
   "metadata": {},
   "source": [
    "### Properties"
   ]
  },
  {
   "cell_type": "markdown",
   "id": "742b983e",
   "metadata": {},
   "source": [
    "Let's take a look at how the NumberOp and Hamiltonian act on states"
   ]
  },
  {
   "cell_type": "code",
   "execution_count": 38,
   "id": "ef350719",
   "metadata": {
    "collapsed": false
   },
   "outputs": [
    {
     "data": {
      "text/plain": [
       "k*|k>"
      ]
     },
     "execution_count": 38,
     "metadata": {},
     "output_type": "execute_result"
    }
   ],
   "source": [
    "qapply(N*k)"
   ]
  },
  {
   "cell_type": "markdown",
   "id": "fd4cac76",
   "metadata": {},
   "source": [
    "Apply the Number operator to a state returns the state times the ket"
   ]
  },
  {
   "cell_type": "code",
   "execution_count": 39,
   "id": "bd3fb7b1",
   "metadata": {
    "collapsed": false
   },
   "outputs": [
    {
     "data": {
      "text/plain": [
       "2*|2>"
      ]
     },
     "execution_count": 39,
     "metadata": {},
     "output_type": "execute_result"
    }
   ],
   "source": [
    "ks = SHOKet(2)\n",
    "qapply(N*ks)"
   ]
  },
  {
   "cell_type": "code",
   "execution_count": 40,
   "id": "0c7d5a26",
   "metadata": {
    "collapsed": false
   },
   "outputs": [
    {
     "data": {
      "text/plain": [
       "hbar*k*omega*|k> + hbar*omega*|k>/2"
      ]
     },
     "execution_count": 40,
     "metadata": {},
     "output_type": "execute_result"
    }
   ],
   "source": [
    "qapply(H*k)"
   ]
  },
  {
   "cell_type": "markdown",
   "id": "c2a9d543",
   "metadata": {},
   "source": [
    "Let's see how the operators commute with each other"
   ]
  },
  {
   "cell_type": "code",
   "execution_count": 41,
   "id": "b46ed96c",
   "metadata": {
    "collapsed": false
   },
   "outputs": [
    {
     "data": {
      "text/plain": [
       "RaisingOp(a)"
      ]
     },
     "execution_count": 41,
     "metadata": {},
     "output_type": "execute_result"
    }
   ],
   "source": [
    "Commutator(N,ad).doit()"
   ]
  },
  {
   "cell_type": "code",
   "execution_count": 42,
   "id": "141bf644",
   "metadata": {
    "collapsed": false
   },
   "outputs": [
    {
     "data": {
      "text/plain": [
       "-a"
      ]
     },
     "execution_count": 42,
     "metadata": {},
     "output_type": "execute_result"
    }
   ],
   "source": [
    "Commutator(N,a).doit()"
   ]
  },
  {
   "cell_type": "code",
   "execution_count": 43,
   "id": "050fbe29",
   "metadata": {
    "collapsed": false
   },
   "outputs": [
    {
     "data": {
      "text/plain": [
       "0"
      ]
     },
     "execution_count": 43,
     "metadata": {},
     "output_type": "execute_result"
    }
   ],
   "source": [
    "Commutator(N,H).doit()"
   ]
  },
  {
   "cell_type": "markdown",
   "id": "b298291d",
   "metadata": {},
   "source": [
    "### Representation"
   ]
  },
  {
   "cell_type": "markdown",
   "id": "346e598a",
   "metadata": {},
   "source": [
    "We can express the operators in NumberOp basis. There are different ways to create a matrix in Python, we will use 3 different ways."
   ]
  },
  {
   "cell_type": "markdown",
   "id": "bb980c37",
   "metadata": {},
   "source": [
    "#### Sympy"
   ]
  },
  {
   "cell_type": "code",
   "execution_count": 44,
   "id": "d530a256",
   "metadata": {
    "collapsed": false
   },
   "outputs": [
    {
     "data": {
      "text/plain": [
       "[0,       0,       0, 0]\n",
       "[1,       0,       0, 0]\n",
       "[0, sqrt(2),       0, 0]\n",
       "[0,       0, sqrt(3), 0]"
      ]
     },
     "execution_count": 44,
     "metadata": {},
     "output_type": "execute_result"
    }
   ],
   "source": [
    "represent(ad, basis=N, ndim=4, format='sympy')"
   ]
  },
  {
   "cell_type": "markdown",
   "id": "2e278b06",
   "metadata": {},
   "source": [
    "#### Numpy"
   ]
  },
  {
   "cell_type": "code",
   "execution_count": 45,
   "id": "89a7db9b",
   "metadata": {
    "collapsed": false
   },
   "outputs": [
    {
     "data": {
      "text/plain": [
       "array([[ 0.        ,  0.        ,  0.        ,  0.        ,  0.        ],\n",
       "       [ 1.        ,  0.        ,  0.        ,  0.        ,  0.        ],\n",
       "       [ 0.        ,  1.41421356,  0.        ,  0.        ,  0.        ],\n",
       "       [ 0.        ,  0.        ,  1.73205081,  0.        ,  0.        ],\n",
       "       [ 0.        ,  0.        ,  0.        ,  2.        ,  0.        ]])"
      ]
     },
     "execution_count": 45,
     "metadata": {},
     "output_type": "execute_result"
    }
   ],
   "source": [
    "represent(ad, basis=N, ndim=5, format='numpy')"
   ]
  },
  {
   "cell_type": "markdown",
   "id": "184f5a77",
   "metadata": {},
   "source": [
    "#### Scipy.Sparse"
   ]
  },
  {
   "cell_type": "code",
   "execution_count": 46,
   "id": "a46e26f0",
   "metadata": {
    "collapsed": false
   },
   "outputs": [
    {
     "data": {
      "text/plain": [
       "<4x4 sparse matrix of type '<type 'numpy.float64'>'\n",
       "\twith 3 stored elements in Compressed Sparse Row format>"
      ]
     },
     "execution_count": 46,
     "metadata": {},
     "output_type": "execute_result"
    }
   ],
   "source": [
    "represent(ad, basis=N, ndim=4, format='scipy.sparse', spmatrix='lil')"
   ]
  },
  {
   "cell_type": "code",
   "execution_count": 47,
   "id": "d9a2b365",
   "metadata": {
    "collapsed": false
   },
   "outputs": [
    {
     "name": "stdout",
     "output_type": "stream",
     "text": [
      "  (1, 0)\t1.0\n",
      "  (2, 1)\t1.41421356237\n",
      "  (3, 2)\t1.73205080757\n"
     ]
    }
   ],
   "source": [
    "print(represent(ad, basis=N, ndim=4, format='scipy.sparse', spmatrix='lil'))"
   ]
  },
  {
   "cell_type": "markdown",
   "id": "74c52497",
   "metadata": {},
   "source": [
    "The same can be done for the other operators"
   ]
  },
  {
   "cell_type": "code",
   "execution_count": 48,
   "id": "1ae6d4fc",
   "metadata": {
    "collapsed": false
   },
   "outputs": [
    {
     "data": {
      "text/plain": [
       "[0, 1,       0,       0]\n",
       "[0, 0, sqrt(2),       0]\n",
       "[0, 0,       0, sqrt(3)]\n",
       "[0, 0,       0,       0]"
      ]
     },
     "execution_count": 48,
     "metadata": {},
     "output_type": "execute_result"
    }
   ],
   "source": [
    "represent(a, basis=N, ndim=4, format='sympy')"
   ]
  },
  {
   "cell_type": "code",
   "execution_count": 49,
   "id": "8aa6d3c9",
   "metadata": {
    "collapsed": false
   },
   "outputs": [
    {
     "data": {
      "text/plain": [
       "[0, 0, 0, 0]\n",
       "[0, 1, 0, 0]\n",
       "[0, 0, 2, 0]\n",
       "[0, 0, 0, 3]"
      ]
     },
     "execution_count": 49,
     "metadata": {},
     "output_type": "execute_result"
    }
   ],
   "source": [
    "represent(N, basis=N, ndim=4, format='sympy')"
   ]
  },
  {
   "cell_type": "code",
   "execution_count": 50,
   "id": "534dda54",
   "metadata": {
    "collapsed": false
   },
   "outputs": [
    {
     "data": {
      "text/plain": [
       "[hbar*omega/2,              0,              0,              0]\n",
       "[           0, 3*hbar*omega/2,              0,              0]\n",
       "[           0,              0, 5*hbar*omega/2,              0]\n",
       "[           0,              0,              0, 7*hbar*omega/2]"
      ]
     },
     "execution_count": 50,
     "metadata": {},
     "output_type": "execute_result"
    }
   ],
   "source": [
    "represent(H, basis=N, ndim=4, format='sympy')"
   ]
  },
  {
   "cell_type": "markdown",
   "id": "49f7a9f8",
   "metadata": {},
   "source": [
    "#### Ket and Bra Representation"
   ]
  },
  {
   "cell_type": "code",
   "execution_count": 51,
   "id": "16767ea4",
   "metadata": {
    "collapsed": false
   },
   "outputs": [],
   "source": [
    "k0 = SHOKet(0)\n",
    "k1 = SHOKet(1)\n",
    "b0 = SHOBra(0)\n",
    "b1 = SHOBra(1)"
   ]
  },
  {
   "cell_type": "code",
   "execution_count": 52,
   "id": "d7abded7",
   "metadata": {
    "collapsed": false
   },
   "outputs": [
    {
     "name": "stdout",
     "output_type": "stream",
     "text": [
      "[1]\n",
      "[0]\n",
      "[0]\n",
      "[0]\n",
      "[0]\n"
     ]
    }
   ],
   "source": [
    "print(represent(k0, basis=N, ndim=5, format='sympy'))"
   ]
  },
  {
   "cell_type": "code",
   "execution_count": 53,
   "id": "109e8da6",
   "metadata": {
    "collapsed": false
   },
   "outputs": [
    {
     "name": "stdout",
     "output_type": "stream",
     "text": [
      "[0]\n",
      "[1]\n",
      "[0]\n",
      "[0]\n",
      "[0]\n"
     ]
    }
   ],
   "source": [
    "print(represent(k1, basis=N, ndim=5, format='sympy'))"
   ]
  },
  {
   "cell_type": "code",
   "execution_count": 54,
   "id": "4fa43b27",
   "metadata": {
    "collapsed": false
   },
   "outputs": [
    {
     "name": "stdout",
     "output_type": "stream",
     "text": [
      "[1, 0, 0, 0, 0]\n"
     ]
    }
   ],
   "source": [
    "print(represent(b0, basis=N, ndim=5, format='sympy'))"
   ]
  },
  {
   "cell_type": "code",
   "execution_count": 55,
   "id": "664b3751",
   "metadata": {
    "collapsed": false
   },
   "outputs": [
    {
     "name": "stdout",
     "output_type": "stream",
     "text": [
      "[0, 1, 0, 0, 0]\n"
     ]
    }
   ],
   "source": [
    "print(represent(b1, basis=N, ndim=5, format='sympy'))"
   ]
  },
  {
   "cell_type": "code",
   "execution_count": null,
   "id": "63d07978",
   "metadata": {
    "collapsed": false
   },
   "outputs": [],
   "source": []
  }
 ],
 "metadata": {},
 "nbformat": 4,
 "nbformat_minor": 5
}
