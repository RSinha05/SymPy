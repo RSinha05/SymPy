{
 "cells": [
  {
   "cell_type": "markdown",
   "id": "6921a2d8",
   "metadata": {},
   "source": [
    "The module does not cope well with discontinuities."
   ]
  },
  {
   "cell_type": "code",
   "execution_count": 2,
   "id": "bb85c54b",
   "metadata": {
    "collapsed": true
   },
   "outputs": [],
   "source": [
    "from sympy.plotting import plot"
   ]
  },
  {
   "cell_type": "code",
   "execution_count": 1,
   "id": "0e969dc9",
   "metadata": {
    "collapsed": false
   },
   "outputs": [],
   "source": [
    "plot(1/x)"
   ]
  },
  {
   "cell_type": "code",
   "execution_count": 4,
   "id": "8cbb4086",
   "metadata": {
    "collapsed": false
   },
   "outputs": [],
   "source": [
    "plot(1/x,(x, 0, 3))"
   ]
  },
  {
   "cell_type": "code",
   "execution_count": 6,
   "id": "4547dbb6",
   "metadata": {
    "collapsed": false
   },
   "outputs": [],
   "source": [
    "plot(Heaviside(x))"
   ]
  },
  {
   "cell_type": "code",
   "execution_count": 7,
   "id": "56e65d3d",
   "metadata": {
    "collapsed": false
   },
   "outputs": [],
   "source": [
    "plot(sqrt(x))"
   ]
  },
  {
   "cell_type": "code",
   "execution_count": 8,
   "id": "0c8a92c1",
   "metadata": {
    "collapsed": false
   },
   "outputs": [],
   "source": [
    "plot(-sqrt(sqrt(x)),sqrt(sqrt(x)))"
   ]
  },
  {
   "cell_type": "code",
   "execution_count": 9,
   "id": "86a56654",
   "metadata": {
    "collapsed": false
   },
   "outputs": [],
   "source": [
    "plot(LambertW(x))"
   ]
  },
  {
   "cell_type": "code",
   "execution_count": 10,
   "id": "d9810cb6",
   "metadata": {
    "collapsed": false
   },
   "outputs": [],
   "source": [
    "plot(LambertW(x), sqrt(LambertW(x)), (x, -2, 1))"
   ]
  }
 ],
 "metadata": {},
 "nbformat": 4,
 "nbformat_minor": 5
}
