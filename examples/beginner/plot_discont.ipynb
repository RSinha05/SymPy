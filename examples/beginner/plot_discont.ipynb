{
 "cells": [
  {
   "cell_type": "markdown",
   "id": "6c31fe41",
   "metadata": {},
   "source": [
    "The module does not cope well with discontinuities."
   ]
  },
  {
   "cell_type": "code",
   "execution_count": null,
   "id": "9983046f",
   "metadata": {},
   "outputs": [],
   "source": [
    "from sympy.plotting import plot\n",
    "from sympy import Symbol, Heaviside, LambertW, sqrt"
   ]
  },
  {
   "cell_type": "code",
   "execution_count": null,
   "id": "42322fe8",
   "metadata": {},
   "outputs": [],
   "source": [
    "x = Symbol('x')"
   ]
  },
  {
   "cell_type": "code",
   "execution_count": null,
   "id": "4dd820dc",
   "metadata": {},
   "outputs": [],
   "source": [
    "plot(1/x)"
   ]
  },
  {
   "cell_type": "code",
   "execution_count": null,
   "id": "874824a1",
   "metadata": {},
   "outputs": [],
   "source": [
    "plot(1/x,(x, 0, 3))"
   ]
  },
  {
   "cell_type": "code",
   "execution_count": null,
   "id": "391b067a",
   "metadata": {},
   "outputs": [],
   "source": [
    "plot(Heaviside(x))"
   ]
  },
  {
   "cell_type": "code",
   "execution_count": null,
   "id": "03db1985",
   "metadata": {},
   "outputs": [],
   "source": [
    "plot(sqrt(x))"
   ]
  },
  {
   "cell_type": "code",
   "execution_count": null,
   "id": "4b8ef87f",
   "metadata": {},
   "outputs": [],
   "source": [
    "plot(-sqrt(sqrt(x)),sqrt(sqrt(x)))"
   ]
  },
  {
   "cell_type": "code",
   "execution_count": null,
   "id": "433c76d5",
   "metadata": {},
   "outputs": [],
   "source": [
    "plot(LambertW(x))"
   ]
  },
  {
   "cell_type": "code",
   "execution_count": null,
   "id": "2f7355fc",
   "metadata": {},
   "outputs": [],
   "source": [
    "plot(LambertW(x), sqrt(LambertW(x)), (x, -2, 1))"
   ]
  },
  {
   "cell_type": "code",
   "execution_count": null,
   "id": "fe014d2a",
   "metadata": {},
   "outputs": [],
   "source": []
  }
 ],
 "metadata": {
  "kernelspec": {
   "display_name": "Python 3 (ipykernel)",
   "language": "python",
   "name": "python3"
  },
  "language_info": {
   "codemirror_mode": {
    "name": "ipython",
    "version": 3
   },
   "file_extension": ".py",
   "mimetype": "text/x-python",
   "name": "python",
   "nbconvert_exporter": "python",
   "pygments_lexer": "ipython3",
   "version": "3.8.10"
  }
 },
 "nbformat": 4,
 "nbformat_minor": 5
}
