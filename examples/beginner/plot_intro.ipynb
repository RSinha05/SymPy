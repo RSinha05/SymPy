{
 "cells": [
  {
   "cell_type": "markdown",
   "id": "37d5b631",
   "metadata": {},
   "source": [
    "#New Plotting Framework for SymPy"
   ]
  },
  {
   "cell_type": "markdown",
   "id": "a7c9aa73",
   "metadata": {},
   "source": [
    "\n",
    "\n",
    "## Structure of the Module\n",
    "\n",
    "\n",
    "\n",
    "This module implements a new plotting framework for SymPy. The central class of the module is the `Plot` class that connects the data representations (subclasses of `BaseSeries`) with different plotting backends. It's not imported by default for backward compatibility with the old module.\n",
    "\n",
    "\n",
    "\n",
    "Then there are the `plot_*()` functions for plotting different kinds of plots and is better suited for interactive work.\n",
    "\n",
    "\n",
    "\n",
    "* ``plot``: Plots line plots in 2D.\n",
    "\n",
    "* ``plot_parametric``: Plots parametric line plots in 2D.\n",
    "\n",
    "* ``plot_implicit`` : Plots implicit equations and region plots in 2D\n",
    "\n",
    "* ``plot3d`` : Plots functions of two variables in 3D\n",
    "\n",
    "* ``plot3d_parametric_line``: Plots line parametric plots in 3D\n",
    "\n",
    "* ``plot3d_parametric_surface``   : Plots surface parametric plots of functions with two variables in 3D."
   ]
  },
  {
   "cell_type": "markdown",
   "id": "9305c5aa",
   "metadata": {},
   "source": [
    "##General examples"
   ]
  },
  {
   "cell_type": "code",
   "execution_count": 8,
   "id": "20e95c89",
   "metadata": {
    "collapsed": true
   },
   "outputs": [],
   "source": [
    "from sympy.plotting import plot, plot_parametric, plot3d, plot3d_parametric_line, plot3d_parametric_surface"
   ]
  },
  {
   "cell_type": "code",
   "execution_count": 9,
   "id": "5f66fc03",
   "metadata": {
    "collapsed": false
   },
   "outputs": [],
   "source": [
    "p = plot(x)"
   ]
  },
  {
   "cell_type": "code",
   "execution_count": 10,
   "id": "ac8bc4dd",
   "metadata": {
    "collapsed": false
   },
   "outputs": [],
   "source": [
    "p # the Plot object"
   ]
  },
  {
   "cell_type": "code",
   "execution_count": 11,
   "id": "51966383",
   "metadata": {
    "collapsed": false
   },
   "outputs": [],
   "source": [
    "p[0] # one of the data series objects"
   ]
  },
  {
   "cell_type": "code",
   "execution_count": 12,
   "id": "315a4059",
   "metadata": {
    "collapsed": false
   },
   "outputs": [],
   "source": [
    "p[0].label # an option of the data series"
   ]
  },
  {
   "cell_type": "code",
   "execution_count": 13,
   "id": "f3d991b1",
   "metadata": {
    "collapsed": false
   },
   "outputs": [],
   "source": [
    "p.legend # a global option of the plot"
   ]
  },
  {
   "cell_type": "code",
   "execution_count": 14,
   "id": "fdd6bfb5",
   "metadata": {
    "collapsed": false
   },
   "outputs": [],
   "source": [
    "p.legend = True\n",
    "\n",
    "p.show()"
   ]
  },
  {
   "cell_type": "markdown",
   "id": "da2adb1b",
   "metadata": {},
   "source": [
    "You can plot 2D different functions in the same plot."
   ]
  },
  {
   "cell_type": "code",
   "execution_count": 15,
   "id": "88b7bd99",
   "metadata": {
    "collapsed": false
   },
   "outputs": [],
   "source": [
    "p1 = plot_parametric(x*sin(x),x*cos(x), show=False)\n",
    "\n",
    "p1.extend(p) # Plot objects are just like lists.\n",
    "\n",
    "p1.show()"
   ]
  },
  {
   "cell_type": "code",
   "execution_count": 16,
   "id": "b659e90b",
   "metadata": {
    "collapsed": false
   },
   "outputs": [],
   "source": [
    "p1.legend = True\n",
    "\n",
    "p1.show()"
   ]
  },
  {
   "cell_type": "code",
   "execution_count": 17,
   "id": "0a664666",
   "metadata": {
    "collapsed": false
   },
   "outputs": [],
   "source": [
    "p1[0].line_color='r'\n",
    "\n",
    "p1[1].line_color='b' # a constant color\n",
    "\n",
    "p1.show()"
   ]
  },
  {
   "cell_type": "code",
   "execution_count": 18,
   "id": "74420900",
   "metadata": {
    "collapsed": false
   },
   "outputs": [],
   "source": [
    "p1[0].line_color = lambda a : a # color dependent on the parameter\n",
    "\n",
    "p1.show()"
   ]
  },
  {
   "cell_type": "code",
   "execution_count": 19,
   "id": "7aa0703f",
   "metadata": {
    "collapsed": false
   },
   "outputs": [],
   "source": [
    "p1.title = 'Big title'\n",
    "\n",
    "p1.xlabel = 'the x axis'\n",
    "\n",
    "p1[1].label = 'straight line'\n",
    "\n",
    "p1.show()"
   ]
  },
  {
   "cell_type": "code",
   "execution_count": 20,
   "id": "fabf9e0e",
   "metadata": {
    "collapsed": false
   },
   "outputs": [],
   "source": [
    "p1.aspect_ratio"
   ]
  },
  {
   "cell_type": "code",
   "execution_count": 21,
   "id": "c8d18cb6",
   "metadata": {
    "collapsed": false
   },
   "outputs": [],
   "source": [
    "p1.aspect_ratio = (1,1)\n",
    "\n",
    "p1.xlim = (-15,20)\n",
    "\n",
    "p1.show()"
   ]
  },
  {
   "cell_type": "markdown",
   "id": "4d3923ea",
   "metadata": {},
   "source": [
    "Hm, `xlim` does not work in the notebook. Hopefully it works in IPython."
   ]
  },
  {
   "cell_type": "code",
   "execution_count": 17,
   "id": "5093ff7e",
   "metadata": {
    "collapsed": true
   },
   "outputs": [],
   "source": [
    "p1._backend.ax.get_xlim()"
   ]
  },
  {
   "cell_type": "markdown",
   "id": "d2d2904e",
   "metadata": {},
   "source": [
    "Yeah, the backend got the command, but the `inline` backend does not honour it."
   ]
  },
  {
   "cell_type": "markdown",
   "id": "bc669c97",
   "metadata": {},
   "source": [
    "## Adding expressions to a plot"
   ]
  },
  {
   "cell_type": "code",
   "execution_count": 23,
   "id": "66f0d3e3",
   "metadata": {
    "collapsed": false
   },
   "outputs": [],
   "source": [
    "p = plot(x)\n",
    "\n",
    "p"
   ]
  },
  {
   "cell_type": "code",
   "execution_count": 24,
   "id": "507b5609",
   "metadata": {
    "collapsed": false
   },
   "outputs": [],
   "source": [
    "p.extend(plot(x+1, show=False))\n",
    "\n",
    "p.show()\n",
    "\n",
    "p"
   ]
  },
  {
   "cell_type": "code",
   "execution_count": 25,
   "id": "83fc522f",
   "metadata": {
    "collapsed": false
   },
   "outputs": [],
   "source": [
    "p.append(plot(x+3, x**2, show=False)[1])\n",
    "\n",
    "p.show()\n",
    "\n",
    "p"
   ]
  },
  {
   "cell_type": "markdown",
   "id": "d70192b3",
   "metadata": {},
   "source": [
    "## Different types of plots"
   ]
  },
  {
   "cell_type": "markdown",
   "id": "ebf30cce",
   "metadata": {},
   "source": [
    "###``plot``\n",
    "\n",
    "The ``plot`` by default uses an recursive adaptive algorithm to plot line plots. The default depth of recursion is 12, which means the function will be sampled at a maximum of $2^{12}$ points."
   ]
  },
  {
   "cell_type": "code",
   "execution_count": 26,
   "id": "62f926a0",
   "metadata": {
    "collapsed": false
   },
   "outputs": [],
   "source": [
    "help(plot)"
   ]
  },
  {
   "cell_type": "code",
   "execution_count": 28,
   "id": "713fe2c6",
   "metadata": {
    "collapsed": false
   },
   "outputs": [],
   "source": [
    "plot(sin(x**2)) # plots with adaptive sampling and default range of (-10, 10)"
   ]
  },
  {
   "cell_type": "markdown",
   "id": "44b6855b",
   "metadata": {},
   "source": [
    "You can also specify the depth of the recursion. It is also possible to disable adaptive sampling and use uniform sampling with ``nb_of_points``."
   ]
  },
  {
   "cell_type": "code",
   "execution_count": 30,
   "id": "46f1dfc1",
   "metadata": {
    "collapsed": false
   },
   "outputs": [],
   "source": [
    "plot(sin(x**2), depth=7)  #specifying the depth of recursion."
   ]
  },
  {
   "cell_type": "code",
   "execution_count": 31,
   "id": "d51d48f0",
   "metadata": {
    "collapsed": false
   },
   "outputs": [],
   "source": [
    "plot(sin(x**2), adaptive=False, nb_of_points=500)"
   ]
  },
  {
   "cell_type": "markdown",
   "id": "d5e44332",
   "metadata": {},
   "source": [
    "###``plot_parametric``\n",
    "\n",
    "``plot_parametric`` uses an recursive adaptive sampling algorithm to plot."
   ]
  },
  {
   "cell_type": "code",
   "execution_count": 32,
   "id": "a80423ad",
   "metadata": {
    "collapsed": false
   },
   "outputs": [],
   "source": [
    "help(plot_parametric)"
   ]
  },
  {
   "cell_type": "code",
   "execution_count": 33,
   "id": "7e0f3e43",
   "metadata": {
    "collapsed": false
   },
   "outputs": [],
   "source": [
    "plot_parametric(cos(x), sin(x))"
   ]
  },
  {
   "cell_type": "markdown",
   "id": "c89e0378",
   "metadata": {},
   "source": [
    "Multiple plots."
   ]
  },
  {
   "cell_type": "code",
   "execution_count": 34,
   "id": "0e0b41ee",
   "metadata": {
    "collapsed": false
   },
   "outputs": [],
   "source": [
    "plot_parametric((cos(x), sin(x)), (x, cos(x)))"
   ]
  },
  {
   "cell_type": "markdown",
   "id": "177f0f67",
   "metadata": {},
   "source": [
    "We can combine parametric and line plots into a single plot."
   ]
  },
  {
   "cell_type": "code",
   "execution_count": 35,
   "id": "a8109aae",
   "metadata": {
    "collapsed": false
   },
   "outputs": [],
   "source": [
    "p = plot(sin(x), show=False)\n",
    "\n",
    "\n",
    "\n",
    "p.extend(plot_parametric(cos(x), sin(x), show=False))\n",
    "\n",
    "p.show()"
   ]
  },
  {
   "cell_type": "markdown",
   "id": "3556bf69",
   "metadata": {},
   "source": [
    "###``plot3d``"
   ]
  },
  {
   "cell_type": "code",
   "execution_count": 36,
   "id": "2286caf7",
   "metadata": {
    "collapsed": false
   },
   "outputs": [],
   "source": [
    "help(plot3d)"
   ]
  },
  {
   "cell_type": "code",
   "execution_count": 37,
   "id": "1a64cde4",
   "metadata": {
    "collapsed": false
   },
   "outputs": [],
   "source": [
    "plot3d(x*y)"
   ]
  },
  {
   "cell_type": "code",
   "execution_count": 38,
   "id": "42cf17e5",
   "metadata": {
    "collapsed": false
   },
   "outputs": [],
   "source": [
    "plot3d(x*y, nb_of_points_x=100, nb_of_points_y=50) "
   ]
  },
  {
   "cell_type": "markdown",
   "id": "6c5ae4b6",
   "metadata": {},
   "source": [
    "###``plot3_parametric_line``"
   ]
  },
  {
   "cell_type": "code",
   "execution_count": 39,
   "id": "74e2ea07",
   "metadata": {
    "collapsed": false
   },
   "outputs": [],
   "source": [
    "help(plot3d_parametric_line)"
   ]
  },
  {
   "cell_type": "code",
   "execution_count": 40,
   "id": "b4ce478d",
   "metadata": {
    "collapsed": false
   },
   "outputs": [],
   "source": [
    "plot3d_parametric_line(cos(x), sin(x), x)"
   ]
  },
  {
   "cell_type": "markdown",
   "id": "6ae2a0a2",
   "metadata": {},
   "source": [
    "###``plot3d_parametric_surface``"
   ]
  },
  {
   "cell_type": "code",
   "execution_count": 41,
   "id": "cb5e087e",
   "metadata": {
    "collapsed": false
   },
   "outputs": [],
   "source": [
    "help(plot3d_parametric_surface)"
   ]
  },
  {
   "cell_type": "code",
   "execution_count": 42,
   "id": "b0453a17",
   "metadata": {
    "collapsed": false
   },
   "outputs": [],
   "source": [
    "plot3d_parametric_surface(cos(x + y), sin(x - y), x - y)"
   ]
  },
  {
   "cell_type": "markdown",
   "id": "6566168f",
   "metadata": {},
   "source": [
    "## Complex values\n",
    "\n",
    "If complex values are encountered, they are discarded while plotting."
   ]
  },
  {
   "cell_type": "code",
   "execution_count": 43,
   "id": "f861bc4f",
   "metadata": {
    "collapsed": false
   },
   "outputs": [],
   "source": [
    "plot(sqrt(x), (x, -5, 5))"
   ]
  },
  {
   "cell_type": "markdown",
   "id": "1a1b0450",
   "metadata": {},
   "source": [
    "\n",
    "\n",
    "## Textplot\n",
    "\n",
    "\n",
    "\n",
    "There is also the textplot backend that permits plotting in the terminal."
   ]
  },
  {
   "cell_type": "code",
   "execution_count": 44,
   "id": "109d0462",
   "metadata": {
    "collapsed": true
   },
   "outputs": [],
   "source": [
    "pt = plot(sin(x),show=False)"
   ]
  },
  {
   "cell_type": "code",
   "execution_count": 45,
   "id": "536ea27b",
   "metadata": {
    "collapsed": true
   },
   "outputs": [],
   "source": [
    "pt.backend = plot_backends['text']"
   ]
  },
  {
   "cell_type": "code",
   "execution_count": 46,
   "id": "5937b25e",
   "metadata": {
    "collapsed": false
   },
   "outputs": [],
   "source": [
    "pt.show()"
   ]
  }
 ],
 "metadata": {},
 "nbformat": 4,
 "nbformat_minor": 5
}
