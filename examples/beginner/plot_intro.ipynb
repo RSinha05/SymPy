{
 "cells": [
  {
   "cell_type": "markdown",
   "id": "27e5dd49",
   "metadata": {},
   "source": [
    "# New Plotting Framework for SymPy"
   ]
  },
  {
   "cell_type": "markdown",
   "id": "ea5f6050",
   "metadata": {},
   "source": [
    "\n",
    "\n",
    "## Structure of the Module\n",
    "\n",
    "\n",
    "\n",
    "This module implements a new plotting framework for SymPy. The central class of the module is the `Plot` class that connects the data representations (subclasses of `BaseSeries`) with different plotting backends. It's not imported by default for backward compatibility with the old module.\n",
    "\n",
    "\n",
    "\n",
    "Then there are the `plot_*()` functions for plotting different kinds of plots and is better suited for interactive work.\n",
    "\n",
    "\n",
    "\n",
    "* ``plot``: Plots line plots in 2D.\n",
    "\n",
    "* ``plot_parametric``: Plots parametric line plots in 2D.\n",
    "\n",
    "* ``plot_implicit`` : Plots implicit equations and region plots in 2D\n",
    "\n",
    "* ``plot3d`` : Plots functions of two variables in 3D\n",
    "\n",
    "* ``plot3d_parametric_line``: Plots line parametric plots in 3D\n",
    "\n",
    "* ``plot3d_parametric_surface``   : Plots surface parametric plots of functions with two variables in 3D."
   ]
  },
  {
   "cell_type": "markdown",
   "id": "5a0457af",
   "metadata": {},
   "source": [
    "## General examples"
   ]
  },
  {
   "cell_type": "code",
   "execution_count": null,
   "id": "722f52bc",
   "metadata": {},
   "outputs": [],
   "source": [
    "from sympy.plotting import plot, plot_parametric, plot3d, plot3d_parametric_line, plot3d_parametric_surface, plot_backends\n",
    "from sympy import Symbol, sin, cos, sqrt"
   ]
  },
  {
   "cell_type": "code",
   "execution_count": null,
   "id": "42618a56",
   "metadata": {},
   "outputs": [],
   "source": [
    "x = Symbol(\"x\")\n",
    "y = Symbol(\"y\")"
   ]
  },
  {
   "cell_type": "code",
   "execution_count": null,
   "id": "042c231c",
   "metadata": {},
   "outputs": [],
   "source": [
    "p = plot(x)"
   ]
  },
  {
   "cell_type": "code",
   "execution_count": null,
   "id": "72626b6e",
   "metadata": {},
   "outputs": [],
   "source": [
    "p # the Plot object"
   ]
  },
  {
   "cell_type": "code",
   "execution_count": null,
   "id": "95236dc5",
   "metadata": {},
   "outputs": [],
   "source": [
    "p[0] # one of the data series objects"
   ]
  },
  {
   "cell_type": "code",
   "execution_count": null,
   "id": "a8b598d9",
   "metadata": {},
   "outputs": [],
   "source": [
    "p[0].label # an option of the data series"
   ]
  },
  {
   "cell_type": "code",
   "execution_count": null,
   "id": "d1e8bbe9",
   "metadata": {},
   "outputs": [],
   "source": [
    "p.legend # a global option of the plot"
   ]
  },
  {
   "cell_type": "code",
   "execution_count": null,
   "id": "cbd59909",
   "metadata": {},
   "outputs": [],
   "source": [
    "p.legend = True\n",
    "\n",
    "p.show()"
   ]
  },
  {
   "cell_type": "markdown",
   "id": "1246d4e2",
   "metadata": {},
   "source": [
    "You can plot 2D different functions in the same plot."
   ]
  },
  {
   "cell_type": "code",
   "execution_count": null,
   "id": "29ddd040",
   "metadata": {},
   "outputs": [],
   "source": [
    "p1 = plot_parametric(x*sin(x),x*cos(x), show=False)\n",
    "\n",
    "p1.extend(p) # Plot objects are just like lists.\n",
    "\n",
    "p1.show()"
   ]
  },
  {
   "cell_type": "code",
   "execution_count": null,
   "id": "79b68e77",
   "metadata": {},
   "outputs": [],
   "source": [
    "p1.legend = True\n",
    "\n",
    "p1.show()"
   ]
  },
  {
   "cell_type": "code",
   "execution_count": null,
   "id": "fc8f34b8",
   "metadata": {},
   "outputs": [],
   "source": [
    "p1[0].line_color='r'\n",
    "\n",
    "p1[1].line_color='b' # a constant color\n",
    "\n",
    "p1.show()"
   ]
  },
  {
   "cell_type": "code",
   "execution_count": null,
   "id": "2fce04a5",
   "metadata": {},
   "outputs": [],
   "source": [
    "p1[0].line_color = lambda a : a # color dependent on the parameter\n",
    "\n",
    "p1.show()"
   ]
  },
  {
   "cell_type": "code",
   "execution_count": null,
   "id": "782e6e18",
   "metadata": {},
   "outputs": [],
   "source": [
    "p1.title = 'Big title'\n",
    "\n",
    "p1.xlabel = 'the x axis'\n",
    "\n",
    "p1[1].label = 'straight line'\n",
    "\n",
    "p1.show()"
   ]
  },
  {
   "cell_type": "code",
   "execution_count": null,
   "id": "9e098ea9",
   "metadata": {},
   "outputs": [],
   "source": [
    "p1.aspect_ratio"
   ]
  },
  {
   "cell_type": "code",
   "execution_count": null,
   "id": "8cd86405",
   "metadata": {},
   "outputs": [],
   "source": [
    "p1.aspect_ratio = (1,1)\n",
    "\n",
    "p1.xlim = (-15,20)\n",
    "\n",
    "p1.show()"
   ]
  },
  {
   "cell_type": "markdown",
   "id": "8051ff9b",
   "metadata": {},
   "source": [
    "Hm, `xlim` does not work in the notebook. Hopefully it works in IPython."
   ]
  },
  {
   "cell_type": "code",
   "execution_count": null,
   "id": "89ffe20f",
   "metadata": {},
   "outputs": [],
   "source": [
    "p1._backend.ax.get_xlim()"
   ]
  },
  {
   "cell_type": "markdown",
   "id": "b3cddcb4",
   "metadata": {},
   "source": [
    "## Adding expressions to a plot"
   ]
  },
  {
   "cell_type": "code",
   "execution_count": null,
   "id": "815808d0",
   "metadata": {},
   "outputs": [],
   "source": [
    "p = plot(x)\n",
    "\n",
    "p"
   ]
  },
  {
   "cell_type": "code",
   "execution_count": null,
   "id": "6ddde1ff",
   "metadata": {},
   "outputs": [],
   "source": [
    "p.extend(plot(x+1, show=False))\n",
    "\n",
    "p.show()\n",
    "\n",
    "p"
   ]
  },
  {
   "cell_type": "code",
   "execution_count": null,
   "id": "1b9d5fc2",
   "metadata": {},
   "outputs": [],
   "source": [
    "p.append(plot(x+3, x**2, show=False)[1])\n",
    "\n",
    "p.show()\n",
    "\n",
    "p"
   ]
  },
  {
   "cell_type": "markdown",
   "id": "44307103",
   "metadata": {},
   "source": [
    "## Different types of plots"
   ]
  },
  {
   "cell_type": "markdown",
   "id": "289eddfa",
   "metadata": {},
   "source": [
    "### ``plot``\n",
    "\n",
    "The ``plot`` by default uses an recursive adaptive algorithm to plot line plots. The default depth of recursion is 12, which means the function will be sampled at a maximum of $2^{12}$ points."
   ]
  },
  {
   "cell_type": "code",
   "execution_count": null,
   "id": "24219204",
   "metadata": {},
   "outputs": [],
   "source": [
    "help(plot)"
   ]
  },
  {
   "cell_type": "code",
   "execution_count": null,
   "id": "934cd511",
   "metadata": {},
   "outputs": [],
   "source": [
    "plot(sin(x**2)) # plots with adaptive sampling and default range of (-10, 10)"
   ]
  },
  {
   "cell_type": "markdown",
   "id": "96002b96",
   "metadata": {},
   "source": [
    "You can also specify the depth of the recursion. It is also possible to disable adaptive sampling and use uniform sampling with ``nb_of_points``."
   ]
  },
  {
   "cell_type": "code",
   "execution_count": null,
   "id": "9e6805d2",
   "metadata": {},
   "outputs": [],
   "source": [
    "plot(sin(x**2), depth=7)  #specifying the depth of recursion."
   ]
  },
  {
   "cell_type": "code",
   "execution_count": null,
   "id": "0440da34",
   "metadata": {},
   "outputs": [],
   "source": [
    "plot(sin(x**2), adaptive=False, nb_of_points=500)"
   ]
  },
  {
   "cell_type": "markdown",
   "id": "289000f7",
   "metadata": {},
   "source": [
    "### ``plot_parametric``\n",
    "\n",
    "``plot_parametric`` uses an recursive adaptive sampling algorithm to plot."
   ]
  },
  {
   "cell_type": "code",
   "execution_count": null,
   "id": "93db913c",
   "metadata": {},
   "outputs": [],
   "source": [
    "help(plot_parametric)"
   ]
  },
  {
   "cell_type": "code",
   "execution_count": null,
   "id": "734f4746",
   "metadata": {},
   "outputs": [],
   "source": [
    "plot_parametric(cos(x), sin(x))"
   ]
  },
  {
   "cell_type": "markdown",
   "id": "7a4b7f1e",
   "metadata": {},
   "source": [
    "Multiple plots."
   ]
  },
  {
   "cell_type": "code",
   "execution_count": null,
   "id": "cf9297ae",
   "metadata": {},
   "outputs": [],
   "source": [
    "plot_parametric((cos(x), sin(x)), (x, cos(x)))"
   ]
  },
  {
   "cell_type": "markdown",
   "id": "bbb5f70a",
   "metadata": {},
   "source": [
    "We can combine parametric and line plots into a single plot."
   ]
  },
  {
   "cell_type": "markdown",
   "id": "592b6bfe",
   "metadata": {},
   "source": [
    "p = plot(sin(x), show=False)\n",
    "\n",
    "\n",
    "\n",
    "p.extend(plot_parametric(cos(x), sin(x), show=False))\n",
    "\n",
    "p.show()"
   ]
  },
  {
   "cell_type": "markdown",
   "id": "3e89cfda",
   "metadata": {},
   "source": [
    "### ``plot3d``"
   ]
  },
  {
   "cell_type": "code",
   "execution_count": null,
   "id": "6cf03a22",
   "metadata": {},
   "outputs": [],
   "source": [
    "help(plot3d)"
   ]
  },
  {
   "cell_type": "code",
   "execution_count": null,
   "id": "16e90d8a",
   "metadata": {},
   "outputs": [],
   "source": [
    "plot3d(x*y)"
   ]
  },
  {
   "cell_type": "code",
   "execution_count": null,
   "id": "7ecc87c4",
   "metadata": {},
   "outputs": [],
   "source": [
    "plot3d(x*y, nb_of_points_x=100, nb_of_points_y=50) "
   ]
  },
  {
   "cell_type": "markdown",
   "id": "bdd0ca94",
   "metadata": {},
   "source": [
    "### ``plot3_parametric_line``"
   ]
  },
  {
   "cell_type": "code",
   "execution_count": null,
   "id": "9f3db086",
   "metadata": {},
   "outputs": [],
   "source": [
    "help(plot3d_parametric_line)"
   ]
  },
  {
   "cell_type": "code",
   "execution_count": null,
   "id": "0cc7bbfa",
   "metadata": {},
   "outputs": [],
   "source": [
    "plot3d_parametric_line(cos(x), sin(x), x)"
   ]
  },
  {
   "cell_type": "markdown",
   "id": "8c23678b",
   "metadata": {},
   "source": [
    "### ``plot3d_parametric_surface``"
   ]
  },
  {
   "cell_type": "code",
   "execution_count": null,
   "id": "302d3de1",
   "metadata": {},
   "outputs": [],
   "source": [
    "help(plot3d_parametric_surface)"
   ]
  },
  {
   "cell_type": "code",
   "execution_count": null,
   "id": "1740a2bf",
   "metadata": {},
   "outputs": [],
   "source": [
    "plot3d_parametric_surface(cos(x + y), sin(x - y), x - y)"
   ]
  },
  {
   "cell_type": "markdown",
   "id": "c9f20af3",
   "metadata": {},
   "source": [
    "## Complex values\n",
    "\n",
    "If complex values are encountered, they are discarded while plotting."
   ]
  },
  {
   "cell_type": "code",
   "execution_count": null,
   "id": "7b29361c",
   "metadata": {},
   "outputs": [],
   "source": [
    "plot(sqrt(x), (x, -5, 5))"
   ]
  },
  {
   "cell_type": "markdown",
   "id": "8654d3ca",
   "metadata": {},
   "source": [
    "\n",
    "\n",
    "## Textplot\n",
    "\n",
    "\n",
    "\n",
    "There is also the textplot backend that permits plotting in the terminal."
   ]
  },
  {
   "cell_type": "code",
   "execution_count": null,
   "id": "5668747d",
   "metadata": {},
   "outputs": [],
   "source": [
    "pt = plot(sin(x),show=False)"
   ]
  },
  {
   "cell_type": "code",
   "execution_count": null,
   "id": "d1923765",
   "metadata": {},
   "outputs": [],
   "source": [
    "pt.backend = plot_backends['text']"
   ]
  },
  {
   "cell_type": "code",
   "execution_count": null,
   "id": "e30a6a74",
   "metadata": {},
   "outputs": [],
   "source": [
    "pt.show()"
   ]
  },
  {
   "cell_type": "code",
   "execution_count": null,
   "id": "6755e680",
   "metadata": {},
   "outputs": [],
   "source": []
  }
 ],
 "metadata": {
  "kernelspec": {
   "display_name": "Python 3 (ipykernel)",
   "language": "python",
   "name": "python3"
  },
  "language_info": {
   "codemirror_mode": {
    "name": "ipython",
    "version": 3
   },
   "file_extension": ".py",
   "mimetype": "text/x-python",
   "name": "python",
   "nbconvert_exporter": "python",
   "pygments_lexer": "ipython3",
   "version": "3.8.10"
  }
 },
 "nbformat": 4,
 "nbformat_minor": 5
}
