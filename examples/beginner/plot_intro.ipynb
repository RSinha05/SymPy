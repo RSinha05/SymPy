{
 "metadata": {
  "name": "plot_intro"
 },
 "nbformat": 3,
 "nbformat_minor": 0,
 "worksheets": [
  {
   "cells": [
    {
     "cell_type": "markdown",
     "metadata": {},
     "source": [
      "#New Plotting Framework for SymPy"
     ]
    },
    {
     "cell_type": "markdown",
     "metadata": {},
     "source": [
      "\n",
      "## Structure of the Module\n",
      "\n",
      "This module implements a new plotting framework for SymPy. The central class of the module is the `Plot` class that connects the data representations (subclasses of `BaseSeries`) with different plotting backends. It's not imported by default for backward compatibility with the old module.\n",
      "\n",
      "Then there is the `plot()` function that has a less stricter requirements for its input and is better suited for interactive work."
     ]
    },
    {
     "cell_type": "markdown",
     "metadata": {},
     "source": [
      "## Docstrings"
     ]
    },
    {
     "cell_type": "code",
     "collapsed": false,
     "input": [
      "help(plot)"
     ],
     "language": "python",
     "metadata": {},
     "outputs": []
    },
    {
     "cell_type": "code",
     "collapsed": false,
     "input": [
      "help(Plot) # This is from the old module!"
     ],
     "language": "python",
     "metadata": {},
     "outputs": []
    },
    {
     "cell_type": "markdown",
     "metadata": {},
     "source": [
      "##General examples"
     ]
    },
    {
     "cell_type": "code",
     "collapsed": false,
     "input": [
      "p = plot(x)"
     ],
     "language": "python",
     "metadata": {},
     "outputs": []
    },
    {
     "cell_type": "code",
     "collapsed": false,
     "input": [
      "p # the Plot object"
     ],
     "language": "python",
     "metadata": {},
     "outputs": []
    },
    {
     "cell_type": "code",
     "collapsed": false,
     "input": [
      "p[0] # one of the data series objects"
     ],
     "language": "python",
     "metadata": {},
     "outputs": []
    },
    {
     "cell_type": "code",
     "collapsed": false,
     "input": [
      "p[0].label # an option of the data series"
     ],
     "language": "python",
     "metadata": {},
     "outputs": []
    },
    {
     "cell_type": "code",
     "collapsed": false,
     "input": [
      "p.legend # a global option of the plot"
     ],
     "language": "python",
     "metadata": {},
     "outputs": []
    },
    {
     "cell_type": "code",
     "collapsed": false,
     "input": [
      "p.legend = True\n",
      "p.show()"
     ],
     "language": "python",
     "metadata": {},
     "outputs": []
    },
    {
     "cell_type": "code",
     "collapsed": false,
     "input": [
      "p1 = plot(x*sin(x),x*cos(x), show=False)\n",
      "p1.extend(p) # Plot objects are just like lists.\n",
      "p1.show()"
     ],
     "language": "python",
     "metadata": {},
     "outputs": []
    },
    {
     "cell_type": "code",
     "collapsed": false,
     "input": [
      "p1.legend = True\n",
      "p1.show()"
     ],
     "language": "python",
     "metadata": {},
     "outputs": []
    },
    {
     "cell_type": "code",
     "collapsed": false,
     "input": [
      "p1[0].line_color='r'\n",
      "p1[1].line_color='b' # a constant color\n",
      "p1.show()"
     ],
     "language": "python",
     "metadata": {},
     "outputs": []
    },
    {
     "cell_type": "code",
     "collapsed": false,
     "input": [
      "p1[0].line_color = lambda a : a # color dependent on the parameter\n",
      "p1.show()"
     ],
     "language": "python",
     "metadata": {},
     "outputs": []
    },
    {
     "cell_type": "code",
     "collapsed": false,
     "input": [
      "p1.title = 'Big title'\n",
      "p1.xlabel = 'the x axis'\n",
      "p1[1].label = 'straight line'\n",
      "p1.show()"
     ],
     "language": "python",
     "metadata": {},
     "outputs": []
    },
    {
     "cell_type": "code",
     "collapsed": false,
     "input": [
      "p1.aspect_ratio"
     ],
     "language": "python",
     "metadata": {},
     "outputs": []
    },
    {
     "cell_type": "code",
     "collapsed": false,
     "input": [
      "p1.aspect_ratio = (1,1)\n",
      "p1.xlim = (-15,20)\n",
      "p1.show()"
     ],
     "language": "python",
     "metadata": {},
     "outputs": []
    },
    {
     "cell_type": "markdown",
     "metadata": {},
     "source": [
      "Hm, `xlim` does not work in the notebook. Hopefully it works in IPython."
     ]
    },
    {
     "cell_type": "code",
     "collapsed": false,
     "input": [
      "p1._backend.ax.get_xlim()"
     ],
     "language": "python",
     "metadata": {},
     "outputs": []
    },
    {
     "cell_type": "markdown",
     "metadata": {},
     "source": [
      "Yeah, the backend got the command, but the `inline` backend does not honour it."
     ]
    },
    {
     "cell_type": "markdown",
     "metadata": {},
     "source": [
      "## Adding expressions to a plot"
     ]
    },
    {
     "cell_type": "code",
     "collapsed": false,
     "input": [
      "p = plot(x)\n",
      "p"
     ],
     "language": "python",
     "metadata": {},
     "outputs": []
    },
    {
     "cell_type": "code",
     "collapsed": false,
     "input": [
      "p.extend(plot(x+1, show=False))\n",
      "p.show()\n",
      "p"
     ],
     "language": "python",
     "metadata": {},
     "outputs": []
    },
    {
     "cell_type": "code",
     "collapsed": false,
     "input": [
      "p.append(plot((x+3,),(x**2,), show=False)[1])\n",
      "p.show()\n",
      "p"
     ],
     "language": "python",
     "metadata": {},
     "outputs": []
    },
    {
     "cell_type": "code",
     "collapsed": false,
     "input": [
      "p[2] = x**2, (x, -2, 3)  # you must be explicit when not using plot()\n",
      "p.show() # and call show() yourself"
     ],
     "language": "python",
     "metadata": {},
     "outputs": []
    },
    {
     "cell_type": "markdown",
     "metadata": {},
     "source": [
      "\n",
      "Or even sending a `Plot` or a `Series` object to the `plot` function."
     ]
    },
    {
     "cell_type": "code",
     "collapsed": false,
     "input": [
      "a = plot((x,(0,2)), (x**2,(0,2)))"
     ],
     "language": "python",
     "metadata": {},
     "outputs": []
    },
    {
     "cell_type": "code",
     "collapsed": false,
     "input": [
      "plot(a)"
     ],
     "language": "python",
     "metadata": {},
     "outputs": []
    },
    {
     "cell_type": "code",
     "collapsed": false,
     "input": [
      "plot(a[0])"
     ],
     "language": "python",
     "metadata": {},
     "outputs": []
    },
    {
     "cell_type": "markdown",
     "metadata": {},
     "source": [
      "## Ambiguous input in `plot()`\n",
      "\n",
      "`plot()` is capable of working with more ambiguous input than `Plot()`. The later needs explicit free variables and range while the first finds the free variables and has default ranges.\n",
      "\n",
      "The number of expression determines the type of the plot. The arguments to `plot()` can also be tuples, every tuples containing a new expression to be plotted."
     ]
    },
    {
     "cell_type": "code",
     "collapsed": false,
     "input": [
      "plot(sin(x),(x,-2*pi,4*pi)) # explicit 2D line"
     ],
     "language": "python",
     "metadata": {},
     "outputs": []
    },
    {
     "cell_type": "code",
     "collapsed": false,
     "input": [
      "plot(sin(x),(-2*pi,4*pi)) # implicit free variable"
     ],
     "language": "python",
     "metadata": {},
     "outputs": []
    },
    {
     "cell_type": "code",
     "collapsed": false,
     "input": [
      "plot(sin(x)) # and default range"
     ],
     "language": "python",
     "metadata": {},
     "outputs": []
    },
    {
     "cell_type": "markdown",
     "metadata": {},
     "source": [
      "## Different types of plots"
     ]
    },
    {
     "cell_type": "code",
     "collapsed": false,
     "input": [
      "plot((x,), (x*sin(x), x*cos(x))) # cartesian line and a parametric line"
     ],
     "language": "python",
     "metadata": {},
     "outputs": []
    },
    {
     "cell_type": "code",
     "collapsed": false,
     "input": [
      "plot(sin(x),cos(x),x) # 3D parametric line"
     ],
     "language": "python",
     "metadata": {},
     "outputs": []
    },
    {
     "cell_type": "code",
     "collapsed": false,
     "input": [
      "plot(x*y) # a surface"
     ],
     "language": "python",
     "metadata": {},
     "outputs": []
    },
    {
     "cell_type": "code",
     "collapsed": false,
     "input": [
      "plot(x*sin(z),x*cos(z),z) # parametric surface"
     ],
     "language": "python",
     "metadata": {},
     "outputs": []
    },
    {
     "cell_type": "markdown",
     "metadata": {},
     "source": [
      "## List of expressions as an argument\n",
      "\n",
      "Especially useful when plotting the output of `solve`."
     ]
    },
    {
     "cell_type": "code",
     "collapsed": false,
     "input": [
      "plot([x,x**2])"
     ],
     "language": "python",
     "metadata": {},
     "outputs": []
    },
    {
     "cell_type": "code",
     "collapsed": false,
     "input": [
      "plot([x,x**2], (0,2))"
     ],
     "language": "python",
     "metadata": {},
     "outputs": []
    },
    {
     "cell_type": "code",
     "collapsed": false,
     "input": [
      "plot([-abs(x*y)-10, abs(x*y)+10], (-5,5), (-5,5))"
     ],
     "language": "python",
     "metadata": {},
     "outputs": []
    },
    {
     "cell_type": "code",
     "collapsed": true,
     "input": [
      "solutions = solve(x**2+x-y,x)"
     ],
     "language": "python",
     "metadata": {},
     "outputs": []
    },
    {
     "cell_type": "code",
     "collapsed": false,
     "input": [
      "solutions"
     ],
     "language": "python",
     "metadata": {},
     "outputs": []
    },
    {
     "cell_type": "code",
     "collapsed": false,
     "input": [
      "plot(solutions, (-0.25,5))"
     ],
     "language": "python",
     "metadata": {},
     "outputs": []
    },
    {
     "cell_type": "markdown",
     "metadata": {},
     "source": [
      "## Complex values\n",
      "If complex values are encountered, they are discarded while plotting."
     ]
    },
    {
     "cell_type": "code",
     "collapsed": false,
     "input": [
      "plot(solutions)"
     ],
     "language": "python",
     "metadata": {},
     "outputs": []
    },
    {
     "cell_type": "markdown",
     "metadata": {},
     "source": [
      "\n",
      "## Textplot\n",
      "\n",
      "There is also the textplot backend that permits plotting in the terminal."
     ]
    },
    {
     "cell_type": "code",
     "collapsed": true,
     "input": [
      "pt = plot(sin(x),show=False)"
     ],
     "language": "python",
     "metadata": {},
     "outputs": []
    },
    {
     "cell_type": "code",
     "collapsed": true,
     "input": [
      "pt.backend = plot_backends['text']"
     ],
     "language": "python",
     "metadata": {},
     "outputs": []
    },
    {
     "cell_type": "code",
     "collapsed": false,
     "input": [
      "pt.show()"
     ],
     "language": "python",
     "metadata": {},
     "outputs": []
    }
   ],
   "metadata": {}
  }
 ]
}