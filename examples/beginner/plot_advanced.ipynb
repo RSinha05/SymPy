{
 "cells": [
  {
   "cell_type": "markdown",
   "id": "a801bdb7",
   "metadata": {},
   "source": [
    "## Unevaluated Integrals"
   ]
  },
  {
   "cell_type": "code",
   "execution_count": 1,
   "id": "ec187dc8",
   "metadata": {
    "collapsed": true
   },
   "outputs": [],
   "source": [
    "from sympy.plotting import plot"
   ]
  },
  {
   "cell_type": "code",
   "execution_count": 2,
   "id": "b2b97886",
   "metadata": {
    "collapsed": true
   },
   "outputs": [],
   "source": [
    "i = Integral(log((sin(x)**2+1)*sqrt(x**2+1)),(x,0,y))"
   ]
  },
  {
   "cell_type": "code",
   "execution_count": 3,
   "id": "3869124c",
   "metadata": {
    "collapsed": false
   },
   "outputs": [],
   "source": [
    "i"
   ]
  },
  {
   "cell_type": "code",
   "execution_count": 4,
   "id": "18a465a6",
   "metadata": {
    "collapsed": false
   },
   "outputs": [],
   "source": [
    "i.evalf(subs={y:1})"
   ]
  },
  {
   "cell_type": "code",
   "execution_count": 5,
   "id": "666e6326",
   "metadata": {
    "collapsed": false
   },
   "outputs": [],
   "source": [
    "plot(i,(y, 1, 5))"
   ]
  },
  {
   "cell_type": "markdown",
   "id": "08fe3ce2",
   "metadata": {},
   "source": [
    "## Infinite Sums"
   ]
  },
  {
   "cell_type": "code",
   "execution_count": 6,
   "id": "2bf92dac",
   "metadata": {
    "collapsed": true
   },
   "outputs": [],
   "source": [
    "s = summation(1/x**y,(x,1,oo))"
   ]
  },
  {
   "cell_type": "code",
   "execution_count": 7,
   "id": "659f8cf7",
   "metadata": {
    "collapsed": false
   },
   "outputs": [],
   "source": [
    "s"
   ]
  },
  {
   "cell_type": "code",
   "execution_count": 9,
   "id": "dd9419a6",
   "metadata": {
    "collapsed": false
   },
   "outputs": [],
   "source": [
    "plot(s, (y, 2, 10))"
   ]
  },
  {
   "cell_type": "markdown",
   "id": "bffdd122",
   "metadata": {},
   "source": [
    "## Finite sums"
   ]
  },
  {
   "cell_type": "code",
   "execution_count": 10,
   "id": "c423ed14",
   "metadata": {
    "collapsed": false
   },
   "outputs": [],
   "source": [
    "p = plot(summation(1/x,(x,1,y)), (y, 2, 10))"
   ]
  },
  {
   "cell_type": "code",
   "execution_count": 11,
   "id": "8bd8ea3c",
   "metadata": {
    "collapsed": false
   },
   "outputs": [],
   "source": [
    "p[0].only_integers = True\n",
    "\n",
    "p[0].steps = True\n",
    "\n",
    "p.show()"
   ]
  }
 ],
 "metadata": {},
 "nbformat": 4,
 "nbformat_minor": 5
}
