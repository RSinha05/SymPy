{
 "cells": [
  {
   "cell_type": "markdown",
   "id": "029a24bb",
   "metadata": {},
   "source": [
    "## Unevaluated Integrals"
   ]
  },
  {
   "cell_type": "code",
   "execution_count": null,
   "id": "eec85595",
   "metadata": {},
   "outputs": [],
   "source": [
    "from sympy.plotting import plot\n",
    "from sympy import Integral, Symbol, summation, log, sin, sqrt, oo"
   ]
  },
  {
   "cell_type": "code",
   "execution_count": null,
   "id": "2140f911",
   "metadata": {},
   "outputs": [],
   "source": [
    "x = Symbol('x')\n",
    "y = Symbol('y')"
   ]
  },
  {
   "cell_type": "code",
   "execution_count": null,
   "id": "62111b08",
   "metadata": {},
   "outputs": [],
   "source": [
    "i = Integral(log((sin(x)**2+1)*sqrt(x**2+1)),(x,0,y))"
   ]
  },
  {
   "cell_type": "code",
   "execution_count": null,
   "id": "4cad3f12",
   "metadata": {},
   "outputs": [],
   "source": [
    "i"
   ]
  },
  {
   "cell_type": "code",
   "execution_count": null,
   "id": "57b6680d",
   "metadata": {},
   "outputs": [],
   "source": [
    "i.evalf(subs={y:1})"
   ]
  },
  {
   "cell_type": "code",
   "execution_count": null,
   "id": "dfe7c538",
   "metadata": {},
   "outputs": [],
   "source": [
    "plot(i,(y, 1, 5))"
   ]
  },
  {
   "cell_type": "markdown",
   "id": "a166f5ed",
   "metadata": {},
   "source": [
    "## Infinite Sums"
   ]
  },
  {
   "cell_type": "code",
   "execution_count": null,
   "id": "a6174e78",
   "metadata": {},
   "outputs": [],
   "source": [
    "s = summation(1/x**y,(x,1,oo))"
   ]
  },
  {
   "cell_type": "code",
   "execution_count": null,
   "id": "4d6d2c00",
   "metadata": {},
   "outputs": [],
   "source": [
    "s"
   ]
  },
  {
   "cell_type": "code",
   "execution_count": null,
   "id": "0ed469ca",
   "metadata": {},
   "outputs": [],
   "source": [
    "plot(s, (y, 2, 10))"
   ]
  },
  {
   "cell_type": "markdown",
   "id": "e549cdbf",
   "metadata": {},
   "source": [
    "## Finite sums"
   ]
  },
  {
   "cell_type": "code",
   "execution_count": null,
   "id": "1f099eda",
   "metadata": {},
   "outputs": [],
   "source": [
    "p = plot(summation(1/x,(x,1,y)), (y, 2, 10))"
   ]
  },
  {
   "cell_type": "code",
   "execution_count": null,
   "id": "76c48bf5",
   "metadata": {},
   "outputs": [],
   "source": [
    "p[0].only_integers = True\n",
    "\n",
    "p[0].steps = True\n",
    "\n",
    "p.show()"
   ]
  },
  {
   "cell_type": "code",
   "execution_count": null,
   "id": "b3c0b369",
   "metadata": {},
   "outputs": [],
   "source": []
  }
 ],
 "metadata": {
  "kernelspec": {
   "display_name": "Python 3 (ipykernel)",
   "language": "python",
   "name": "python3"
  },
  "language_info": {
   "codemirror_mode": {
    "name": "ipython",
    "version": 3
   },
   "file_extension": ".py",
   "mimetype": "text/x-python",
   "name": "python",
   "nbconvert_exporter": "python",
   "pygments_lexer": "ipython3",
   "version": "3.8.10"
  }
 },
 "nbformat": 4,
 "nbformat_minor": 5
}
