{
 "cells": [
  {
   "cell_type": "markdown",
   "id": "3b8d9095",
   "metadata": {},
   "source": [
    "### Beach ball"
   ]
  },
  {
   "cell_type": "code",
   "execution_count": 1,
   "id": "96f8733c",
   "metadata": {
    "collapsed": true
   },
   "outputs": [],
   "source": [
    "from sympy.plotting import plot3d_parametric_surface"
   ]
  },
  {
   "cell_type": "code",
   "execution_count": 2,
   "id": "b1d7bbf6",
   "metadata": {
    "collapsed": false
   },
   "outputs": [],
   "source": [
    "p = plot3d_parametric_surface(sin(x)*sin(y), sin(x)*cos(y), cos(x), (x, 0, pi), (y, 0, 2*pi))"
   ]
  },
  {
   "cell_type": "code",
   "execution_count": 3,
   "id": "7837e329",
   "metadata": {
    "collapsed": false
   },
   "outputs": [],
   "source": [
    "p[0].surface_color = lambda a, b : cos(4*a)*sin(2*b)\n",
    "\n",
    "p.show()"
   ]
  }
 ],
 "metadata": {},
 "nbformat": 4,
 "nbformat_minor": 5
}
