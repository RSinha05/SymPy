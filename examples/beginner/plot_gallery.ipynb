{
 "cells": [
  {
   "cell_type": "markdown",
   "id": "94bd14ea",
   "metadata": {},
   "source": [
    "### Beach ball"
   ]
  },
  {
   "cell_type": "code",
   "execution_count": null,
   "id": "a04deccb",
   "metadata": {},
   "outputs": [],
   "source": [
    "from sympy.plotting import plot3d_parametric_surface\n",
    "from sympy import Symbol,sin,cos,pi"
   ]
  },
  {
   "cell_type": "code",
   "execution_count": null,
   "id": "770b512e",
   "metadata": {},
   "outputs": [],
   "source": [
    "x = Symbol(\"x\")\n",
    "y = Symbol(\"y\")"
   ]
  },
  {
   "cell_type": "code",
   "execution_count": null,
   "id": "b1152b95",
   "metadata": {},
   "outputs": [],
   "source": [
    "p = plot3d_parametric_surface(sin(x)*sin(y), sin(x)*cos(y), cos(x), (x, 0, pi), (y, 0, 2*pi))"
   ]
  },
  {
   "cell_type": "code",
   "execution_count": null,
   "id": "fa6e616f",
   "metadata": {},
   "outputs": [],
   "source": [
    "p[0].surface_color = lambda a, b : float(cos(4*a)*sin(2*b))\n",
    "\n",
    "p.show()"
   ]
  },
  {
   "cell_type": "code",
   "execution_count": null,
   "id": "75b1cb02",
   "metadata": {},
   "outputs": [],
   "source": []
  }
 ],
 "metadata": {
  "kernelspec": {
   "display_name": "Python 3 (ipykernel)",
   "language": "python",
   "name": "python3"
  },
  "language_info": {
   "codemirror_mode": {
    "name": "ipython",
    "version": 3
   },
   "file_extension": ".py",
   "mimetype": "text/x-python",
   "name": "python",
   "nbconvert_exporter": "python",
   "pygments_lexer": "ipython3",
   "version": "3.8.10"
  }
 },
 "nbformat": 4,
 "nbformat_minor": 5
}
