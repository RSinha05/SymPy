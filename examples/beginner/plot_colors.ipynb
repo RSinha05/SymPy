{
 "cells": [
  {
   "cell_type": "markdown",
   "id": "aafc0e64",
   "metadata": {},
   "source": [
    "#Coloring"
   ]
  },
  {
   "cell_type": "markdown",
   "id": "7a40adce",
   "metadata": {},
   "source": [
    "\n",
    "\n",
    "### Cartesian Line Plot"
   ]
  },
  {
   "cell_type": "code",
   "execution_count": 1,
   "id": "1810cead",
   "metadata": {
    "collapsed": true
   },
   "outputs": [],
   "source": [
    "from sympy.plotting import plot, plot_parametric, plot3d, plot3d_parametric_line, plot3d_parametric_surface"
   ]
  },
  {
   "cell_type": "code",
   "execution_count": 2,
   "id": "9bad512b",
   "metadata": {
    "collapsed": false
   },
   "outputs": [],
   "source": [
    "p = plot(sin(x))"
   ]
  },
  {
   "cell_type": "markdown",
   "id": "a0ac6e0d",
   "metadata": {},
   "source": [
    "\n",
    "\n",
    "If the `line_color` aesthetic is a function of arity 1 then the coloring is a function of the x value of a point."
   ]
  },
  {
   "cell_type": "code",
   "execution_count": 3,
   "id": "44486666",
   "metadata": {
    "collapsed": false
   },
   "outputs": [],
   "source": [
    "p[0].line_color = lambda a : a\n",
    "\n",
    "p.show()"
   ]
  },
  {
   "cell_type": "markdown",
   "id": "452c748f",
   "metadata": {},
   "source": [
    "\n",
    "\n",
    "If the arity is 2 then the coloring is a function of both coordinates."
   ]
  },
  {
   "cell_type": "code",
   "execution_count": 4,
   "id": "6f50f5bb",
   "metadata": {
    "collapsed": false
   },
   "outputs": [],
   "source": [
    "p[0].line_color = lambda a, b : b\n",
    "\n",
    "p.show()"
   ]
  },
  {
   "cell_type": "markdown",
   "id": "635f6509",
   "metadata": {},
   "source": [
    "### Parametric Lines"
   ]
  },
  {
   "cell_type": "code",
   "execution_count": 5,
   "id": "5b4edd33",
   "metadata": {
    "collapsed": false
   },
   "outputs": [],
   "source": [
    "p = plot_parametric(x*sin(x), x*cos(x), (x,  0, 10))"
   ]
  },
  {
   "cell_type": "markdown",
   "id": "0f0050c6",
   "metadata": {},
   "source": [
    "\n",
    "\n",
    "If the arity is 1 the coloring depends on the parameter."
   ]
  },
  {
   "cell_type": "code",
   "execution_count": 6,
   "id": "58cad517",
   "metadata": {
    "collapsed": false
   },
   "outputs": [],
   "source": [
    "p[0].line_color = lambda a : a\n",
    "\n",
    "p.show()"
   ]
  },
  {
   "cell_type": "markdown",
   "id": "851c1721",
   "metadata": {},
   "source": [
    "\n",
    "\n",
    "For arity 2 the coloring depends on coordinates."
   ]
  },
  {
   "cell_type": "code",
   "execution_count": 7,
   "id": "21aa8324",
   "metadata": {
    "collapsed": false
   },
   "outputs": [],
   "source": [
    "p[0].line_color = lambda a, b : a\n",
    "\n",
    "p.show()"
   ]
  },
  {
   "cell_type": "code",
   "execution_count": 8,
   "id": "d7e32a13",
   "metadata": {
    "collapsed": false
   },
   "outputs": [],
   "source": [
    "p[0].line_color = lambda a, b : b\n",
    "\n",
    "p.show()"
   ]
  },
  {
   "cell_type": "markdown",
   "id": "01595b04",
   "metadata": {},
   "source": [
    "### 3D Parametric line"
   ]
  },
  {
   "cell_type": "markdown",
   "id": "8e178e56",
   "metadata": {},
   "source": [
    "\n",
    "\n",
    "Arity 1 - the first parameter. Arity 2 or 3 - the first two coordinates or all coordinates."
   ]
  },
  {
   "cell_type": "code",
   "execution_count": 9,
   "id": "ceb5f70f",
   "metadata": {
    "collapsed": false
   },
   "outputs": [],
   "source": [
    "p = plot3d_parametric_line(sin(x)+0.1*sin(x)*cos(7*x),\n",
    "\n",
    "         cos(x)+0.1*cos(x)*cos(7*x),\n",
    "\n",
    "         0.1*sin(7*x),\n",
    "\n",
    "         (x, 0, 2*pi))"
   ]
  },
  {
   "cell_type": "code",
   "execution_count": 10,
   "id": "f3a065ed",
   "metadata": {
    "collapsed": false
   },
   "outputs": [],
   "source": [
    "p[0].line_color = lambda a : sin(4*a)\n",
    "\n",
    "p.show()"
   ]
  },
  {
   "cell_type": "code",
   "execution_count": 11,
   "id": "f15c1f57",
   "metadata": {
    "collapsed": false
   },
   "outputs": [],
   "source": [
    "p[0].line_color = lambda a, b : b\n",
    "\n",
    "p.show()"
   ]
  },
  {
   "cell_type": "code",
   "execution_count": 12,
   "id": "932058b2",
   "metadata": {
    "collapsed": false
   },
   "outputs": [],
   "source": [
    "p[0].line_color = lambda a, b, c : c\n",
    "\n",
    "p.show()"
   ]
  },
  {
   "cell_type": "markdown",
   "id": "b3788312",
   "metadata": {},
   "source": [
    "### Cartesian Surface Plot"
   ]
  },
  {
   "cell_type": "code",
   "execution_count": 14,
   "id": "85e2df39",
   "metadata": {
    "collapsed": false
   },
   "outputs": [],
   "source": [
    "p = plot3d(sin(x)*y, (x, 0, 6*pi), (y, -5, 5))"
   ]
  },
  {
   "cell_type": "markdown",
   "id": "b28c1a20",
   "metadata": {},
   "source": [
    "\n",
    "\n",
    "Arity 1, 2 or 3 for first, the two first or all coordinates."
   ]
  },
  {
   "cell_type": "code",
   "execution_count": 15,
   "id": "6ec292af",
   "metadata": {
    "collapsed": false
   },
   "outputs": [],
   "source": [
    "p[0].surface_color = lambda a : a\n",
    "\n",
    "p.show()"
   ]
  },
  {
   "cell_type": "code",
   "execution_count": 16,
   "id": "a5b15f61",
   "metadata": {
    "collapsed": false
   },
   "outputs": [],
   "source": [
    "p[0].surface_color = lambda a, b : b\n",
    "\n",
    "p.show()"
   ]
  },
  {
   "cell_type": "code",
   "execution_count": 17,
   "id": "da274293",
   "metadata": {
    "collapsed": false
   },
   "outputs": [],
   "source": [
    "p[0].surface_color = lambda a, b, c : c\n",
    "\n",
    "p.show()"
   ]
  },
  {
   "cell_type": "code",
   "execution_count": 18,
   "id": "715640ab",
   "metadata": {
    "collapsed": false
   },
   "outputs": [],
   "source": [
    "p[0].surface_color = lambda a, b, c : sqrt((a-3*pi)**2+b**2)\n",
    "\n",
    "p.show()"
   ]
  },
  {
   "cell_type": "markdown",
   "id": "d9c886b3",
   "metadata": {},
   "source": [
    "### Parametric surface plots"
   ]
  },
  {
   "cell_type": "markdown",
   "id": "1bb0919a",
   "metadata": {},
   "source": [
    "\n",
    "\n",
    "Arity 1 or 2 - first or both parameters."
   ]
  },
  {
   "cell_type": "code",
   "execution_count": 19,
   "id": "fa7f935d",
   "metadata": {
    "collapsed": false
   },
   "outputs": [],
   "source": [
    "p = plot3d_parametric_surface(x*cos(4*y), x*sin(4*y), y,\n",
    "\n",
    "         (x, -1, 1), (y, -1, 1))"
   ]
  },
  {
   "cell_type": "code",
   "execution_count": 20,
   "id": "0bf471e5",
   "metadata": {
    "collapsed": false
   },
   "outputs": [],
   "source": [
    "p[0].surface_color = lambda a : a\n",
    "\n",
    "p.show()"
   ]
  },
  {
   "cell_type": "code",
   "execution_count": 21,
   "id": "317b1d20",
   "metadata": {
    "collapsed": false
   },
   "outputs": [],
   "source": [
    "p[0].surface_color = lambda a, b : a*b\n",
    "\n",
    "p.show()"
   ]
  },
  {
   "cell_type": "markdown",
   "id": "4d7382e3",
   "metadata": {},
   "source": [
    "Arrity of 3 will color by coordinates."
   ]
  },
  {
   "cell_type": "code",
   "execution_count": 22,
   "id": "eb099f72",
   "metadata": {
    "collapsed": false
   },
   "outputs": [],
   "source": [
    "p[0].surface_color = lambda a, b, c : sqrt(a**2+b**2+c**2)\n",
    "\n",
    "p.show()"
   ]
  }
 ],
 "metadata": {},
 "nbformat": 4,
 "nbformat_minor": 5
}
