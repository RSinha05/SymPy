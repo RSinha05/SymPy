{
 "cells": [
  {
   "cell_type": "markdown",
   "id": "3c3fa773",
   "metadata": {},
   "source": [
    "# Coloring"
   ]
  },
  {
   "cell_type": "markdown",
   "id": "e5c82175",
   "metadata": {},
   "source": [
    "### Cartesian Line Plot"
   ]
  },
  {
   "cell_type": "code",
   "execution_count": null,
   "id": "6844921d",
   "metadata": {},
   "outputs": [],
   "source": [
    "from sympy.plotting import plot, plot_parametric, plot3d, plot3d_parametric_line, plot3d_parametric_surface\n",
    "from sympy import Symbol, sin, cos, sqrt, pi"
   ]
  },
  {
   "cell_type": "code",
   "execution_count": null,
   "id": "4cf6d08a",
   "metadata": {},
   "outputs": [],
   "source": [
    "x = Symbol('x')\n",
    "y = Symbol('y')"
   ]
  },
  {
   "cell_type": "code",
   "execution_count": null,
   "id": "12d3084b",
   "metadata": {},
   "outputs": [],
   "source": [
    "p = plot(sin(x))"
   ]
  },
  {
   "cell_type": "markdown",
   "id": "d7f76b85",
   "metadata": {},
   "source": [
    "If the `line_color` aesthetic is a function of arity 1 then the coloring is a function of the x value of a point."
   ]
  },
  {
   "cell_type": "code",
   "execution_count": null,
   "id": "8b1f3aa8",
   "metadata": {},
   "outputs": [],
   "source": [
    "p[0].line_color = lambda a : a\n",
    "\n",
    "p.show()"
   ]
  },
  {
   "cell_type": "markdown",
   "id": "9fbccab3",
   "metadata": {},
   "source": [
    "If the arity is 2 then the coloring is a function of both coordinates."
   ]
  },
  {
   "cell_type": "code",
   "execution_count": null,
   "id": "23f0b7af",
   "metadata": {},
   "outputs": [],
   "source": [
    "p[0].line_color = lambda a, b : b\n",
    "\n",
    "p.show()"
   ]
  },
  {
   "cell_type": "markdown",
   "id": "6f1e0b23",
   "metadata": {},
   "source": [
    "### Parametric Lines"
   ]
  },
  {
   "cell_type": "code",
   "execution_count": null,
   "id": "8f84f15e",
   "metadata": {},
   "outputs": [],
   "source": [
    "p = plot_parametric(x*sin(x), x*cos(x), (x,  0, 10))"
   ]
  },
  {
   "cell_type": "markdown",
   "id": "b1ba0f05",
   "metadata": {},
   "source": [
    "If the arity is 1 the coloring depends on the parameter."
   ]
  },
  {
   "cell_type": "code",
   "execution_count": null,
   "id": "1e003f30",
   "metadata": {},
   "outputs": [],
   "source": [
    "p[0].line_color = lambda a : a\n",
    "\n",
    "p.show()"
   ]
  },
  {
   "cell_type": "markdown",
   "id": "a770e402",
   "metadata": {},
   "source": [
    "For arity 2 the coloring depends on coordinates."
   ]
  },
  {
   "cell_type": "code",
   "execution_count": null,
   "id": "ab11ede1",
   "metadata": {},
   "outputs": [],
   "source": [
    "p[0].line_color = lambda a, b : a\n",
    "\n",
    "p.show()"
   ]
  },
  {
   "cell_type": "code",
   "execution_count": null,
   "id": "703694ea",
   "metadata": {},
   "outputs": [],
   "source": [
    "p[0].line_color = lambda a, b : b\n",
    "\n",
    "p.show()"
   ]
  },
  {
   "cell_type": "markdown",
   "id": "928b6520",
   "metadata": {},
   "source": [
    "### 3D Parametric line"
   ]
  },
  {
   "cell_type": "markdown",
   "id": "8ed21144",
   "metadata": {},
   "source": [
    "Arity 1 - the first parameter. Arity 2 or 3 - the first two coordinates or all coordinates."
   ]
  },
  {
   "cell_type": "code",
   "execution_count": null,
   "id": "691230ea",
   "metadata": {},
   "outputs": [],
   "source": [
    "p = plot3d_parametric_line(sin(x)+0.1*sin(x)*cos(7*x),\n",
    "\n",
    "         cos(x)+0.1*cos(x)*cos(7*x),\n",
    "\n",
    "         0.1*sin(7*x),\n",
    "\n",
    "         (x, 0, 2*pi))"
   ]
  },
  {
   "cell_type": "code",
   "execution_count": null,
   "id": "a076bbd4",
   "metadata": {},
   "outputs": [],
   "source": [
    "p[0].line_color = lambda a : float(sin(4*a))\n",
    "\n",
    "p.show()"
   ]
  },
  {
   "cell_type": "code",
   "execution_count": null,
   "id": "a94a4a8f",
   "metadata": {},
   "outputs": [],
   "source": [
    "p[0].line_color = lambda a, b : b\n",
    "\n",
    "p.show()"
   ]
  },
  {
   "cell_type": "code",
   "execution_count": null,
   "id": "c746113c",
   "metadata": {},
   "outputs": [],
   "source": [
    "p[0].line_color = lambda a, b, c : c\n",
    "\n",
    "p.show()"
   ]
  },
  {
   "cell_type": "markdown",
   "id": "0bf34115",
   "metadata": {},
   "source": [
    "### Cartesian Surface Plot"
   ]
  },
  {
   "cell_type": "code",
   "execution_count": null,
   "id": "a7bb4203",
   "metadata": {},
   "outputs": [],
   "source": [
    "p = plot3d(sin(x)*y, (x, 0, 6*pi), (y, -5, 5))"
   ]
  },
  {
   "cell_type": "markdown",
   "id": "1ac6d726",
   "metadata": {},
   "source": [
    "Arity 1, 2 or 3 for first, the two first or all coordinates."
   ]
  },
  {
   "cell_type": "code",
   "execution_count": null,
   "id": "c449dc8d",
   "metadata": {},
   "outputs": [],
   "source": [
    "p[0].surface_color = lambda a : a\n",
    "\n",
    "p.show()"
   ]
  },
  {
   "cell_type": "code",
   "execution_count": null,
   "id": "acef4594",
   "metadata": {},
   "outputs": [],
   "source": [
    "p[0].surface_color = lambda a, b : b\n",
    "\n",
    "p.show()"
   ]
  },
  {
   "cell_type": "code",
   "execution_count": null,
   "id": "7109457d",
   "metadata": {},
   "outputs": [],
   "source": [
    "p[0].surface_color = lambda a, b, c : c\n",
    "\n",
    "p.show()"
   ]
  },
  {
   "cell_type": "code",
   "execution_count": null,
   "id": "aeabaefb",
   "metadata": {
    "scrolled": false
   },
   "outputs": [],
   "source": [
    "p[0].surface_color = lambda a, b, c : float(sqrt((a-3*pi)**2+b**2))\n",
    "\n",
    "p.show()"
   ]
  },
  {
   "cell_type": "markdown",
   "id": "7b1b7c9a",
   "metadata": {},
   "source": [
    "### Parametric surface plots"
   ]
  },
  {
   "cell_type": "markdown",
   "id": "ffdd240b",
   "metadata": {},
   "source": [
    "Arity 1 or 2 - first or both parameters."
   ]
  },
  {
   "cell_type": "code",
   "execution_count": null,
   "id": "a04ef05a",
   "metadata": {},
   "outputs": [],
   "source": [
    "p = plot3d_parametric_surface(x*cos(4*y), x*sin(4*y), y,\n",
    "\n",
    "         (x, -1, 1), (y, -1, 1))"
   ]
  },
  {
   "cell_type": "code",
   "execution_count": null,
   "id": "a6a1e74e",
   "metadata": {},
   "outputs": [],
   "source": [
    "p[0].surface_color = lambda a : a\n",
    "\n",
    "p.show()"
   ]
  },
  {
   "cell_type": "code",
   "execution_count": null,
   "id": "154dbf77",
   "metadata": {},
   "outputs": [],
   "source": [
    "p[0].surface_color = lambda a, b : a*b\n",
    "\n",
    "p.show()"
   ]
  },
  {
   "cell_type": "markdown",
   "id": "36d1cc55",
   "metadata": {},
   "source": [
    "Arrity of 3 will color by coordinates."
   ]
  },
  {
   "cell_type": "code",
   "execution_count": null,
   "id": "4ca8ab7e",
   "metadata": {
    "scrolled": false
   },
   "outputs": [],
   "source": [
    "p[0].surface_color = lambda a, b, c : float(sqrt(a**2+b**2+c**2))\n",
    "\n",
    "p.show()"
   ]
  },
  {
   "cell_type": "code",
   "execution_count": null,
   "id": "6ca5156b",
   "metadata": {},
   "outputs": [],
   "source": []
  }
 ],
 "metadata": {
  "kernelspec": {
   "display_name": "Sympy-Dev",
   "language": "python",
   "name": "sympy-dev"
  },
  "language_info": {
   "codemirror_mode": {
    "name": "ipython",
    "version": 3
   },
   "file_extension": ".py",
   "mimetype": "text/x-python",
   "name": "python",
   "nbconvert_exporter": "python",
   "pygments_lexer": "ipython3",
   "version": "3.10.9"
  }
 },
 "nbformat": 4,
 "nbformat_minor": 5
}
