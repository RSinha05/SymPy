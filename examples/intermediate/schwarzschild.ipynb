{
 "cells": [
  {
   "cell_type": "markdown",
   "id": "794e68fb",
   "metadata": {},
   "source": [
    "# Schwarzschild Solution to the Einstein's equation"
   ]
  },
  {
   "cell_type": "markdown",
   "id": "16fb965b",
   "metadata": {},
   "source": [
    "We will rederive the equations from *General Theory of Relativity*, chapter 18, by Dirac. They describe a spherically symmetric solution to the Einstein's equation in vacuum.\n",
    "\n",
    "We will not try to solve the resulting equations.\n",
    "\n",
    "This version of the notebook uses functions that explicitly calculate the Christoffel symbols, hence the work is coordinate-system-dependent."
   ]
  },
  {
   "cell_type": "markdown",
   "id": "8dab20a8",
   "metadata": {},
   "source": [
    "Import the necessary modules."
   ]
  },
  {
   "cell_type": "code",
   "execution_count": 1,
   "id": "5a9c3b2f",
   "metadata": {
    "collapsed": false,
    "jupyter": {
     "outputs_hidden": false
    }
   },
   "outputs": [],
   "source": [
    "from sympy import *\n",
    "from sympy.diffgeom import *\n",
    "TP = TensorProduct"
   ]
  },
  {
   "cell_type": "markdown",
   "id": "988c542d",
   "metadata": {},
   "source": [
    "Define a 4D manifold with a patch and a coordinate chart on which we will work."
   ]
  },
  {
   "cell_type": "code",
   "execution_count": 2,
   "id": "a7855b40",
   "metadata": {
    "collapsed": false,
    "jupyter": {
     "outputs_hidden": false
    }
   },
   "outputs": [],
   "source": [
    "m = Manifold('Schwarzschild', 4)\n",
    "p = Patch('origin', m)\n",
    "cs = CoordSystem('spherical', p, symbols('t r theta phi', real=True))"
   ]
  },
  {
   "cell_type": "code",
   "execution_count": 3,
   "id": "d9ac67fc",
   "metadata": {
    "collapsed": false,
    "jupyter": {
     "outputs_hidden": false
    }
   },
   "outputs": [
    {
     "data": {
      "text/plain": [
       "(Schwarzschild, origin, spherical)"
      ]
     },
     "execution_count": 3,
     "metadata": {},
     "output_type": "execute_result"
    }
   ],
   "source": [
    "m, p, cs"
   ]
  },
  {
   "cell_type": "markdown",
   "id": "fa49fef0",
   "metadata": {},
   "source": [
    "Prepare the variables containing the scalar fields and the 1-form fields."
   ]
  },
  {
   "cell_type": "code",
   "execution_count": 4,
   "id": "9c5b4880",
   "metadata": {
    "collapsed": false,
    "jupyter": {
     "outputs_hidden": false
    }
   },
   "outputs": [
    {
     "data": {
      "text/plain": [
       "(t, r, theta, phi)"
      ]
     },
     "execution_count": 4,
     "metadata": {},
     "output_type": "execute_result"
    }
   ],
   "source": [
    "t, r, theta, phi = cs.coord_functions()\n",
    "t, r, theta, phi"
   ]
  },
  {
   "cell_type": "code",
   "execution_count": 5,
   "id": "fd0aa40a",
   "metadata": {
    "collapsed": false,
    "jupyter": {
     "outputs_hidden": false
    }
   },
   "outputs": [
    {
     "data": {
      "text/plain": [
       "(dt, dr, dtheta, dphi)"
      ]
     },
     "execution_count": 5,
     "metadata": {},
     "output_type": "execute_result"
    }
   ],
   "source": [
    "dt, dr, dtheta, dphi = cs.base_oneforms()\n",
    "dt, dr, dtheta, dphi"
   ]
  },
  {
   "cell_type": "markdown",
   "id": "d1ffbf50",
   "metadata": {},
   "source": [
    "The most general spherically-symmetric metric has the following form."
   ]
  },
  {
   "cell_type": "code",
   "execution_count": 6,
   "id": "c7d65fe3",
   "metadata": {
    "collapsed": false,
    "jupyter": {
     "outputs_hidden": false
    }
   },
   "outputs": [
    {
     "data": {
      "text/latex": [
       "$\\displaystyle e^{2 f{\\left(\\mathbf{r} \\right)}} \\operatorname{d}t \\otimes \\operatorname{d}t - e^{2 g{\\left(\\mathbf{r} \\right)}} \\operatorname{d}r \\otimes \\operatorname{d}r - \\sin^{2}{\\left(\\mathbf{\\theta} \\right)} \\mathbf{r}^{2} \\operatorname{d}\\phi \\otimes \\operatorname{d}\\phi - \\mathbf{r}^{2} \\operatorname{d}\\theta \\otimes \\operatorname{d}\\theta$"
      ],
      "text/plain": [
       "exp(2*f(r))*TensorProduct(dt, dt) - exp(2*g(r))*TensorProduct(dr, dr) - sin(theta)**2*r**2*TensorProduct(dphi, dphi) - r**2*TensorProduct(dtheta, dtheta)"
      ]
     },
     "execution_count": 6,
     "metadata": {},
     "output_type": "execute_result"
    }
   ],
   "source": [
    "f, g = symbols('f, g', cls=Function)\n",
    "metric = exp(2*f(r))*TP(dt, dt) - exp(2*g(r))*TP(dr, dr) - r**2*TP(dtheta, dtheta) - r**2*sin(theta)**2*TP(dphi, dphi)\n",
    "metric"
   ]
  },
  {
   "cell_type": "markdown",
   "id": "3a141a33",
   "metadata": {},
   "source": [
    "The matrix $M$ representing the two-form as a bilinear map $V,U\\to V^tMU$ over the column vectors $V$ and $U$ in the canonical basis of the chosen coordinate system is:"
   ]
  },
  {
   "cell_type": "code",
   "execution_count": 7,
   "id": "6e98bceb",
   "metadata": {
    "collapsed": false,
    "jupyter": {
     "outputs_hidden": false
    }
   },
   "outputs": [
    {
     "data": {
      "text/latex": [
       "$\\displaystyle \\left[\\begin{matrix}e^{2 f{\\left(\\mathbf{r} \\right)}} & 0 & 0 & 0\\\\0 & - e^{2 g{\\left(\\mathbf{r} \\right)}} & 0 & 0\\\\0 & 0 & - \\mathbf{r}^{2} & 0\\\\0 & 0 & 0 & - \\sin^{2}{\\left(\\mathbf{\\theta} \\right)} \\mathbf{r}^{2}\\end{matrix}\\right]$"
      ],
      "text/plain": [
       "Matrix([\n",
       "[exp(2*f(r)),            0,     0,                   0],\n",
       "[          0, -exp(2*g(r)),     0,                   0],\n",
       "[          0,            0, -r**2,                   0],\n",
       "[          0,            0,     0, -sin(theta)**2*r**2]])"
      ]
     },
     "execution_count": 7,
     "metadata": {},
     "output_type": "execute_result"
    }
   ],
   "source": [
    "twoform_to_matrix(metric)"
   ]
  },
  {
   "cell_type": "markdown",
   "id": "77769bb2",
   "metadata": {},
   "source": [
    "Now we will calculate the components in the same basis of the Ricci tensor."
   ]
  },
  {
   "cell_type": "code",
   "execution_count": 8,
   "id": "462b9e14",
   "metadata": {
    "collapsed": false,
    "jupyter": {
     "outputs_hidden": false
    }
   },
   "outputs": [],
   "source": [
    "ricci = metric_to_Ricci_components(metric)"
   ]
  },
  {
   "cell_type": "code",
   "execution_count": 9,
   "id": "c2835085",
   "metadata": {
    "collapsed": false,
    "jupyter": {
     "outputs_hidden": false
    }
   },
   "outputs": [],
   "source": [
    "ricci = [[simplify(ricci[i][j])\n",
    "            for j in range(4)] for i in range(4)]\n"
   ]
  },
  {
   "cell_type": "markdown",
   "id": "20501429",
   "metadata": {},
   "source": [
    "The diagonal components give the equations we are interested in."
   ]
  },
  {
   "cell_type": "code",
   "execution_count": 10,
   "id": "2f20f7b0",
   "metadata": {
    "collapsed": false,
    "jupyter": {
     "outputs_hidden": false
    }
   },
   "outputs": [
    {
     "data": {
      "text/latex": [
       "$\\displaystyle \\frac{\\left(\\mathbf{r} \\left. \\frac{d}{d \\xi} f{\\left(\\xi \\right)} \\right|_{\\substack{ \\xi=\\mathbf{r} }}^{2} - \\mathbf{r} \\left. \\frac{d}{d \\xi} f{\\left(\\xi \\right)} \\right|_{\\substack{ \\xi=\\mathbf{r} }} \\left. \\frac{d}{d \\xi} g{\\left(\\xi \\right)} \\right|_{\\substack{ \\xi=\\mathbf{r} }} + \\mathbf{r} \\left. \\frac{d^{2}}{d \\xi^{2}} f{\\left(\\xi \\right)} \\right|_{\\substack{ \\xi=\\mathbf{r} }} + 2 \\left. \\frac{d}{d \\xi} f{\\left(\\xi \\right)} \\right|_{\\substack{ \\xi=\\mathbf{r} }}\\right) e^{2 f{\\left(\\mathbf{r} \\right)} - 2 g{\\left(\\mathbf{r} \\right)}}}{\\mathbf{r}}$"
      ],
      "text/plain": [
       "(r*Subs(Derivative(f(_xi), _xi), _xi, r)**2 - r*Subs(Derivative(f(_xi), _xi), _xi, r)*Subs(Derivative(g(_xi), _xi), _xi, r) + r*Subs(Derivative(f(_xi), (_xi, 2)), _xi, r) + 2*Subs(Derivative(f(_xi), _xi), _xi, r))*exp(2*f(r) - 2*g(r))/r"
      ]
     },
     "execution_count": 10,
     "metadata": {},
     "output_type": "execute_result"
    }
   ],
   "source": [
    "ricci[0][0]"
   ]
  },
  {
   "cell_type": "code",
   "execution_count": 11,
   "id": "41a1df2d",
   "metadata": {
    "collapsed": false,
    "jupyter": {
     "outputs_hidden": false
    }
   },
   "outputs": [
    {
     "data": {
      "text/latex": [
       "$\\displaystyle - \\left. \\frac{d}{d \\xi} f{\\left(\\xi \\right)} \\right|_{\\substack{ \\xi=\\mathbf{r} }}^{2} + \\left. \\frac{d}{d \\xi} f{\\left(\\xi \\right)} \\right|_{\\substack{ \\xi=\\mathbf{r} }} \\left. \\frac{d}{d \\xi} g{\\left(\\xi \\right)} \\right|_{\\substack{ \\xi=\\mathbf{r} }} - \\left. \\frac{d^{2}}{d \\xi^{2}} f{\\left(\\xi \\right)} \\right|_{\\substack{ \\xi=\\mathbf{r} }} + \\frac{2 \\left. \\frac{d}{d \\xi} g{\\left(\\xi \\right)} \\right|_{\\substack{ \\xi=\\mathbf{r} }}}{\\mathbf{r}}$"
      ],
      "text/plain": [
       "-Subs(Derivative(f(_xi), _xi), _xi, r)**2 + Subs(Derivative(f(_xi), _xi), _xi, r)*Subs(Derivative(g(_xi), _xi), _xi, r) - Subs(Derivative(f(_xi), (_xi, 2)), _xi, r) + 2*Subs(Derivative(g(_xi), _xi), _xi, r)/r"
      ]
     },
     "execution_count": 11,
     "metadata": {},
     "output_type": "execute_result"
    }
   ],
   "source": [
    "ricci[1][1]"
   ]
  },
  {
   "cell_type": "code",
   "execution_count": 12,
   "id": "fca4e4fb",
   "metadata": {
    "collapsed": false,
    "jupyter": {
     "outputs_hidden": false
    }
   },
   "outputs": [
    {
     "data": {
      "text/latex": [
       "$\\displaystyle \\left(e^{2 g{\\left(\\mathbf{r} \\right)}} - \\mathbf{r} \\left. \\frac{d}{d \\xi} f{\\left(\\xi \\right)} \\right|_{\\substack{ \\xi=\\mathbf{r} }} + \\mathbf{r} \\left. \\frac{d}{d \\xi} g{\\left(\\xi \\right)} \\right|_{\\substack{ \\xi=\\mathbf{r} }} - 1\\right) e^{- 2 g{\\left(\\mathbf{r} \\right)}}$"
      ],
      "text/plain": [
       "(exp(2*g(r)) - r*Subs(Derivative(f(_xi), _xi), _xi, r) + r*Subs(Derivative(g(_xi), _xi), _xi, r) - 1)*exp(-2*g(r))"
      ]
     },
     "execution_count": 12,
     "metadata": {},
     "output_type": "execute_result"
    }
   ],
   "source": [
    "ricci[2][2]"
   ]
  },
  {
   "cell_type": "code",
   "execution_count": 13,
   "id": "84f91b16",
   "metadata": {
    "collapsed": false,
    "jupyter": {
     "outputs_hidden": false
    }
   },
   "outputs": [
    {
     "data": {
      "text/latex": [
       "$\\displaystyle \\left(e^{2 g{\\left(\\mathbf{r} \\right)}} - \\mathbf{r} \\left. \\frac{d}{d \\xi} f{\\left(\\xi \\right)} \\right|_{\\substack{ \\xi=\\mathbf{r} }} + \\mathbf{r} \\left. \\frac{d}{d \\xi} g{\\left(\\xi \\right)} \\right|_{\\substack{ \\xi=\\mathbf{r} }} - 1\\right) e^{- 2 g{\\left(\\mathbf{r} \\right)}} \\sin^{2}{\\left(\\mathbf{\\theta} \\right)}$"
      ],
      "text/plain": [
       "(exp(2*g(r)) - r*Subs(Derivative(f(_xi), _xi), _xi, r) + r*Subs(Derivative(g(_xi), _xi), _xi, r) - 1)*exp(-2*g(r))*sin(theta)**2"
      ]
     },
     "execution_count": 13,
     "metadata": {},
     "output_type": "execute_result"
    }
   ],
   "source": [
    "ricci[3][3]"
   ]
  },
  {
   "cell_type": "markdown",
   "id": "58739a22",
   "metadata": {},
   "source": [
    "The off-diagonal components are zero."
   ]
  },
  {
   "cell_type": "code",
   "execution_count": 14,
   "id": "9bf2b31a",
   "metadata": {
    "collapsed": false,
    "jupyter": {
     "outputs_hidden": false
    }
   },
   "outputs": [
    {
     "data": {
      "text/plain": [
       "True"
      ]
     },
     "execution_count": 14,
     "metadata": {},
     "output_type": "execute_result"
    }
   ],
   "source": [
    "all(ricci[i][j]==0 for i in range(4) for j in range(4) if i!=j)"
   ]
  },
  {
   "cell_type": "markdown",
   "id": "73ddf1c4",
   "metadata": {},
   "source": [
    "For completeness we can also check out the Christoffel symbol of 2nd kind. We will print only the non-zero components, and only one of the symmetric components (symmetric in the last two indices)."
   ]
  },
  {
   "cell_type": "code",
   "execution_count": 15,
   "id": "2440d02b",
   "metadata": {
    "collapsed": false,
    "jupyter": {
     "outputs_hidden": false
    }
   },
   "outputs": [],
   "source": [
    "ch_2nd = metric_to_Christoffel_2nd(metric)\n",
    "filt = [((i,j,k), simplify(ch_2nd[i][j][k]))\n",
    "            for i in range(4) for j in range(4) for k in range(j,4)\n",
    "            if ch_2nd[i][j][k]!=0]"
   ]
  },
  {
   "cell_type": "code",
   "execution_count": 16,
   "id": "b56c0db9",
   "metadata": {
    "collapsed": false,
    "jupyter": {
     "outputs_hidden": false
    }
   },
   "outputs": [
    {
     "data": {
      "text/plain": [
       "[((0, 0, 1), Subs(Derivative(f(_xi), _xi), _xi, r)),\n",
       " ((1, 0, 0), exp(2*f(r) - 2*g(r))*Subs(Derivative(f(_xi), _xi), _xi, r)),\n",
       " ((1, 1, 1), Subs(Derivative(g(_xi), _xi), _xi, r))]"
      ]
     },
     "execution_count": 16,
     "metadata": {},
     "output_type": "execute_result"
    }
   ],
   "source": [
    "filt[0:3]"
   ]
  },
  {
   "cell_type": "code",
   "execution_count": 17,
   "id": "7554f57a",
   "metadata": {
    "collapsed": false,
    "jupyter": {
     "outputs_hidden": false
    }
   },
   "outputs": [
    {
     "data": {
      "text/plain": [
       "[((1, 2, 2), -exp(-2*g(r))*r),\n",
       " ((1, 3, 3), -exp(-2*g(r))*sin(theta)**2*r),\n",
       " ((2, 1, 2), 1/r)]"
      ]
     },
     "execution_count": 17,
     "metadata": {},
     "output_type": "execute_result"
    }
   ],
   "source": [
    "filt[3:6]"
   ]
  },
  {
   "cell_type": "code",
   "execution_count": 18,
   "id": "43fd6707",
   "metadata": {
    "collapsed": false,
    "jupyter": {
     "outputs_hidden": false
    }
   },
   "outputs": [
    {
     "data": {
      "text/plain": [
       "[((2, 3, 3), -sin(2*theta)/2), ((3, 1, 3), 1/r), ((3, 2, 3), 1/tan(theta))]"
      ]
     },
     "execution_count": 18,
     "metadata": {},
     "output_type": "execute_result"
    }
   ],
   "source": [
    "filt[6:9]"
   ]
  },
  {
   "cell_type": "markdown",
   "id": "fa43a2ff",
   "metadata": {},
   "source": [
    "We can also confirm that the Christoffel symbol is symmetric."
   ]
  },
  {
   "cell_type": "code",
   "execution_count": 19,
   "id": "7b71125d",
   "metadata": {
    "collapsed": false,
    "jupyter": {
     "outputs_hidden": false
    }
   },
   "outputs": [
    {
     "data": {
      "text/plain": [
       "True"
      ]
     },
     "execution_count": 19,
     "metadata": {},
     "output_type": "execute_result"
    }
   ],
   "source": [
    "all(ch_2nd[k][i][j] == ch_2nd[k][j][i] for k in range(4) for i in range(4) for j in range(4))"
   ]
  }
 ],
 "metadata": {
  "kernelspec": {
   "display_name": "Python 3 (ipykernel)",
   "language": "python",
   "name": "python3"
  },
  "language_info": {
   "codemirror_mode": {
    "name": "ipython",
    "version": 3
   },
   "file_extension": ".py",
   "mimetype": "text/x-python",
   "name": "python",
   "nbconvert_exporter": "python",
   "pygments_lexer": "ipython3",
   "version": "3.12.0"
  }
 },
 "nbformat": 4,
 "nbformat_minor": 5
}
