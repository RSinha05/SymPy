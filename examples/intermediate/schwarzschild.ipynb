{
 "cells": [
  {
   "cell_type": "markdown",
   "id": "273cacd6",
   "metadata": {},
   "source": [
    "# Schwarzschild Solution to the Einstein's equation"
   ]
  },
  {
   "cell_type": "markdown",
   "id": "fb1a8890",
   "metadata": {},
   "source": [
    "We will rederive the equations from *General Theory of Relativity*, chapter 18, by Dirac. They describe a spherically symmetric solution to the Einstein's equation in vacuum.\n",
    "\n",
    "We will not try to solve the resulting equations.\n",
    "\n",
    "This version of the notebook uses functions that explicitly calculate the Christoffel symbols, hence the work is coordinate-system-dependent."
   ]
  },
  {
   "cell_type": "markdown",
   "id": "ab5c8112",
   "metadata": {},
   "source": [
    "Import the necessary modules."
   ]
  },
  {
   "cell_type": "code",
   "execution_count": null,
   "id": "cd5a942e",
   "metadata": {},
   "outputs": [],
   "source": [
    "from sympy.diffgeom import *\n",
    "from sympy import Function, exp, sin, simplify\n",
    "TP = TensorProduct"
   ]
  },
  {
   "cell_type": "code",
   "execution_count": null,
   "id": "b587237e",
   "metadata": {},
   "outputs": [],
   "source": [
    "f = Function('f')\n",
    "g = Function('g')"
   ]
  },
  {
   "cell_type": "markdown",
   "id": "7d590aa1",
   "metadata": {},
   "source": [
    "Define a 4D manifold with a patch and a coordinate chart on which we will work."
   ]
  },
  {
   "cell_type": "code",
   "execution_count": null,
   "id": "1395d4c0",
   "metadata": {},
   "outputs": [],
   "source": [
    "m = Manifold('Schwarzschild', 4)\n",
    "p = Patch('origin', m)\n",
    "cs = CoordSystem('spherical', p, ['t', 'r', 'theta', 'phi'])"
   ]
  },
  {
   "cell_type": "code",
   "execution_count": null,
   "id": "474da3e8",
   "metadata": {},
   "outputs": [],
   "source": [
    "m, p, cs"
   ]
  },
  {
   "cell_type": "code",
   "execution_count": null,
   "id": "7b59653e",
   "metadata": {},
   "outputs": [],
   "source": [
    "t, r, theta, phi = cs.coord_functions()\n",
    "t, r, theta, phi"
   ]
  },
  {
   "cell_type": "code",
   "execution_count": null,
   "id": "157093e7",
   "metadata": {},
   "outputs": [],
   "source": [
    "dt, dr, dtheta, dphi = cs.base_oneforms()\n",
    "dt, dr, dtheta, dphi"
   ]
  },
  {
   "cell_type": "markdown",
   "id": "d8b0620e",
   "metadata": {},
   "source": [
    "The most general spherically-symmetric metric has the following form."
   ]
  },
  {
   "cell_type": "code",
   "execution_count": null,
   "id": "92593616",
   "metadata": {},
   "outputs": [],
   "source": [
    "metric = exp(2*f(r))*TP(dt, dt) - exp(2*g(r))*TP(dr, dr) - r**2*TP(dtheta, dtheta) - r**2*sin(theta)**2*TP(dphi, dphi)\n",
    "metric"
   ]
  },
  {
   "cell_type": "code",
   "execution_count": null,
   "id": "0783eff4",
   "metadata": {},
   "outputs": [],
   "source": [
    "twoform_to_matrix(metric)"
   ]
  },
  {
   "cell_type": "code",
   "execution_count": null,
   "id": "25ed885d",
   "metadata": {},
   "outputs": [],
   "source": [
    "ricci = metric_to_Ricci_components(metric)"
   ]
  },
  {
   "cell_type": "code",
   "execution_count": null,
   "id": "76ea6d1e",
   "metadata": {},
   "outputs": [],
   "source": [
    "ricci = [[simplify(ricci[i][j])\n",
    "            for j in range(4)] for i in range(4)]\n"
   ]
  },
  {
   "cell_type": "code",
   "execution_count": null,
   "id": "b2c856f3",
   "metadata": {
    "scrolled": true
   },
   "outputs": [],
   "source": [
    "ricci[0][0]"
   ]
  },
  {
   "cell_type": "code",
   "execution_count": null,
   "id": "c7f88c37",
   "metadata": {
    "scrolled": true
   },
   "outputs": [],
   "source": [
    "ricci[1][1]"
   ]
  },
  {
   "cell_type": "code",
   "execution_count": null,
   "id": "08f78f35",
   "metadata": {},
   "outputs": [],
   "source": [
    "ricci[2][2]"
   ]
  },
  {
   "cell_type": "code",
   "execution_count": null,
   "id": "cf1955dc",
   "metadata": {},
   "outputs": [],
   "source": [
    "ricci[3][3]"
   ]
  },
  {
   "cell_type": "markdown",
   "id": "2345ad70",
   "metadata": {},
   "source": [
    "The off-diagonal components are zero."
   ]
  },
  {
   "cell_type": "code",
   "execution_count": null,
   "id": "ddd39910",
   "metadata": {},
   "outputs": [],
   "source": [
    "all(ricci[i][j]==0 for i in range(4) for j in range(4) if i!=j)"
   ]
  },
  {
   "cell_type": "markdown",
   "id": "02554970",
   "metadata": {},
   "source": [
    "For completeness we can also check out the Christoffel symbol of 2nd kind. We will print only the non-zero components, and only one of the symmetric components (symmetric in the last two indices)."
   ]
  },
  {
   "cell_type": "code",
   "execution_count": null,
   "id": "12d4653c",
   "metadata": {},
   "outputs": [],
   "source": [
    "ch_2nd = metric_to_Christoffel_2nd(metric)\n",
    "filt = [((i,j,k), simplify(ch_2nd[i][j][k]))\n",
    "            for i in range(4) for j in range(4) for k in range(j,4)\n",
    "            if ch_2nd[i][j][k]!=0]"
   ]
  },
  {
   "cell_type": "code",
   "execution_count": null,
   "id": "a903acef",
   "metadata": {},
   "outputs": [],
   "source": [
    "filt[0:3]"
   ]
  },
  {
   "cell_type": "code",
   "execution_count": null,
   "id": "061ae39a",
   "metadata": {},
   "outputs": [],
   "source": [
    "filt[0:3]"
   ]
  },
  {
   "cell_type": "code",
   "execution_count": null,
   "id": "9311b50b",
   "metadata": {},
   "outputs": [],
   "source": [
    "filt[6:9]"
   ]
  },
  {
   "cell_type": "markdown",
   "id": "4003b20a",
   "metadata": {},
   "source": [
    "We can also confirm that the Christoffel symbol is symmetric."
   ]
  },
  {
   "cell_type": "code",
   "execution_count": null,
   "id": "846950bc",
   "metadata": {},
   "outputs": [],
   "source": [
    "all([ch_2nd[k][i][j] == ch_2nd[k][j][i] for k in range(4) for i in range(4) for j in range(4)])"
   ]
  },
  {
   "cell_type": "code",
   "execution_count": null,
   "id": "0d96b111",
   "metadata": {},
   "outputs": [],
   "source": []
  }
 ],
 "metadata": {
  "kernelspec": {
   "display_name": "Python 3 (ipykernel)",
   "language": "python",
   "name": "python3"
  },
  "language_info": {
   "codemirror_mode": {
    "name": "ipython",
    "version": 3
   },
   "file_extension": ".py",
   "mimetype": "text/x-python",
   "name": "python",
   "nbconvert_exporter": "python",
   "pygments_lexer": "ipython3",
   "version": "3.8.10"
  }
 },
 "nbformat": 4,
 "nbformat_minor": 5
}
