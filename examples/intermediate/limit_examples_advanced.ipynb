{
 "metadata": {
  "name": "limit_examples_advanced"
 },
 "nbformat": 3,
 "nbformat_minor": 0,
 "worksheets": [
  {
   "cells": [
    {
     "cell_type": "code",
     "collapsed": true,
     "input": [
      "%load_ext sympy.interactive.ipythonprinting\n",
      "from sympy import *"
     ],
     "language": "python",
     "metadata": {},
     "outputs": [],
     "prompt_number": 1
    },
    {
     "cell_type": "code",
     "collapsed": true,
     "input": [
      "x = Symbol(\"x\")"
     ],
     "language": "python",
     "metadata": {},
     "outputs": [],
     "prompt_number": 2
    },
    {
     "cell_type": "code",
     "collapsed": false,
     "input": [
      "limit(exp(x)*exp(x**2)*(erf(x+1/exp(x))-erf(x)), x, oo)"
     ],
     "language": "python",
     "metadata": {},
     "outputs": [
      {
       "latex": [
        "$$\\frac{2}{\\sqrt{\\pi}}$$"
       ],
       "output_type": "pyout",
       "png": "[encoded data removed]",
       "prompt_number": 3,
       "text": [
        "  2  \n",
        "\u2500\u2500\u2500\u2500\u2500\n",
        "  ___\n",
        "\u2572\u2571 \u03c0 "
       ]
      }
     ],
     "prompt_number": 3
    },
    {
     "cell_type": "markdown",
     "metadata": {},
     "source": [
      "The examples here show the limit computation on exp-log expressions (from Gruntz' thesis pp. 122 to 123)"
     ]
    },
    {
     "cell_type": "markdown",
     "metadata": {},
     "source": [
      "Eqn 8.1"
     ]
    },
    {
     "cell_type": "code",
     "collapsed": false,
     "input": [
      "exp(x)*(exp(1/x-exp(-x))-exp(1/x))"
     ],
     "language": "python",
     "metadata": {},
     "outputs": [
      {
       "latex": [
        "$$\\left(- e^{\\frac{1}{x}} + e^{- e^{- x} + \\frac{1}{x}}\\right) e^{x}$$"
       ],
       "output_type": "pyout",
       "png": "[encoded data removed]",
       "prompt_number": 4,
       "text": [
        "\u239b   1       -x   1\u239e   \n",
        "\u239c   \u2500    - \u212f   + \u2500\u239f   \n",
        "\u239c   x            x\u239f  x\n",
        "\u239d- \u212f  + \u212f         \u23a0\u22c5\u212f "
       ]
      }
     ],
     "prompt_number": 4
    },
    {
     "cell_type": "code",
     "collapsed": false,
     "input": [
      "limit(_, x, oo)"
     ],
     "language": "python",
     "metadata": {},
     "outputs": [
      {
       "latex": [
        "$$-1$$"
       ],
       "output_type": "pyout",
       "png": "[encoded data removed]",
       "prompt_number": 5,
       "text": [
        "-1"
       ]
      }
     ],
     "prompt_number": 5
    },
    {
     "cell_type": "markdown",
     "metadata": {},
     "source": [
      "Eqn 8.2"
     ]
    },
    {
     "cell_type": "code",
     "collapsed": false,
     "input": [
      "exp(x)*(exp(1/x+exp(-x)+exp(-x**2)) - exp(1/x-exp(-exp(x))))"
     ],
     "language": "python",
     "metadata": {},
     "outputs": [
      {
       "latex": [
        "$$\\left(- e^{- e^{- e^{x}} + \\frac{1}{x}} + e^{e^{- x^{2}} + e^{- x} + \\frac{1}{x}}\\right) e^{x}$$"
       ],
       "output_type": "pyout",
       "png": "[encoded data removed]",
       "prompt_number": 6,
       "text": [
        "\u239b        x           2          \u239e   \n",
        "\u239c      -\u212f    1     -x     -x   1\u239f   \n",
        "\u239c   - \u212f    + \u2500    \u212f    + \u212f   + \u2500\u239f   \n",
        "\u239c            x                 x\u239f  x\n",
        "\u239d- \u212f           + \u212f              \u23a0\u22c5\u212f "
       ]
      }
     ],
     "prompt_number": 6
    },
    {
     "cell_type": "code",
     "collapsed": false,
     "input": [
      "limit(_, x, oo)"
     ],
     "language": "python",
     "metadata": {},
     "outputs": [
      {
       "latex": [
        "$$1$$"
       ],
       "output_type": "pyout",
       "png": "[encoded data removed]",
       "prompt_number": 7,
       "text": [
        "1"
       ]
      }
     ],
     "prompt_number": 7
    },
    {
     "cell_type": "markdown",
     "metadata": {},
     "source": [
      "Eqn 8.3"
     ]
    },
    {
     "cell_type": "code",
     "collapsed": false,
     "input": [
      "exp(exp(x-exp(-x))/(1-1/x)) - exp(exp(x))"
     ],
     "language": "python",
     "metadata": {},
     "outputs": [
      {
       "latex": [
        "$$e^{\\frac{e^{x - e^{- x}}}{1 - \\frac{1}{x}}} - e^{e^{x}}$$"
       ],
       "output_type": "pyout",
       "png": "[encoded data removed]",
       "prompt_number": 8,
       "text": [
        "       -x        \n",
        "  x - \u212f          \n",
        " \u212f               \n",
        " \u2500\u2500\u2500\u2500\u2500\u2500\u2500\u2500        \n",
        "      1          \n",
        "  1 - \u2500      \u239b x\u239e\n",
        "      x      \u239d\u212f \u23a0\n",
        "\u212f         - \u212f    "
       ]
      }
     ],
     "prompt_number": 8
    },
    {
     "cell_type": "code",
     "collapsed": false,
     "input": [
      "limit(_, x, oo)"
     ],
     "language": "python",
     "metadata": {},
     "outputs": [
      {
       "latex": [
        "$$\\infty$$"
       ],
       "output_type": "pyout",
       "png": "[encoded data removed]",
       "prompt_number": 9,
       "text": [
        "\u221e"
       ]
      }
     ],
     "prompt_number": 9
    },
    {
     "cell_type": "markdown",
     "metadata": {},
     "source": [
      "Eqn 8.4"
     ]
    },
    {
     "cell_type": "code",
     "collapsed": false,
     "input": [
      "exp(exp(exp(x)/(1-1/x))) - exp(exp(exp(x)/(1-1/x-log(x)**(-log(x)))))"
     ],
     "language": "python",
     "metadata": {},
     "outputs": [
      {
       "latex": [
        "$$e^{e^{\\frac{e^{x}}{1 - \\frac{1}{x}}}} - e^{e^{\\frac{e^{x}}{1 - \\log^{- \\log{\\left (x \\right )}}{\\left (x \\right )} - \\frac{1}{x}}}}$$"
       ],
       "output_type": "pyout",
       "png": "[encoded data removed]",
       "prompt_number": 10,
       "text": [
        " \u239b    x \u239e    \u239b            x         \u239e\n",
        " \u239c   \u212f  \u239f    \u239c           \u212f          \u239f\n",
        " \u239c \u2500\u2500\u2500\u2500\u2500\u239f    \u239c \u2500\u2500\u2500\u2500\u2500\u2500\u2500\u2500\u2500\u2500\u2500\u2500\u2500\u2500\u2500\u2500\u2500\u2500\u2500\u2500\u2500\u239f\n",
        " \u239c     1\u239f    \u239c        -log(x)      1\u239f\n",
        " \u239c 1 - \u2500\u239f    \u239c 1 - log       (x) - \u2500\u239f\n",
        " \u239c     x\u239f    \u239c                     x\u239f\n",
        " \u239d\u212f     \u23a0    \u239d\u212f                     \u23a0\n",
        "\u212f         - \u212f                        "
       ]
      }
     ],
     "prompt_number": 10
    },
    {
     "cell_type": "code",
     "collapsed": false,
     "input": [
      "#Disabled since it is slow\n",
      "#limit(_, x, oo)"
     ],
     "language": "python",
     "metadata": {},
     "outputs": [],
     "prompt_number": 11
    },
    {
     "cell_type": "markdown",
     "metadata": {},
     "source": [
      "Eqn 8.5"
     ]
    },
    {
     "cell_type": "code",
     "collapsed": false,
     "input": [
      "exp(exp(exp(x+exp(-x)))) / exp(exp(exp(x)))"
     ],
     "language": "python",
     "metadata": {},
     "outputs": [
      {
       "latex": [
        "$$e^{- e^{e^{x}}} e^{e^{e^{x + e^{- x}}}}$$"
       ],
       "output_type": "pyout",
       "png": "[encoded data removed]",
       "prompt_number": 12,
       "text": [
        "         \u239b \u239b      -x\u239e\u239e\n",
        "   \u239b x\u239e  \u239c \u239c x + \u212f  \u239f\u239f\n",
        "   \u239d\u212f \u23a0  \u239c \u239d\u212f       \u23a0\u239f\n",
        " -\u212f      \u239d\u212f          \u23a0\n",
        "\u212f      \u22c5\u212f             "
       ]
      }
     ],
     "prompt_number": 12
    },
    {
     "cell_type": "code",
     "collapsed": false,
     "input": [
      "limit(_, x, oo)"
     ],
     "language": "python",
     "metadata": {},
     "outputs": [
      {
       "latex": [
        "$$\\infty$$"
       ],
       "output_type": "pyout",
       "png": "[encoded data removed]",
       "prompt_number": 13,
       "text": [
        "\u221e"
       ]
      }
     ],
     "prompt_number": 13
    },
    {
     "cell_type": "markdown",
     "metadata": {},
     "source": [
      "Eqn 8.6"
     ]
    },
    {
     "cell_type": "code",
     "collapsed": false,
     "input": [
      "exp(exp(exp(x))) / exp(exp(exp(x-exp(-exp(x)))))"
     ],
     "language": "python",
     "metadata": {},
     "outputs": [
      {
       "latex": [
        "$$e^{e^{e^{x}}} e^{- e^{e^{x - e^{- e^{x}}}}}$$"
       ],
       "output_type": "pyout",
       "png": "[encoded data removed]",
       "prompt_number": 14,
       "text": [
        "            \u239b        x\u239e\n",
        "            \u239c      -\u212f \u239f\n",
        " \u239b \u239b x\u239e\u239e    \u239c x - \u212f   \u239f\n",
        " \u239c \u239d\u212f \u23a0\u239f    \u239d\u212f        \u23a0\n",
        " \u239d\u212f    \u23a0  -\u212f           \n",
        "\u212f       \u22c5\u212f             "
       ]
      }
     ],
     "prompt_number": 14
    },
    {
     "cell_type": "code",
     "collapsed": false,
     "input": [
      "limit(_, x, oo)"
     ],
     "language": "python",
     "metadata": {},
     "outputs": [
      {
       "latex": [
        "$$\\infty$$"
       ],
       "output_type": "pyout",
       "png": "[encoded data removed]",
       "prompt_number": 15,
       "text": [
        "\u221e"
       ]
      }
     ],
     "prompt_number": 15
    },
    {
     "cell_type": "markdown",
     "metadata": {},
     "source": [
      "Eqn 8.7"
     ]
    },
    {
     "cell_type": "code",
     "collapsed": false,
     "input": [
      "exp(exp(exp(x))) / exp(exp(exp(x-exp(-exp(exp(x))))))"
     ],
     "language": "python",
     "metadata": {},
     "outputs": [
      {
       "latex": [
        "$$e^{e^{e^{x}}} e^{- e^{e^{x - e^{- e^{e^{x}}}}}}$$"
       ],
       "output_type": "pyout",
       "png": "[encoded data removed]",
       "prompt_number": 16,
       "text": [
        "            \u239b        \u239b x\u239e\u239e\n",
        "            \u239c        \u239d\u212f \u23a0\u239f\n",
        "            \u239c      -\u212f    \u239f\n",
        " \u239b \u239b x\u239e\u239e    \u239c x - \u212f      \u239f\n",
        " \u239c \u239d\u212f \u23a0\u239f    \u239d\u212f           \u23a0\n",
        " \u239d\u212f    \u23a0  -\u212f              \n",
        "\u212f       \u22c5\u212f                "
       ]
      }
     ],
     "prompt_number": 16
    },
    {
     "cell_type": "code",
     "collapsed": false,
     "input": [
      "limit(_, x, oo)"
     ],
     "language": "python",
     "metadata": {},
     "outputs": [
      {
       "latex": [
        "$$1$$"
       ],
       "output_type": "pyout",
       "png": "[encoded data removed]",
       "prompt_number": 17,
       "text": [
        "1"
       ]
      }
     ],
     "prompt_number": 17
    },
    {
     "cell_type": "markdown",
     "metadata": {},
     "source": [
      "Eqn 8.8"
     ]
    },
    {
     "cell_type": "code",
     "collapsed": false,
     "input": [
      "exp(exp(x)) / exp(exp(x-exp(-exp(exp(x)))))"
     ],
     "language": "python",
     "metadata": {},
     "outputs": [
      {
       "latex": [
        "$$e^{e^{x}} e^{- e^{x - e^{- e^{e^{x}}}}}$$"
       ],
       "output_type": "pyout",
       "png": "[encoded data removed]",
       "prompt_number": 18,
       "text": [
        "                \u239b x\u239e\n",
        "                \u239d\u212f \u23a0\n",
        "              -\u212f    \n",
        " \u239b x\u239e    x - \u212f      \n",
        " \u239d\u212f \u23a0  -\u212f           \n",
        "\u212f    \u22c5\u212f             "
       ]
      }
     ],
     "prompt_number": 18
    },
    {
     "cell_type": "code",
     "collapsed": false,
     "input": [
      "limit(_, x, oo)"
     ],
     "language": "python",
     "metadata": {},
     "outputs": [
      {
       "latex": [
        "$$1$$"
       ],
       "output_type": "pyout",
       "png": "[encoded data removed]",
       "prompt_number": 19,
       "text": [
        "1"
       ]
      }
     ],
     "prompt_number": 19
    },
    {
     "cell_type": "markdown",
     "metadata": {},
     "source": [
      "Eqn 8.9"
     ]
    },
    {
     "cell_type": "code",
     "collapsed": false,
     "input": [
      "log(x)**2 * exp(sqrt(log(x))*(log(log(x)))**2 * exp(sqrt(log(log(x))) * (log(log(log(x))))**3)) / sqrt(x)"
     ],
     "language": "python",
     "metadata": {},
     "outputs": [
      {
       "latex": [
        "$$\\frac{e^{e^{\\sqrt{\\log{\\left (\\log{\\left (x \\right )} \\right )}} \\log^{3}{\\left (\\log{\\left (\\log{\\left (x \\right )} \\right )} \\right )}} \\sqrt{\\log{\\left (x \\right )}} \\log^{2}{\\left (\\log{\\left (x \\right )} \\right )}} \\log^{2}{\\left (x \\right )}}{\\sqrt{x}}$$"
       ],
       "output_type": "pyout",
       "png": "[encoded data removed]",
       "prompt_number": 20,
       "text": [
        "    _____________    3                                             \n",
        "  \u2572\u2571 log(log(x)) \u22c5log (log(log(x)))   ________    2                \n",
        " \u212f                                 \u22c5\u2572\u2571 log(x) \u22c5log (log(x))    2   \n",
        "\u212f                                                          \u22c5log (x)\n",
        "\u2500\u2500\u2500\u2500\u2500\u2500\u2500\u2500\u2500\u2500\u2500\u2500\u2500\u2500\u2500\u2500\u2500\u2500\u2500\u2500\u2500\u2500\u2500\u2500\u2500\u2500\u2500\u2500\u2500\u2500\u2500\u2500\u2500\u2500\u2500\u2500\u2500\u2500\u2500\u2500\u2500\u2500\u2500\u2500\u2500\u2500\u2500\u2500\u2500\u2500\u2500\u2500\u2500\u2500\u2500\u2500\u2500\u2500\u2500\u2500\u2500\u2500\u2500\u2500\u2500\u2500\u2500\n",
        "                                 ___                               \n",
        "                               \u2572\u2571 x                                "
       ]
      }
     ],
     "prompt_number": 20
    },
    {
     "cell_type": "code",
     "collapsed": false,
     "input": [
      "limit(_, x, oo)"
     ],
     "language": "python",
     "metadata": {},
     "outputs": [
      {
       "latex": [
        "$$0$$"
       ],
       "output_type": "pyout",
       "png": "[encoded data removed]",
       "prompt_number": 21,
       "text": [
        "0"
       ]
      }
     ],
     "prompt_number": 21
    },
    {
     "cell_type": "markdown",
     "metadata": {},
     "source": [
      "Eqn 8.10"
     ]
    },
    {
     "cell_type": "code",
     "collapsed": false,
     "input": [
      "(x*log(x)*(log(x*exp(x)-x**2))**2) / (log(log(x**2+2*exp(exp(3*x**3*log(x))))))"
     ],
     "language": "python",
     "metadata": {},
     "outputs": [
      {
       "latex": [
        "$$\\frac{x \\log{\\left (x \\right )} \\log^{2}{\\left (- x^{2} + x e^{x} \\right )}}{\\log{\\left (\\log{\\left (x^{2} + 2 e^{e^{3 x^{3} \\log{\\left (x \\right )}}} \\right )} \\right )}}$$"
       ],
       "output_type": "pyout",
       "png": "[encoded data removed]",
       "prompt_number": 22,
       "text": [
        "               2                \n",
        "                \u239b   2      x\u239e   \n",
        "   x\u22c5log(x)\u22c5log \u239d- x  + x\u22c5\u212f \u23a0   \n",
        "\u2500\u2500\u2500\u2500\u2500\u2500\u2500\u2500\u2500\u2500\u2500\u2500\u2500\u2500\u2500\u2500\u2500\u2500\u2500\u2500\u2500\u2500\u2500\u2500\u2500\u2500\u2500\u2500\u2500\u2500\u2500\u2500\n",
        "   \u239b   \u239b        \u239b    3       \u239e\u239e\u239e\n",
        "   \u239c   \u239c        \u239c 3\u22c5x \u22c5log(x)\u239f\u239f\u239f\n",
        "   \u239c   \u239c 2      \u239d\u212f           \u23a0\u239f\u239f\n",
        "log\u239dlog\u239dx  + 2\u22c5\u212f              \u23a0\u23a0"
       ]
      }
     ],
     "prompt_number": 22
    },
    {
     "cell_type": "code",
     "collapsed": false,
     "input": [
      "limit(_, x, oo)"
     ],
     "language": "python",
     "metadata": {},
     "outputs": [
      {
       "latex": [
        "$$\\frac{1}{3}$$"
       ],
       "output_type": "pyout",
       "png": "[encoded data removed]",
       "prompt_number": 23,
       "text": [
        "1/3"
       ]
      }
     ],
     "prompt_number": 23
    },
    {
     "cell_type": "markdown",
     "metadata": {},
     "source": [
      "Eqn 8.11"
     ]
    },
    {
     "cell_type": "code",
     "collapsed": false,
     "input": [
      "(exp(x*exp(-x)/(exp(-x)+exp(-2*x**2/(x+1)))) - exp(x))/x"
     ],
     "language": "python",
     "metadata": {},
     "outputs": [
      {
       "latex": [
        "$$\\frac{- e^{x} + e^{\\frac{x e^{- x}}{e^{- 2 \\frac{x^{2}}{x + 1}} + e^{- x}}}}{x}$$"
       ],
       "output_type": "pyout",
       "png": "[encoded data removed]",
       "prompt_number": 24,
       "text": [
        "              -x    \n",
        "           x\u22c5\u212f      \n",
        "        \u2500\u2500\u2500\u2500\u2500\u2500\u2500\u2500\u2500\u2500\u2500\u2500\n",
        "             2      \n",
        "         -2\u22c5x       \n",
        "         \u2500\u2500\u2500\u2500\u2500      \n",
        "         x + 1    -x\n",
        "   x    \u212f      + \u212f  \n",
        "- \u212f  + \u212f            \n",
        "\u2500\u2500\u2500\u2500\u2500\u2500\u2500\u2500\u2500\u2500\u2500\u2500\u2500\u2500\u2500\u2500\u2500\u2500\u2500\u2500\n",
        "         x          "
       ]
      }
     ],
     "prompt_number": 24
    },
    {
     "cell_type": "code",
     "collapsed": false,
     "input": [
      "limit(_, x, oo)"
     ],
     "language": "python",
     "metadata": {},
     "outputs": [
      {
       "latex": [
        "$$- e^{2}$$"
       ],
       "output_type": "pyout",
       "png": "[encoded data removed]",
       "prompt_number": 25,
       "text": [
        "  2\n",
        "-\u212f "
       ]
      }
     ],
     "prompt_number": 25
    },
    {
     "cell_type": "markdown",
     "metadata": {},
     "source": [
      "Eqn 8.12"
     ]
    },
    {
     "cell_type": "code",
     "collapsed": false,
     "input": [
      "(3**x + 5**x)**(1/x)"
     ],
     "language": "python",
     "metadata": {},
     "outputs": [
      {
       "latex": [
        "$$\\left(3^{x} + 5^{x}\\right)^{\\frac{1}{x}}$$"
       ],
       "output_type": "pyout",
       "png": "[encoded data removed]",
       "prompt_number": 26,
       "text": [
        "   _________\n",
        "x \u2571  x    x \n",
        "\u2572\u2571  3  + 5  "
       ]
      }
     ],
     "prompt_number": 26
    },
    {
     "cell_type": "code",
     "collapsed": false,
     "input": [
      "limit(_, x, oo)"
     ],
     "language": "python",
     "metadata": {},
     "outputs": [
      {
       "latex": [
        "$$5$$"
       ],
       "output_type": "pyout",
       "png": "[encoded data removed]",
       "prompt_number": 27,
       "text": [
        "5"
       ]
      }
     ],
     "prompt_number": 27
    },
    {
     "cell_type": "markdown",
     "metadata": {},
     "source": [
      "Eqn 8.13"
     ]
    },
    {
     "cell_type": "code",
     "collapsed": false,
     "input": [
      "x/log(x**(log(x**(log(2)/log(x)))))"
     ],
     "language": "python",
     "metadata": {},
     "outputs": [
      {
       "latex": [
        "$$\\frac{x}{\\log{\\left (x^{\\log{\\left (x^{\\frac{\\log{\\left (2 \\right )}}{\\log{\\left (x \\right )}}} \\right )}} \\right )}}$$"
       ],
       "output_type": "pyout",
       "png": "[encoded data removed]",
       "prompt_number": 28,
       "text": [
        "        x         \n",
        "\u2500\u2500\u2500\u2500\u2500\u2500\u2500\u2500\u2500\u2500\u2500\u2500\u2500\u2500\u2500\u2500\u2500\u2500\n",
        "   \u239b    \u239b log(2)\u239e\u239e\n",
        "   \u239c    \u239c \u2500\u2500\u2500\u2500\u2500\u2500\u239f\u239f\n",
        "   \u239c    \u239c log(x)\u239f\u239f\n",
        "   \u239c log\u239dx      \u23a0\u239f\n",
        "log\u239dx            \u23a0"
       ]
      }
     ],
     "prompt_number": 28
    },
    {
     "cell_type": "code",
     "collapsed": false,
     "input": [
      "limit(_, x, oo)"
     ],
     "language": "python",
     "metadata": {},
     "outputs": [
      {
       "latex": [
        "$$\\infty$$"
       ],
       "output_type": "pyout",
       "png": "[encoded data removed]",
       "prompt_number": 29,
       "text": [
        "\u221e"
       ]
      }
     ],
     "prompt_number": 29
    },
    {
     "cell_type": "markdown",
     "metadata": {},
     "source": [
      "Eqn 8.14"
     ]
    },
    {
     "cell_type": "code",
     "collapsed": false,
     "input": [
      "exp(exp(2*log(x**5+x)*log(log(x)))) / exp(exp(10*log(x)*log(log(x))))"
     ],
     "language": "python",
     "metadata": {},
     "outputs": [
      {
       "latex": [
        "$$e^{- e^{10 \\log{\\left (x \\right )} \\log{\\left (\\log{\\left (x \\right )} \\right )}}} e^{e^{2 \\log{\\left (x^{5} + x \\right )} \\log{\\left (\\log{\\left (x \\right )} \\right )}}}$$"
       ],
       "output_type": "pyout",
       "png": "[encoded data removed]",
       "prompt_number": 30,
       "text": [
        "                          \u239b      \u239b 5    \u239e            \u239e\n",
        "   10\u22c5log(x)\u22c5log(log(x))  \u239c 2\u22c5log\u239dx  + x\u23a0\u22c5log(log(x))\u239f\n",
        " -\u212f                       \u239d\u212f                         \u23a0\n",
        "\u212f                       \u22c5\u212f                            "
       ]
      }
     ],
     "prompt_number": 30
    },
    {
     "cell_type": "code",
     "collapsed": false,
     "input": [
      "limit(_, x, oo)"
     ],
     "language": "python",
     "metadata": {},
     "outputs": [
      {
       "latex": [
        "$$\\infty$$"
       ],
       "output_type": "pyout",
       "png": "[encoded data removed]",
       "prompt_number": 31,
       "text": [
        "\u221e"
       ]
      }
     ],
     "prompt_number": 31
    },
    {
     "cell_type": "markdown",
     "metadata": {},
     "source": [
      "Eqn 8.15"
     ]
    },
    {
     "cell_type": "code",
     "collapsed": false,
     "input": [
      "4*exp(exp(S(5)/2*x**(-S(5)/7)+ S(21)/8*x**(S(6)/11)+2*x**(-8)+S(54)/17*x**(S(49)/45) ))**8 / (9*log(log(-log(S(4)/3*x**(-S(5)/14))))**(S(7)/6))"
     ],
     "language": "python",
     "metadata": {},
     "outputs": [
      {
       "latex": [
        "$$\\frac{4}{9} \\frac{e^{8 e^{\\frac{54}{17} x^{\\frac{49}{45}} + \\frac{21}{8} x^{\\frac{6}{11}} + \\frac{2}{x^{8}} + \\frac{5}{2 x^{\\frac{5}{7}}}}}}{\\log^{\\frac{7}{6}}{\\left (\\log{\\left (- \\log{\\left (\\frac{4}{3 x^{\\frac{5}{14}}} \\right )} \\right )} \\right )}}$$"
       ],
       "output_type": "pyout",
       "png": "[encoded data removed]",
       "prompt_number": 32,
       "text": [
        "          49                         \n",
        "          \u2500\u2500                         \n",
        "          45       6/11              \n",
        "      54\u22c5x     21\u22c5x       2      5   \n",
        "      \u2500\u2500\u2500\u2500\u2500\u2500 + \u2500\u2500\u2500\u2500\u2500\u2500\u2500\u2500 + \u2500\u2500 + \u2500\u2500\u2500\u2500\u2500\u2500\n",
        "        17        8        8      5/7\n",
        "                          x    2\u22c5x   \n",
        "   8\u22c5\u212f                               \n",
        "4\u22c5\u212f                                  \n",
        "\u2500\u2500\u2500\u2500\u2500\u2500\u2500\u2500\u2500\u2500\u2500\u2500\u2500\u2500\u2500\u2500\u2500\u2500\u2500\u2500\u2500\u2500\u2500\u2500\u2500\u2500\u2500\u2500\u2500\u2500\u2500\u2500\u2500\u2500\u2500\u2500\u2500\n",
        "          7/6                        \n",
        "             \u239b   \u239b    \u239b   4   \u239e\u239e\u239e    \n",
        "     9\u22c5log   \u239clog\u239c-log\u239c\u2500\u2500\u2500\u2500\u2500\u2500\u2500\u239f\u239f\u239f    \n",
        "             \u239c   \u239c    \u239c   5/14\u239f\u239f\u239f    \n",
        "             \u239d   \u239d    \u239d3\u22c5x    \u23a0\u23a0\u23a0    "
       ]
      }
     ],
     "prompt_number": 32
    },
    {
     "cell_type": "code",
     "collapsed": false,
     "input": [
      "limit(_, x, oo)"
     ],
     "language": "python",
     "metadata": {},
     "outputs": [
      {
       "latex": [
        "$$\\infty$$"
       ],
       "output_type": "pyout",
       "png": "[encoded data removed]",
       "prompt_number": 33,
       "text": [
        "\u221e"
       ]
      }
     ],
     "prompt_number": 33
    },
    {
     "cell_type": "markdown",
     "metadata": {},
     "source": [
      "Eqn 8.16"
     ]
    },
    {
     "cell_type": "code",
     "collapsed": false,
     "input": [
      "(exp(4*x*exp(-x)/(1/exp(x)+1/exp(2*x**2/(x+1)))) - exp(x)) / exp(x)**4"
     ],
     "language": "python",
     "metadata": {},
     "outputs": [
      {
       "latex": [
        "$$\\left(- e^{x} + e^{4 \\frac{x e^{- x}}{e^{- 2 \\frac{x^{2}}{x + 1}} + e^{- x}}}\\right) e^{- 4 x}$$"
       ],
       "output_type": "pyout",
       "png": "[encoded data removed]",
       "prompt_number": 34,
       "text": [
        "\u239b               -x   \u239e      \n",
        "\u239c          4\u22c5x\u22c5\u212f     \u239f      \n",
        "\u239c        \u2500\u2500\u2500\u2500\u2500\u2500\u2500\u2500\u2500\u2500\u2500\u2500\u239f      \n",
        "\u239c             2      \u239f      \n",
        "\u239c         -2\u22c5x       \u239f      \n",
        "\u239c         \u2500\u2500\u2500\u2500\u2500      \u239f      \n",
        "\u239c         x + 1    -x\u239f      \n",
        "\u239c   x    \u212f      + \u212f  \u239f  -4\u22c5x\n",
        "\u239d- \u212f  + \u212f            \u23a0\u22c5\u212f    "
       ]
      }
     ],
     "prompt_number": 34
    },
    {
     "cell_type": "code",
     "collapsed": false,
     "input": [
      "limit(_, x, oo)"
     ],
     "language": "python",
     "metadata": {},
     "outputs": [
      {
       "latex": [
        "$$1$$"
       ],
       "output_type": "pyout",
       "png": "[encoded data removed]",
       "prompt_number": 35,
       "text": [
        "1"
       ]
      }
     ],
     "prompt_number": 35
    },
    {
     "cell_type": "markdown",
     "metadata": {},
     "source": [
      "Eqn 8.17"
     ]
    },
    {
     "cell_type": "code",
     "collapsed": false,
     "input": [
      "exp(x*exp(-x)/(exp(-x)+exp(-2*x**2/(x+1))))/exp(x)"
     ],
     "language": "python",
     "metadata": {},
     "outputs": [
      {
       "latex": [
        "$$e^{- x} e^{\\frac{x e^{- x}}{e^{- 2 \\frac{x^{2}}{x + 1}} + e^{- x}}}$$"
       ],
       "output_type": "pyout",
       "png": "[encoded data removed]",
       "prompt_number": 36,
       "text": [
        "           -x    \n",
        "        x\u22c5\u212f      \n",
        "     \u2500\u2500\u2500\u2500\u2500\u2500\u2500\u2500\u2500\u2500\u2500\u2500\n",
        "          2      \n",
        "      -2\u22c5x       \n",
        "      \u2500\u2500\u2500\u2500\u2500      \n",
        "      x + 1    -x\n",
        " -x  \u212f      + \u212f  \n",
        "\u212f  \u22c5\u212f            "
       ]
      }
     ],
     "prompt_number": 36
    },
    {
     "cell_type": "code",
     "collapsed": false,
     "input": [
      "limit(_, x, oo)"
     ],
     "language": "python",
     "metadata": {},
     "outputs": [
      {
       "latex": [
        "$$1$$"
       ],
       "output_type": "pyout",
       "png": "[encoded data removed]",
       "prompt_number": 37,
       "text": [
        "1"
       ]
      }
     ],
     "prompt_number": 37
    },
    {
     "cell_type": "markdown",
     "metadata": {},
     "source": [
      "Eqn 8.18"
     ]
    },
    {
     "cell_type": "code",
     "collapsed": false,
     "input": [
      "(exp(exp(-x/(1+exp(-x))))*exp(-x/(1+exp(-x/(1+exp(-x)))))*exp(exp(-x+exp(-x/(1+exp(-x)))))) / (exp(-x/(1+exp(-x))))**2 - exp(x) + x"
     ],
     "language": "python",
     "metadata": {},
     "outputs": [
      {
       "latex": [
        "$$x - e^{x} + e^{2 \\frac{x}{1 + e^{- x}}} e^{- \\frac{x}{1 + e^{- \\frac{x}{1 + e^{- x}}}}} e^{e^{- \\frac{x}{1 + e^{- x}}}} e^{e^{- x + e^{- \\frac{x}{1 + e^{- x}}}}}$$"
       ],
       "output_type": "pyout",
       "png": "[encoded data removed]",
       "prompt_number": 38,
       "text": [
        "                        -x                                   \n",
        "                   \u2500\u2500\u2500\u2500\u2500\u2500\u2500\u2500\u2500\u2500\u2500\u2500              \u239b          -x  \u239e\n",
        "                           -x    \u239b    -x  \u239e  \u239c       \u2500\u2500\u2500\u2500\u2500\u2500\u2500\u239f\n",
        "            2\u22c5x         \u2500\u2500\u2500\u2500\u2500\u2500\u2500  \u239c \u2500\u2500\u2500\u2500\u2500\u2500\u2500\u239f  \u239c            -x\u239f\n",
        "          \u2500\u2500\u2500\u2500\u2500\u2500\u2500            -x  \u239c      -x\u239f  \u239c       1 + \u212f  \u239f\n",
        "               -x       1 + \u212f    \u239c 1 + \u212f  \u239f  \u239c -x + \u212f       \u239f\n",
        "     x    1 + \u212f    1 + \u212f         \u239d\u212f       \u23a0  \u239d\u212f             \u23a0\n",
        "x - \u212f  + \u212f       \u22c5\u212f            \u22c5\u212f          \u22c5\u212f                "
       ]
      }
     ],
     "prompt_number": 38
    },
    {
     "cell_type": "code",
     "collapsed": false,
     "input": [
      "limit(_, x, oo)"
     ],
     "language": "python",
     "metadata": {},
     "outputs": [
      {
       "latex": [
        "$$2$$"
       ],
       "output_type": "pyout",
       "png": "[encoded data removed]",
       "prompt_number": 39,
       "text": [
        "2"
       ]
      }
     ],
     "prompt_number": 39
    },
    {
     "cell_type": "markdown",
     "metadata": {},
     "source": [
      "Eqn 8.19"
     ]
    },
    {
     "cell_type": "code",
     "collapsed": false,
     "input": [
      "log(x)*(log(log(x)+log(log(x))) - log(log(x))) / (log(log(x)+log(log(log(x)))))"
     ],
     "language": "python",
     "metadata": {},
     "outputs": [
      {
       "latex": [
        "$$\\frac{\\left(\\log{\\left (\\log{\\left (x \\right )} + \\log{\\left (\\log{\\left (x \\right )} \\right )} \\right )} - \\log{\\left (\\log{\\left (x \\right )} \\right )}\\right) \\log{\\left (x \\right )}}{\\log{\\left (\\log{\\left (x \\right )} + \\log{\\left (\\log{\\left (\\log{\\left (x \\right )} \\right )} \\right )} \\right )}}$$"
       ],
       "output_type": "pyout",
       "png": "[encoded data removed]",
       "prompt_number": 40,
       "text": [
        "(log(log(x) + log(log(x))) - log(log(x)))\u22c5log(x)\n",
        "\u2500\u2500\u2500\u2500\u2500\u2500\u2500\u2500\u2500\u2500\u2500\u2500\u2500\u2500\u2500\u2500\u2500\u2500\u2500\u2500\u2500\u2500\u2500\u2500\u2500\u2500\u2500\u2500\u2500\u2500\u2500\u2500\u2500\u2500\u2500\u2500\u2500\u2500\u2500\u2500\u2500\u2500\u2500\u2500\u2500\u2500\u2500\u2500\n",
        "         log(log(x) + log(log(log(x))))         "
       ]
      }
     ],
     "prompt_number": 40
    },
    {
     "cell_type": "code",
     "collapsed": false,
     "input": [
      "limit(_, x, oo)"
     ],
     "language": "python",
     "metadata": {},
     "outputs": [
      {
       "latex": [
        "$$1$$"
       ],
       "output_type": "pyout",
       "png": "[encoded data removed]",
       "prompt_number": 41,
       "text": [
        "1"
       ]
      }
     ],
     "prompt_number": 41
    },
    {
     "cell_type": "markdown",
     "metadata": {},
     "source": [
      "Eqn 8.20"
     ]
    },
    {
     "cell_type": "code",
     "collapsed": false,
     "input": [
      "exp((log(log(x+exp(log(x)*log(log(x)))))) / (log(log(log(exp(x)+x+log(x))))))"
     ],
     "language": "python",
     "metadata": {},
     "outputs": [
      {
       "latex": [
        "$$e^{\\frac{\\log{\\left (\\log{\\left (x + e^{\\log{\\left (x \\right )} \\log{\\left (\\log{\\left (x \\right )} \\right )}} \\right )} \\right )}}{\\log{\\left (\\log{\\left (\\log{\\left (x + e^{x} + \\log{\\left (x \\right )} \\right )} \\right )} \\right )}}}$$"
       ],
       "output_type": "pyout",
       "png": "[encoded data removed]",
       "prompt_number": 42,
       "text": [
        "    \u239b   \u239b     log(x)\u22c5log(log(x))\u239e\u239e\n",
        " log\u239dlog\u239dx + \u212f                  \u23a0\u23a0\n",
        " \u2500\u2500\u2500\u2500\u2500\u2500\u2500\u2500\u2500\u2500\u2500\u2500\u2500\u2500\u2500\u2500\u2500\u2500\u2500\u2500\u2500\u2500\u2500\u2500\u2500\u2500\u2500\u2500\u2500\u2500\u2500\u2500\u2500\n",
        "      \u239b   \u239b   \u239b     x         \u239e\u239e\u239e \n",
        "   log\u239dlog\u239dlog\u239dx + \u212f  + log(x)\u23a0\u23a0\u23a0 \n",
        "\u212f                                 "
       ]
      }
     ],
     "prompt_number": 42
    },
    {
     "cell_type": "code",
     "collapsed": false,
     "input": [
      "limit(_, x, oo)"
     ],
     "language": "python",
     "metadata": {},
     "outputs": [
      {
       "latex": [
        "$$e$$"
       ],
       "output_type": "pyout",
       "png": "[encoded data removed]",
       "prompt_number": 43,
       "text": [
        "\u212f"
       ]
      }
     ],
     "prompt_number": 43
    },
    {
     "cell_type": "markdown",
     "metadata": {},
     "source": [
      "The following examples show limit computation on special functions (from Gruntz' thesis p. 126)"
     ]
    },
    {
     "cell_type": "markdown",
     "metadata": {},
     "source": [
      "Eqn 8.21"
     ]
    },
    {
     "cell_type": "code",
     "collapsed": false,
     "input": [
      "exp(x)*(sin(1/x+exp(-x))-sin(1/x+exp(-x**2)))"
     ],
     "language": "python",
     "metadata": {},
     "outputs": [
      {
       "latex": [
        "$$\\left(\\sin{\\left (e^{- x} + \\frac{1}{x} \\right )} - \\sin{\\left (e^{- x^{2}} + \\frac{1}{x} \\right )}\\right) e^{x}$$"
       ],
       "output_type": "pyout",
       "png": "[encoded data removed]",
       "prompt_number": 44,
       "text": [
        "\u239b                  \u239b   2    \u239e\u239e   \n",
        "\u239c   \u239b -x   1\u239e      \u239c -x    1\u239f\u239f  x\n",
        "\u239csin\u239c\u212f   + \u2500\u239f - sin\u239c\u212f    + \u2500\u239f\u239f\u22c5\u212f \n",
        "\u239d   \u239d      x\u23a0      \u239d       x\u23a0\u23a0   "
       ]
      }
     ],
     "prompt_number": 44
    },
    {
     "cell_type": "code",
     "collapsed": false,
     "input": [
      "limit(_, x, oo)"
     ],
     "language": "python",
     "metadata": {},
     "outputs": [
      {
       "latex": [
        "$$1$$"
       ],
       "output_type": "pyout",
       "png": "[encoded data removed]",
       "prompt_number": 45,
       "text": [
        "1"
       ]
      }
     ],
     "prompt_number": 45
    },
    {
     "cell_type": "markdown",
     "metadata": {},
     "source": [
      "Eqn 8.22"
     ]
    },
    {
     "cell_type": "code",
     "collapsed": false,
     "input": [
      "exp(exp(x)) * (exp(sin(1/x+exp(-exp(x)))) - exp(sin(1/x)))"
     ],
     "language": "python",
     "metadata": {},
     "outputs": [
      {
       "latex": [
        "$$\\left(- e^{\\sin{\\left (\\frac{1}{x} \\right )}} + e^{\\sin{\\left (e^{- e^{x}} + \\frac{1}{x} \\right )}}\\right) e^{e^{x}}$$"
       ],
       "output_type": "pyout",
       "png": "[encoded data removed]",
       "prompt_number": 46,
       "text": [
        "\u239b                \u239b   x    \u239e\u239e      \n",
        "\u239c      \u239b1\u239e       \u239c -\u212f    1\u239f\u239f      \n",
        "\u239c   sin\u239c\u2500\u239f    sin\u239c\u212f    + \u2500\u239f\u239f  \u239b x\u239e\n",
        "\u239c      \u239dx\u23a0       \u239d       x\u23a0\u239f  \u239d\u212f \u23a0\n",
        "\u239d- \u212f       + \u212f             \u23a0\u22c5\u212f    "
       ]
      }
     ],
     "prompt_number": 46
    },
    {
     "cell_type": "code",
     "collapsed": false,
     "input": [
      "limit(_, x, oo)"
     ],
     "language": "python",
     "metadata": {},
     "outputs": [
      {
       "latex": [
        "$$1$$"
       ],
       "output_type": "pyout",
       "png": "[encoded data removed]",
       "prompt_number": 47,
       "text": [
        "1"
       ]
      }
     ],
     "prompt_number": 47
    },
    {
     "cell_type": "markdown",
     "metadata": {},
     "source": [
      "Eqn 8.23"
     ]
    },
    {
     "cell_type": "code",
     "collapsed": false,
     "input": [
      "(erf(x-exp(-exp(x))) - erf(x)) * exp(exp(x)) * exp(x**2)"
     ],
     "language": "python",
     "metadata": {},
     "outputs": [
      {
       "latex": [
        "$$\\left(- \\operatorname{erf}{\\left (x \\right )} + \\operatorname{erf}{\\left (x - e^{- e^{x}} \\right )}\\right) e^{x^{2}} e^{e^{x}}$$"
       ],
       "output_type": "pyout",
       "png": "[encoded data removed]",
       "prompt_number": 48,
       "text": [
        "\u239b             \u239b       x\u239e\u239e  \u239b 2\u239e  \u239b x\u239e\n",
        "\u239c             \u239c     -\u212f \u239f\u239f  \u239dx \u23a0  \u239d\u212f \u23a0\n",
        "\u239d-erf(x) + erf\u239dx - \u212f   \u23a0\u23a0\u22c5\u212f    \u22c5\u212f    "
       ]
      }
     ],
     "prompt_number": 48
    },
    {
     "cell_type": "code",
     "collapsed": false,
     "input": [
      "limit(_, x, oo)"
     ],
     "language": "python",
     "metadata": {},
     "outputs": [
      {
       "latex": [
        "$$- \\frac{2}{\\sqrt{\\pi}}$$"
       ],
       "output_type": "pyout",
       "png": "[encoded data removed]",
       "prompt_number": 49,
       "text": [
        "  -2 \n",
        "\u2500\u2500\u2500\u2500\u2500\n",
        "  ___\n",
        "\u2572\u2571 \u03c0 "
       ]
      }
     ],
     "prompt_number": 49
    },
    {
     "cell_type": "markdown",
     "metadata": {},
     "source": [
      "Eqn 8.24"
     ]
    },
    {
     "cell_type": "code",
     "collapsed": false,
     "input": [
      "(Ei(x-exp(-exp(x))) - Ei(x)) *exp(-x)*exp(exp(x))*x"
     ],
     "language": "python",
     "metadata": {},
     "outputs": [
      {
       "latex": [
        "$$x \\left(- \\operatorname{Ei}{\\left (x \\right )} + \\operatorname{Ei}{\\left (x - e^{- e^{x}} \\right )}\\right) e^{- x} e^{e^{x}}$$"
       ],
       "output_type": "pyout",
       "png": "[encoded data removed]",
       "prompt_number": 50,
       "text": [
        "  \u239b           \u239b       x\u239e\u239e      \u239b x\u239e\n",
        "  \u239c           \u239c     -\u212f \u239f\u239f  -x  \u239d\u212f \u23a0\n",
        "x\u22c5\u239d-Ei(x) + Ei\u239dx - \u212f   \u23a0\u23a0\u22c5\u212f  \u22c5\u212f    "
       ]
      }
     ],
     "prompt_number": 50
    },
    {
     "cell_type": "code",
     "collapsed": false,
     "input": [
      "limit(_, x, oo)"
     ],
     "language": "python",
     "metadata": {},
     "outputs": [
      {
       "latex": [
        "$$-1$$"
       ],
       "output_type": "pyout",
       "png": "[encoded data removed]",
       "prompt_number": 51,
       "text": [
        "-1"
       ]
      }
     ],
     "prompt_number": 51
    },
    {
     "cell_type": "markdown",
     "metadata": {},
     "source": [
      "Eqn 8.25"
     ]
    },
    {
     "cell_type": "code",
     "collapsed": false,
     "input": [
      "exp((log(2)+1)*x) * (zeta(x+exp(-x)) - zeta(x))"
     ],
     "language": "python",
     "metadata": {},
     "outputs": [
      {
       "latex": [
        "$$\\left(- \\zeta\\left(x\\right) + \\zeta\\left(x + e^{- x}\\right)\\right) e^{x \\left(\\log{\\left (2 \\right )} + 1\\right)}$$"
       ],
       "output_type": "pyout",
       "png": "[encoded data removed]",
       "prompt_number": 52,
       "text": [
        "\u239b         \u239b     -x\u239e\u239e  x\u22c5(log(2) + 1)\n",
        "\u239d-\u03b6(x) + \u03b6\u239dx + \u212f  \u23a0\u23a0\u22c5\u212f              "
       ]
      }
     ],
     "prompt_number": 52
    },
    {
     "cell_type": "code",
     "collapsed": false,
     "input": [
      "#limit(_, x, oo)"
     ],
     "language": "python",
     "metadata": {},
     "outputs": [],
     "prompt_number": 53
    },
    {
     "cell_type": "markdown",
     "metadata": {},
     "source": [
      "Eqn 8.26"
     ]
    },
    {
     "cell_type": "code",
     "collapsed": false,
     "input": [
      "exp(x)*(gamma(x+exp(-x)) - gamma(x))"
     ],
     "language": "python",
     "metadata": {},
     "outputs": [
      {
       "latex": [
        "$$\\left(- \\Gamma\\left(x\\right) + \\Gamma\\left(x + e^{- x}\\right)\\right) e^{x}$$"
       ],
       "output_type": "pyout",
       "png": "[encoded data removed]",
       "prompt_number": 54,
       "text": [
        "\u239b         \u239b     -x\u239e\u239e  x\n",
        "\u239d-\u0393(x) + \u0393\u239dx + \u212f  \u23a0\u23a0\u22c5\u212f "
       ]
      }
     ],
     "prompt_number": 54
    },
    {
     "cell_type": "code",
     "collapsed": false,
     "input": [
      "limit(_, x, oo)"
     ],
     "language": "python",
     "metadata": {},
     "outputs": [
      {
       "latex": [
        "$$\\infty$$"
       ],
       "output_type": "pyout",
       "png": "[encoded data removed]",
       "prompt_number": 55,
       "text": [
        "\u221e"
       ]
      }
     ],
     "prompt_number": 55
    },
    {
     "cell_type": "markdown",
     "metadata": {},
     "source": [
      "Eqn 8.27"
     ]
    },
    {
     "cell_type": "code",
     "collapsed": false,
     "input": [
      "exp(gamma(x-exp(-x))*exp(1/x)) - exp(gamma(x))"
     ],
     "language": "python",
     "metadata": {},
     "outputs": [
      {
       "latex": [
        "$$e^{e^{\\frac{1}{x}} \\Gamma\\left(x - e^{- x}\\right)} - e^{\\Gamma\\left(x\\right)}$$"
       ],
       "output_type": "pyout",
       "png": "[encoded data removed]",
       "prompt_number": 56,
       "text": [
        "  1                   \n",
        "  \u2500                   \n",
        "  x  \u239b     -x\u239e        \n",
        " \u212f \u22c5\u0393\u239dx - \u212f  \u23a0    \u0393(x)\n",
        "\u212f              - \u212f    "
       ]
      }
     ],
     "prompt_number": 56
    },
    {
     "cell_type": "code",
     "collapsed": false,
     "input": [
      "#limit(_, x, oo)"
     ],
     "language": "python",
     "metadata": {},
     "outputs": [],
     "prompt_number": 57
    },
    {
     "cell_type": "markdown",
     "metadata": {},
     "source": [
      "Eqn 8.28"
     ]
    },
    {
     "cell_type": "code",
     "collapsed": false,
     "input": [
      "(gamma(x+1/gamma(x)) - gamma(x)) / log(x)"
     ],
     "language": "python",
     "metadata": {},
     "outputs": [
      {
       "latex": [
        "$$\\frac{- \\Gamma\\left(x\\right) + \\Gamma\\left(x + \\frac{1}{\\Gamma\\left(x\\right)}\\right)}{\\log{\\left (x \\right )}}$$"
       ],
       "output_type": "pyout",
       "png": "[encoded data removed]",
       "prompt_number": 58,
       "text": [
        "         \u239b     1  \u239e\n",
        "-\u0393(x) + \u0393\u239cx + \u2500\u2500\u2500\u2500\u239f\n",
        "         \u239d    \u0393(x)\u23a0\n",
        "\u2500\u2500\u2500\u2500\u2500\u2500\u2500\u2500\u2500\u2500\u2500\u2500\u2500\u2500\u2500\u2500\u2500\u2500\u2500\n",
        "       log(x)      "
       ]
      }
     ],
     "prompt_number": 58
    },
    {
     "cell_type": "code",
     "collapsed": false,
     "input": [
      "limit(_, x, oo)"
     ],
     "language": "python",
     "metadata": {},
     "outputs": [
      {
       "latex": [
        "$$1$$"
       ],
       "output_type": "pyout",
       "png": "[encoded data removed]",
       "prompt_number": 59,
       "text": [
        "1"
       ]
      }
     ],
     "prompt_number": 59
    },
    {
     "cell_type": "markdown",
     "metadata": {},
     "source": [
      "Eqn 8.29"
     ]
    },
    {
     "cell_type": "code",
     "collapsed": false,
     "input": [
      "x * (gamma(x-1/gamma(x)) - gamma(x) + log(x))"
     ],
     "language": "python",
     "metadata": {},
     "outputs": [
      {
       "latex": [
        "$$x \\left(\\log{\\left (x \\right )} - \\Gamma\\left(x\\right) + \\Gamma\\left(x - \\frac{1}{\\Gamma\\left(x\\right)}\\right)\\right)$$"
       ],
       "output_type": "pyout",
       "png": "[encoded data removed]",
       "prompt_number": 60,
       "text": [
        "  \u239b                 \u239b     1  \u239e\u239e\n",
        "x\u22c5\u239clog(x) - \u0393(x) + \u0393\u239cx - \u2500\u2500\u2500\u2500\u239f\u239f\n",
        "  \u239d                 \u239d    \u0393(x)\u23a0\u23a0"
       ]
      }
     ],
     "prompt_number": 60
    },
    {
     "cell_type": "code",
     "collapsed": false,
     "input": [
      "limit(_, x, oo)"
     ],
     "language": "python",
     "metadata": {},
     "outputs": [
      {
       "latex": [
        "$$\\frac{1}{2}$$"
       ],
       "output_type": "pyout",
       "png": "[encoded data removed]",
       "prompt_number": 61,
       "text": [
        "1/2"
       ]
      }
     ],
     "prompt_number": 61
    },
    {
     "cell_type": "markdown",
     "metadata": {},
     "source": [
      "Eqn 8.30"
     ]
    },
    {
     "cell_type": "code",
     "collapsed": false,
     "input": [
      "((gamma(x+1/gamma(x)) - gamma(x))/log(x) - cos(1/x))*x*log(x)"
     ],
     "language": "python",
     "metadata": {},
     "outputs": [
      {
       "latex": [
        "$$x \\left(\\frac{- \\Gamma\\left(x\\right) + \\Gamma\\left(x + \\frac{1}{\\Gamma\\left(x\\right)}\\right)}{\\log{\\left (x \\right )}} - \\cos{\\left (\\frac{1}{x} \\right )}\\right) \\log{\\left (x \\right )}$$"
       ],
       "output_type": "pyout",
       "png": "[encoded data removed]",
       "prompt_number": 62,
       "text": [
        "  \u239b         \u239b     1  \u239e         \u239e       \n",
        "  \u239c-\u0393(x) + \u0393\u239cx + \u2500\u2500\u2500\u2500\u239f         \u239f       \n",
        "  \u239c         \u239d    \u0393(x)\u23a0      \u239b1\u239e\u239f       \n",
        "x\u22c5\u239c\u2500\u2500\u2500\u2500\u2500\u2500\u2500\u2500\u2500\u2500\u2500\u2500\u2500\u2500\u2500\u2500\u2500\u2500\u2500 - cos\u239c\u2500\u239f\u239f\u22c5log(x)\n",
        "  \u239d       log(x)            \u239dx\u23a0\u23a0       "
       ]
      }
     ],
     "prompt_number": 62
    },
    {
     "cell_type": "code",
     "collapsed": false,
     "input": [
      "limit(_, x, oo)"
     ],
     "language": "python",
     "metadata": {},
     "outputs": [
      {
       "latex": [
        "$$- \\frac{1}{2}$$"
       ],
       "output_type": "pyout",
       "png": "[encoded data removed]",
       "prompt_number": 63,
       "text": [
        "-1/2"
       ]
      }
     ],
     "prompt_number": 63
    },
    {
     "cell_type": "markdown",
     "metadata": {},
     "source": [
      "Eqn 8.31"
     ]
    },
    {
     "cell_type": "code",
     "collapsed": false,
     "input": [
      "gamma(x+1)/sqrt(2*pi) - exp(-x)*(x**(x+S(1)/2) + x**(x-S(1)/2)/12)"
     ],
     "language": "python",
     "metadata": {},
     "outputs": [
      {
       "latex": [
        "$$- \\left(\\frac{1}{12} x^{x - \\frac{1}{2}} + x^{x + \\frac{1}{2}}\\right) e^{- x} + \\frac{\\sqrt{2} \\Gamma\\left(x + 1\\right)}{2 \\sqrt{\\pi}}$$"
       ],
       "output_type": "pyout",
       "png": "[encoded data removed]",
       "prompt_number": 64,
       "text": [
        "  \u239b x - 1/2           \u239e         ___         \n",
        "  \u239cx           x + 1/2\u239f  -x   \u2572\u2571 2 \u22c5\u0393(x + 1)\n",
        "- \u239c\u2500\u2500\u2500\u2500\u2500\u2500\u2500\u2500 + x       \u239f\u22c5\u212f   + \u2500\u2500\u2500\u2500\u2500\u2500\u2500\u2500\u2500\u2500\u2500\u2500\u2500\u2500\n",
        "  \u239d   12              \u23a0              ___    \n",
        "                                 2\u22c5\u2572\u2571 \u03c0     "
       ]
      }
     ],
     "prompt_number": 64
    },
    {
     "cell_type": "code",
     "collapsed": false,
     "input": [
      "limit(_, x, oo)"
     ],
     "language": "python",
     "metadata": {},
     "outputs": [
      {
       "latex": [
        "$$-\\infty$$"
       ],
       "output_type": "pyout",
       "png": "[encoded data removed]",
       "prompt_number": 65,
       "text": [
        "-\u221e"
       ]
      }
     ],
     "prompt_number": 65
    },
    {
     "cell_type": "markdown",
     "metadata": {},
     "source": [
      "Eqn 8.32"
     ]
    },
    {
     "cell_type": "code",
     "collapsed": false,
     "input": [
      "log(gamma(gamma(x)))/exp(x)"
     ],
     "language": "python",
     "metadata": {},
     "outputs": [
      {
       "latex": [
        "$$e^{- x} \\log{\\left (\\Gamma\\left(\\Gamma\\left(x\\right)\\right) \\right )}$$"
       ],
       "output_type": "pyout",
       "png": "[encoded data removed]",
       "prompt_number": 66,
       "text": [
        " -x             \n",
        "\u212f  \u22c5log(\u0393(\u0393(x)))"
       ]
      }
     ],
     "prompt_number": 66
    },
    {
     "cell_type": "code",
     "collapsed": false,
     "input": [
      "limit(_, x, oo)"
     ],
     "language": "python",
     "metadata": {},
     "outputs": [
      {
       "latex": [
        "$$\\infty$$"
       ],
       "output_type": "pyout",
       "png": "[encoded data removed]",
       "prompt_number": 67,
       "text": [
        "\u221e"
       ]
      }
     ],
     "prompt_number": 67
    },
    {
     "cell_type": "markdown",
     "metadata": {},
     "source": [
      "Eqn 8.33"
     ]
    },
    {
     "cell_type": "code",
     "collapsed": false,
     "input": [
      "exp(exp(digamma(digamma(x))))/x"
     ],
     "language": "python",
     "metadata": {},
     "outputs": [
      {
       "latex": [
        "$$\\frac{e^{e^{\\operatorname{polygamma}{\\left (0,\\operatorname{polygamma}{\\left (0,x \\right )} \\right )}}}}{x}$$"
       ],
       "output_type": "pyout",
       "png": "[encoded data removed]",
       "prompt_number": 68,
       "text": [
        " \u239b polygamma(0, polygamma(0, x))\u239e\n",
        " \u239d\u212f                             \u23a0\n",
        "\u212f                                \n",
        "\u2500\u2500\u2500\u2500\u2500\u2500\u2500\u2500\u2500\u2500\u2500\u2500\u2500\u2500\u2500\u2500\u2500\u2500\u2500\u2500\u2500\u2500\u2500\u2500\u2500\u2500\u2500\u2500\u2500\u2500\u2500\u2500\u2500\n",
        "                x                "
       ]
      }
     ],
     "prompt_number": 68
    },
    {
     "cell_type": "code",
     "collapsed": false,
     "input": [
      "limit(_, x, oo)"
     ],
     "language": "python",
     "metadata": {},
     "outputs": [
      {
       "latex": [
        "$$e^{- \\frac{1}{2}}$$"
       ],
       "output_type": "pyout",
       "png": "[encoded data removed]",
       "prompt_number": 69,
       "text": [
        " -1/2\n",
        "\u212f    "
       ]
      }
     ],
     "prompt_number": 69
    },
    {
     "cell_type": "markdown",
     "metadata": {},
     "source": [
      "Eqn 8.34"
     ]
    },
    {
     "cell_type": "code",
     "collapsed": false,
     "input": [
      "exp(exp(digamma(log(x))))/x"
     ],
     "language": "python",
     "metadata": {},
     "outputs": [
      {
       "latex": [
        "$$\\frac{e^{e^{\\operatorname{polygamma}{\\left (0,\\log{\\left (x \\right )} \\right )}}}}{x}$$"
       ],
       "output_type": "pyout",
       "png": "[encoded data removed]",
       "prompt_number": 70,
       "text": [
        " \u239b polygamma(0, log(x))\u239e\n",
        " \u239d\u212f                    \u23a0\n",
        "\u212f                       \n",
        "\u2500\u2500\u2500\u2500\u2500\u2500\u2500\u2500\u2500\u2500\u2500\u2500\u2500\u2500\u2500\u2500\u2500\u2500\u2500\u2500\u2500\u2500\u2500\u2500\n",
        "           x            "
       ]
      }
     ],
     "prompt_number": 70
    },
    {
     "cell_type": "code",
     "collapsed": false,
     "input": [
      "limit(_, x, oo)"
     ],
     "language": "python",
     "metadata": {},
     "outputs": [
      {
       "latex": [
        "$$e^{- \\frac{1}{2}}$$"
       ],
       "output_type": "pyout",
       "png": "[encoded data removed]",
       "prompt_number": 71,
       "text": [
        " -1/2\n",
        "\u212f    "
       ]
      }
     ],
     "prompt_number": 71
    },
    {
     "cell_type": "markdown",
     "metadata": {},
     "source": [
      "Eqn 8.35"
     ]
    },
    {
     "cell_type": "code",
     "collapsed": false,
     "input": [
      "exp(exp(exp(digamma(digamma(digamma(x))))))/x"
     ],
     "language": "python",
     "metadata": {},
     "outputs": [
      {
       "latex": [
        "$$\\frac{e^{e^{e^{\\operatorname{polygamma}{\\left (0,\\operatorname{polygamma}{\\left (0,\\operatorname{polygamma}{\\left (0,x \\right )} \\right )} \\right )}}}}}{x}$$"
       ],
       "output_type": "pyout",
       "png": "[encoded data removed]",
       "prompt_number": 72,
       "text": [
        " \u239b \u239b polygamma(0, polygamma(0, polygamma(0, x)))\u239e\u239e\n",
        " \u239c \u239d\u212f                                           \u23a0\u239f\n",
        " \u239d\u212f                                              \u23a0\n",
        "\u212f                                                 \n",
        "\u2500\u2500\u2500\u2500\u2500\u2500\u2500\u2500\u2500\u2500\u2500\u2500\u2500\u2500\u2500\u2500\u2500\u2500\u2500\u2500\u2500\u2500\u2500\u2500\u2500\u2500\u2500\u2500\u2500\u2500\u2500\u2500\u2500\u2500\u2500\u2500\u2500\u2500\u2500\u2500\u2500\u2500\u2500\u2500\u2500\u2500\u2500\u2500\u2500\u2500\n",
        "                        x                         "
       ]
      }
     ],
     "prompt_number": 72
    },
    {
     "cell_type": "code",
     "collapsed": false,
     "input": [
      "limit(_, x, oo)"
     ],
     "language": "python",
     "metadata": {},
     "outputs": [
      {
       "latex": [
        "$$0$$"
       ],
       "output_type": "pyout",
       "png": "[encoded data removed]",
       "prompt_number": 73,
       "text": [
        "0"
       ]
      }
     ],
     "prompt_number": 73
    },
    {
     "cell_type": "markdown",
     "metadata": {},
     "source": [
      "Eqn 8.36"
     ]
    },
    {
     "cell_type": "code",
     "collapsed": false,
     "input": [
      "besselj(2,x)*exp(x*(2*log(2+sqrt(3))-sqrt(3)))*sqrt(x)"
     ],
     "language": "python",
     "metadata": {},
     "outputs": [
      {
       "latex": [
        "$$\\sqrt{x} e^{x \\left(- \\sqrt{3} + 2 \\log{\\left (\\sqrt{3} + 2 \\right )}\\right)} J_{2}\\left(x\\right)$$"
       ],
       "output_type": "pyout",
       "png": "[encoded data removed]",
       "prompt_number": 74,
       "text": [
        "         \u239b    ___        \u239b  ___    \u239e\u239e              \n",
        "  ___  x\u22c5\u239d- \u2572\u2571 3  + 2\u22c5log\u239d\u2572\u2571 3  + 2\u23a0\u23a0              \n",
        "\u2572\u2571 x \u22c5\u212f                              \u22c5besselj(2, x)"
       ]
      }
     ],
     "prompt_number": 74
    },
    {
     "cell_type": "code",
     "collapsed": false,
     "input": [
      "#limit(_, x, oo)"
     ],
     "language": "python",
     "metadata": {},
     "outputs": [],
     "prompt_number": 75
    },
    {
     "cell_type": "markdown",
     "metadata": {},
     "source": [
      "Eqn 8.37"
     ]
    },
    {
     "cell_type": "code",
     "collapsed": false,
     "input": [
      "Max(x, exp(x))/log(Min(exp(-x), exp(-exp(x))))"
     ],
     "language": "python",
     "metadata": {},
     "outputs": [
      {
       "latex": [
        "$$\\frac{\\max\\left(x, e^{x}\\right)}{\\log{\\left (\\min\\left(e^{- x}, e^{- e^{x}}\\right) \\right )}}$$"
       ],
       "output_type": "pyout",
       "png": "[encoded data removed]",
       "prompt_number": 76,
       "text": [
        "         Max(x, exp(x))        \n",
        "\u2500\u2500\u2500\u2500\u2500\u2500\u2500\u2500\u2500\u2500\u2500\u2500\u2500\u2500\u2500\u2500\u2500\u2500\u2500\u2500\u2500\u2500\u2500\u2500\u2500\u2500\u2500\u2500\u2500\u2500\u2500\n",
        "log(Min(exp(-x), exp(-exp(x))))"
       ]
      }
     ],
     "prompt_number": 76
    },
    {
     "cell_type": "code",
     "collapsed": false,
     "input": [
      "#limit(_, x, oo)"
     ],
     "language": "python",
     "metadata": {},
     "outputs": [],
     "prompt_number": 77
    },
    {
     "cell_type": "markdown",
     "metadata": {},
     "source": [
      "Some other examples"
     ]
    },
    {
     "cell_type": "code",
     "collapsed": false,
     "input": [
      "digamma(digamma(digamma(x)))"
     ],
     "language": "python",
     "metadata": {},
     "outputs": [
      {
       "latex": [
        "$$\\operatorname{polygamma}{\\left (0,\\operatorname{polygamma}{\\left (0,\\operatorname{polygamma}{\\left (0,x \\right )} \\right )} \\right )}$$"
       ],
       "output_type": "pyout",
       "png": "[encoded data removed]",
       "prompt_number": 78,
       "text": [
        "polygamma(0, polygamma(0, polygamma(0, x)))"
       ]
      }
     ],
     "prompt_number": 78
    },
    {
     "cell_type": "code",
     "collapsed": false,
     "input": [
      "limit(_, x, oo)"
     ],
     "language": "python",
     "metadata": {},
     "outputs": [
      {
       "latex": [
        "$$\\infty$$"
       ],
       "output_type": "pyout",
       "png": "[encoded data removed]",
       "prompt_number": 79,
       "text": [
        "\u221e"
       ]
      }
     ],
     "prompt_number": 79
    },
    {
     "cell_type": "code",
     "collapsed": false,
     "input": [
      "loggamma(loggamma(x))"
     ],
     "language": "python",
     "metadata": {},
     "outputs": [
      {
       "latex": [
        "$$\\operatorname{loggamma}{\\left (\\operatorname{loggamma}{\\left (x \\right )} \\right )}$$"
       ],
       "output_type": "pyout",
       "png": "[encoded data removed]",
       "prompt_number": 80,
       "text": [
        "loggamma(loggamma(x))"
       ]
      }
     ],
     "prompt_number": 80
    },
    {
     "cell_type": "code",
     "collapsed": false,
     "input": [
      "limit(_, x, oo)"
     ],
     "language": "python",
     "metadata": {},
     "outputs": [
      {
       "latex": [
        "$$\\infty$$"
       ],
       "output_type": "pyout",
       "png": "[encoded data removed]",
       "prompt_number": 81,
       "text": [
        "\u221e"
       ]
      }
     ],
     "prompt_number": 81
    },
    {
     "cell_type": "code",
     "collapsed": false,
     "input": [],
     "language": "python",
     "metadata": {},
     "outputs": [],
     "prompt_number": 81
    }
   ],
   "metadata": {}
  }
 ]
}