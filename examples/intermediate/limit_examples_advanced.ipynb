{
 "cells": [
  {
   "cell_type": "code",
   "execution_count": null,
   "id": "9b7840de",
   "metadata": {},
   "outputs": [],
   "source": [
    "from sympy import *"
   ]
  },
  {
   "cell_type": "code",
   "execution_count": null,
   "id": "14487009",
   "metadata": {},
   "outputs": [],
   "source": [
    "x = Symbol(\"x\")"
   ]
  },
  {
   "cell_type": "code",
   "execution_count": null,
   "id": "940231a1",
   "metadata": {},
   "outputs": [],
   "source": [
    "limit(exp(x)*exp(x**2)*(erf(x+1/exp(x))-erf(x)), x, oo)"
   ]
  },
  {
   "cell_type": "markdown",
   "id": "79c22db4",
   "metadata": {},
   "source": [
    "The examples here show the limit computation on exp-log expressions (from Gruntz' thesis pp. 122 to 123)"
   ]
  },
  {
   "cell_type": "markdown",
   "id": "03fc1d18",
   "metadata": {},
   "source": [
    "Eqn 8.1"
   ]
  },
  {
   "cell_type": "code",
   "execution_count": null,
   "id": "ddcd419f",
   "metadata": {},
   "outputs": [],
   "source": [
    "exp(x)*(exp(1/x-exp(-x))-exp(1/x))"
   ]
  },
  {
   "cell_type": "code",
   "execution_count": null,
   "id": "f7823e88",
   "metadata": {},
   "outputs": [],
   "source": [
    "limit(_, x, oo)"
   ]
  },
  {
   "cell_type": "markdown",
   "id": "cee91f5c",
   "metadata": {},
   "source": [
    "Eqn 8.2"
   ]
  },
  {
   "cell_type": "code",
   "execution_count": null,
   "id": "be7de6b2",
   "metadata": {},
   "outputs": [],
   "source": [
    "exp(x)*(exp(1/x+exp(-x)+exp(-x**2)) - exp(1/x-exp(-exp(x))))"
   ]
  },
  {
   "cell_type": "code",
   "execution_count": null,
   "id": "905798f0",
   "metadata": {},
   "outputs": [],
   "source": [
    "limit(_, x, oo)"
   ]
  },
  {
   "cell_type": "markdown",
   "id": "57bae319",
   "metadata": {},
   "source": [
    "Eqn 8.3"
   ]
  },
  {
   "cell_type": "code",
   "execution_count": null,
   "id": "90d809de",
   "metadata": {},
   "outputs": [],
   "source": [
    "exp(exp(x-exp(-x))/(1-1/x)) - exp(exp(x))"
   ]
  },
  {
   "cell_type": "code",
   "execution_count": null,
   "id": "1c88db9f",
   "metadata": {},
   "outputs": [],
   "source": [
    "limit(_, x, oo)"
   ]
  },
  {
   "cell_type": "markdown",
   "id": "3c6db139",
   "metadata": {},
   "source": [
    "Eqn 8.4"
   ]
  },
  {
   "cell_type": "code",
   "execution_count": null,
   "id": "b78d9529",
   "metadata": {},
   "outputs": [],
   "source": [
    "exp(exp(exp(x)/(1-1/x))) - exp(exp(exp(x)/(1-1/x-log(x)**(-log(x)))))"
   ]
  },
  {
   "cell_type": "code",
   "execution_count": null,
   "id": "f6034ab3",
   "metadata": {},
   "outputs": [],
   "source": [
    "limit(_, x, oo)"
   ]
  },
  {
   "cell_type": "markdown",
   "id": "82e10f6f",
   "metadata": {},
   "source": [
    "Eqn 8.5"
   ]
  },
  {
   "cell_type": "code",
   "execution_count": null,
   "id": "4edf6d2e",
   "metadata": {},
   "outputs": [],
   "source": [
    "exp(exp(exp(x+exp(-x)))) / exp(exp(exp(x)))"
   ]
  },
  {
   "cell_type": "code",
   "execution_count": null,
   "id": "7123b431",
   "metadata": {},
   "outputs": [],
   "source": [
    "limit(_, x, oo)"
   ]
  },
  {
   "cell_type": "markdown",
   "id": "0c674622",
   "metadata": {},
   "source": [
    "Eqn 8.6"
   ]
  },
  {
   "cell_type": "code",
   "execution_count": null,
   "id": "1b32edad",
   "metadata": {},
   "outputs": [],
   "source": [
    "exp(exp(exp(x))) / exp(exp(exp(x-exp(-exp(x)))))"
   ]
  },
  {
   "cell_type": "code",
   "execution_count": null,
   "id": "bf23a511",
   "metadata": {},
   "outputs": [],
   "source": [
    "limit(_, x, oo)"
   ]
  },
  {
   "cell_type": "markdown",
   "id": "9bee6b81",
   "metadata": {},
   "source": [
    "Eqn 8.7"
   ]
  },
  {
   "cell_type": "code",
   "execution_count": null,
   "id": "b5590318",
   "metadata": {},
   "outputs": [],
   "source": [
    "exp(exp(exp(x))) / exp(exp(exp(x-exp(-exp(exp(x))))))"
   ]
  },
  {
   "cell_type": "code",
   "execution_count": null,
   "id": "632ba9a5",
   "metadata": {},
   "outputs": [],
   "source": [
    "limit(_, x, oo)"
   ]
  },
  {
   "cell_type": "markdown",
   "id": "2a3dbe49",
   "metadata": {},
   "source": [
    "Eqn 8.8"
   ]
  },
  {
   "cell_type": "code",
   "execution_count": null,
   "id": "0fd92b3e",
   "metadata": {},
   "outputs": [],
   "source": [
    "exp(exp(x)) / exp(exp(x-exp(-exp(exp(x)))))"
   ]
  },
  {
   "cell_type": "code",
   "execution_count": null,
   "id": "f33cad08",
   "metadata": {},
   "outputs": [],
   "source": [
    "limit(_, x, oo)"
   ]
  },
  {
   "cell_type": "markdown",
   "id": "140a734b",
   "metadata": {},
   "source": [
    "Eqn 8.9"
   ]
  },
  {
   "cell_type": "code",
   "execution_count": null,
   "id": "f881a3bb",
   "metadata": {},
   "outputs": [],
   "source": [
    "log(x)**2 * exp(sqrt(log(x))*(log(log(x)))**2 * exp(sqrt(log(log(x))) * (log(log(log(x))))**3)) / sqrt(x)"
   ]
  },
  {
   "cell_type": "code",
   "execution_count": null,
   "id": "946e37c6",
   "metadata": {},
   "outputs": [],
   "source": [
    "limit(_, x, oo)"
   ]
  },
  {
   "cell_type": "markdown",
   "id": "993ad50d",
   "metadata": {},
   "source": [
    "Eqn 8.10"
   ]
  },
  {
   "cell_type": "code",
   "execution_count": null,
   "id": "ed121581",
   "metadata": {},
   "outputs": [],
   "source": [
    "(x*log(x)*(log(x*exp(x)-x**2))**2) / (log(log(x**2+2*exp(exp(3*x**3*log(x))))))"
   ]
  },
  {
   "cell_type": "code",
   "execution_count": null,
   "id": "b991e0df",
   "metadata": {},
   "outputs": [],
   "source": [
    "limit(_, x, oo)"
   ]
  },
  {
   "cell_type": "markdown",
   "id": "df910e63",
   "metadata": {},
   "source": [
    "Eqn 8.11"
   ]
  },
  {
   "cell_type": "code",
   "execution_count": null,
   "id": "b50c9d49",
   "metadata": {},
   "outputs": [],
   "source": [
    "(exp(x*exp(-x)/(exp(-x)+exp(-2*x**2/(x+1)))) - exp(x))/x"
   ]
  },
  {
   "cell_type": "code",
   "execution_count": null,
   "id": "1a17e63c",
   "metadata": {},
   "outputs": [],
   "source": [
    "limit(_, x, oo)"
   ]
  },
  {
   "cell_type": "markdown",
   "id": "0cabf06a",
   "metadata": {},
   "source": [
    "Eqn 8.12"
   ]
  },
  {
   "cell_type": "code",
   "execution_count": null,
   "id": "0208c1f6",
   "metadata": {},
   "outputs": [],
   "source": [
    "(3**x + 5**x)**(1/x)"
   ]
  },
  {
   "cell_type": "code",
   "execution_count": null,
   "id": "7a983788",
   "metadata": {},
   "outputs": [],
   "source": [
    "limit(_, x, oo)"
   ]
  },
  {
   "cell_type": "markdown",
   "id": "b9382e3f",
   "metadata": {},
   "source": [
    "Eqn 8.13"
   ]
  },
  {
   "cell_type": "code",
   "execution_count": null,
   "id": "e54eb782",
   "metadata": {},
   "outputs": [],
   "source": [
    "x/log(x**(log(x**(log(2)/log(x)))))"
   ]
  },
  {
   "cell_type": "code",
   "execution_count": null,
   "id": "573b5e9e",
   "metadata": {},
   "outputs": [],
   "source": [
    "limit(_, x, oo)"
   ]
  },
  {
   "cell_type": "markdown",
   "id": "ab5b81e9",
   "metadata": {},
   "source": [
    "Eqn 8.14"
   ]
  },
  {
   "cell_type": "code",
   "execution_count": null,
   "id": "b7a0763b",
   "metadata": {},
   "outputs": [],
   "source": [
    "exp(exp(2*log(x**5+x)*log(log(x)))) / exp(exp(10*log(x)*log(log(x))))"
   ]
  },
  {
   "cell_type": "code",
   "execution_count": null,
   "id": "88671624",
   "metadata": {},
   "outputs": [],
   "source": [
    "limit(_, x, oo)"
   ]
  },
  {
   "cell_type": "markdown",
   "id": "0a6ad511",
   "metadata": {},
   "source": [
    "Eqn 8.15"
   ]
  },
  {
   "cell_type": "code",
   "execution_count": null,
   "id": "cd4d9c71",
   "metadata": {},
   "outputs": [],
   "source": [
    "4*exp(exp(S(5)/2*x**(-S(5)/7)+ S(21)/8*x**(S(6)/11)+2*x**(-8)+S(54)/17*x**(S(49)/45) ))**8 / (9*log(log(-log(S(4)/3*x**(-S(5)/14))))**(S(7)/6))"
   ]
  },
  {
   "cell_type": "code",
   "execution_count": null,
   "id": "ca0623bc",
   "metadata": {},
   "outputs": [],
   "source": [
    "limit(_, x, oo)"
   ]
  },
  {
   "cell_type": "markdown",
   "id": "974c190f",
   "metadata": {},
   "source": [
    "Eqn 8.16"
   ]
  },
  {
   "cell_type": "code",
   "execution_count": null,
   "id": "79dcf616",
   "metadata": {},
   "outputs": [],
   "source": [
    "(exp(4*x*exp(-x)/(1/exp(x)+1/exp(2*x**2/(x+1)))) - exp(x)) / exp(x)**4"
   ]
  },
  {
   "cell_type": "code",
   "execution_count": null,
   "id": "5d19df09",
   "metadata": {},
   "outputs": [],
   "source": [
    "limit(_, x, oo)"
   ]
  },
  {
   "cell_type": "markdown",
   "id": "7197bc9d",
   "metadata": {},
   "source": [
    "Eqn 8.17"
   ]
  },
  {
   "cell_type": "code",
   "execution_count": null,
   "id": "4f89a123",
   "metadata": {},
   "outputs": [],
   "source": [
    "exp(x*exp(-x)/(exp(-x)+exp(-2*x**2/(x+1))))/exp(x)"
   ]
  },
  {
   "cell_type": "code",
   "execution_count": null,
   "id": "08012508",
   "metadata": {},
   "outputs": [],
   "source": [
    "limit(_, x, oo)"
   ]
  },
  {
   "cell_type": "markdown",
   "id": "2b7df6b4",
   "metadata": {},
   "source": [
    "Eqn 8.18"
   ]
  },
  {
   "cell_type": "code",
   "execution_count": null,
   "id": "6247e6b2",
   "metadata": {},
   "outputs": [],
   "source": [
    "(exp(exp(-x/(1+exp(-x))))*exp(-x/(1+exp(-x/(1+exp(-x)))))*exp(exp(-x+exp(-x/(1+exp(-x)))))) / (exp(-x/(1+exp(-x))))**2 - exp(x) + x"
   ]
  },
  {
   "cell_type": "code",
   "execution_count": null,
   "id": "566988e9",
   "metadata": {},
   "outputs": [],
   "source": [
    "limit(_, x, oo)"
   ]
  },
  {
   "cell_type": "markdown",
   "id": "a4129b0c",
   "metadata": {},
   "source": [
    "Eqn 8.19"
   ]
  },
  {
   "cell_type": "code",
   "execution_count": null,
   "id": "e7d04206",
   "metadata": {},
   "outputs": [],
   "source": [
    "log(x)*(log(log(x)+log(log(x))) - log(log(x))) / (log(log(x)+log(log(log(x)))))"
   ]
  },
  {
   "cell_type": "code",
   "execution_count": null,
   "id": "9e9eb461",
   "metadata": {},
   "outputs": [],
   "source": [
    "limit(_, x, oo)"
   ]
  },
  {
   "cell_type": "markdown",
   "id": "53d2ca29",
   "metadata": {},
   "source": [
    "Eqn 8.20"
   ]
  },
  {
   "cell_type": "code",
   "execution_count": null,
   "id": "1c382378",
   "metadata": {},
   "outputs": [],
   "source": [
    "exp((log(log(x+exp(log(x)*log(log(x)))))) / (log(log(log(exp(x)+x+log(x))))))"
   ]
  },
  {
   "cell_type": "code",
   "execution_count": null,
   "id": "0b355086",
   "metadata": {},
   "outputs": [],
   "source": [
    "limit(_, x, oo)"
   ]
  },
  {
   "cell_type": "markdown",
   "id": "3d77bd1f",
   "metadata": {},
   "source": [
    "The following examples show limit computation on special functions (from Gruntz' thesis p. 126)"
   ]
  },
  {
   "cell_type": "markdown",
   "id": "f5f41b5c",
   "metadata": {},
   "source": [
    "Eqn 8.21"
   ]
  },
  {
   "cell_type": "code",
   "execution_count": null,
   "id": "2c0c4c63",
   "metadata": {},
   "outputs": [],
   "source": [
    "exp(x)*(sin(1/x+exp(-x))-sin(1/x+exp(-x**2)))"
   ]
  },
  {
   "cell_type": "code",
   "execution_count": null,
   "id": "0e2722e4",
   "metadata": {},
   "outputs": [],
   "source": [
    "limit(_, x, oo)"
   ]
  },
  {
   "cell_type": "markdown",
   "id": "9ab2254a",
   "metadata": {},
   "source": [
    "Eqn 8.22"
   ]
  },
  {
   "cell_type": "code",
   "execution_count": null,
   "id": "9bf6bd10",
   "metadata": {},
   "outputs": [],
   "source": [
    "exp(exp(x)) * (exp(sin(1/x+exp(-exp(x)))) - exp(sin(1/x)))"
   ]
  },
  {
   "cell_type": "code",
   "execution_count": null,
   "id": "daca9c1c",
   "metadata": {},
   "outputs": [],
   "source": [
    "limit(_, x, oo)"
   ]
  },
  {
   "cell_type": "markdown",
   "id": "28cc32a0",
   "metadata": {},
   "source": [
    "Eqn 8.23"
   ]
  },
  {
   "cell_type": "code",
   "execution_count": null,
   "id": "ae9d6b7c",
   "metadata": {},
   "outputs": [],
   "source": [
    "(erf(x-exp(-exp(x))) - erf(x)) * exp(exp(x)) * exp(x**2)"
   ]
  },
  {
   "cell_type": "code",
   "execution_count": null,
   "id": "83b45651",
   "metadata": {},
   "outputs": [],
   "source": [
    "limit(_, x, oo)"
   ]
  },
  {
   "cell_type": "markdown",
   "id": "f439e545",
   "metadata": {},
   "source": [
    "Eqn 8.24"
   ]
  },
  {
   "cell_type": "code",
   "execution_count": null,
   "id": "2f88a64d",
   "metadata": {},
   "outputs": [],
   "source": [
    "(Ei(x-exp(-exp(x))) - Ei(x)) *exp(-x)*exp(exp(x))*x"
   ]
  },
  {
   "cell_type": "code",
   "execution_count": null,
   "id": "24176adc",
   "metadata": {},
   "outputs": [],
   "source": [
    "limit(_, x, oo)"
   ]
  },
  {
   "cell_type": "markdown",
   "id": "5fbb318d",
   "metadata": {},
   "source": [
    "Eqn 8.25"
   ]
  },
  {
   "cell_type": "code",
   "execution_count": null,
   "id": "aed48898",
   "metadata": {},
   "outputs": [],
   "source": [
    "exp((log(2)+1)*x) * (zeta(x+exp(-x)) - zeta(x))"
   ]
  },
  {
   "cell_type": "code",
   "execution_count": null,
   "id": "d4895fd6",
   "metadata": {},
   "outputs": [],
   "source": [
    "#limit(_, x, oo)"
   ]
  },
  {
   "cell_type": "markdown",
   "id": "e8ca3914",
   "metadata": {},
   "source": [
    "Eqn 8.26"
   ]
  },
  {
   "cell_type": "code",
   "execution_count": null,
   "id": "7aacbbb3",
   "metadata": {},
   "outputs": [],
   "source": [
    "exp(x)*(gamma(x+exp(-x)) - gamma(x))"
   ]
  },
  {
   "cell_type": "code",
   "execution_count": null,
   "id": "1ea7f94c",
   "metadata": {},
   "outputs": [],
   "source": [
    "limit(_, x, oo)"
   ]
  },
  {
   "cell_type": "markdown",
   "id": "72b82de1",
   "metadata": {},
   "source": [
    "Eqn 8.27"
   ]
  },
  {
   "cell_type": "code",
   "execution_count": null,
   "id": "3c18316a",
   "metadata": {},
   "outputs": [],
   "source": [
    "exp(gamma(x-exp(-x))*exp(1/x)) - exp(gamma(x))"
   ]
  },
  {
   "cell_type": "code",
   "execution_count": null,
   "id": "0d6af18b",
   "metadata": {},
   "outputs": [],
   "source": [
    "#limit(_, x, oo)"
   ]
  },
  {
   "cell_type": "markdown",
   "id": "8dd549e8",
   "metadata": {},
   "source": [
    "Eqn 8.28"
   ]
  },
  {
   "cell_type": "code",
   "execution_count": null,
   "id": "276c9586",
   "metadata": {},
   "outputs": [],
   "source": [
    "(gamma(x+1/gamma(x)) - gamma(x)) / log(x)"
   ]
  },
  {
   "cell_type": "code",
   "execution_count": null,
   "id": "60b80ce8",
   "metadata": {},
   "outputs": [],
   "source": [
    "limit(_, x, oo)"
   ]
  },
  {
   "cell_type": "markdown",
   "id": "852e39ae",
   "metadata": {},
   "source": [
    "Eqn 8.29"
   ]
  },
  {
   "cell_type": "code",
   "execution_count": null,
   "id": "063a63ad",
   "metadata": {},
   "outputs": [],
   "source": [
    "x * (gamma(x-1/gamma(x)) - gamma(x) + log(x))"
   ]
  },
  {
   "cell_type": "code",
   "execution_count": null,
   "id": "2c9f2bef",
   "metadata": {},
   "outputs": [],
   "source": [
    "limit(_, x, oo)"
   ]
  },
  {
   "cell_type": "markdown",
   "id": "1583808d",
   "metadata": {},
   "source": [
    "Eqn 8.30"
   ]
  },
  {
   "cell_type": "code",
   "execution_count": null,
   "id": "036fe32e",
   "metadata": {},
   "outputs": [],
   "source": [
    "((gamma(x+1/gamma(x)) - gamma(x))/log(x) - cos(1/x))*x*log(x)"
   ]
  },
  {
   "cell_type": "code",
   "execution_count": null,
   "id": "50e22b21",
   "metadata": {},
   "outputs": [],
   "source": [
    "limit(_, x, oo)"
   ]
  },
  {
   "cell_type": "markdown",
   "id": "99b0ad98",
   "metadata": {},
   "source": [
    "Eqn 8.31"
   ]
  },
  {
   "cell_type": "code",
   "execution_count": null,
   "id": "8e3d3c9b",
   "metadata": {},
   "outputs": [],
   "source": [
    "gamma(x+1)/sqrt(2*pi) - exp(-x)*(x**(x+S(1)/2) + x**(x-S(1)/2)/12)"
   ]
  },
  {
   "cell_type": "code",
   "execution_count": null,
   "id": "6db15be8",
   "metadata": {},
   "outputs": [],
   "source": [
    "limit(_, x, oo)"
   ]
  },
  {
   "cell_type": "markdown",
   "id": "12280402",
   "metadata": {},
   "source": [
    "Eqn 8.32"
   ]
  },
  {
   "cell_type": "code",
   "execution_count": null,
   "id": "f1961193",
   "metadata": {},
   "outputs": [],
   "source": [
    "log(gamma(gamma(x)))/exp(x)"
   ]
  },
  {
   "cell_type": "code",
   "execution_count": null,
   "id": "f7b32dd8",
   "metadata": {},
   "outputs": [],
   "source": [
    "limit(_, x, oo)"
   ]
  },
  {
   "cell_type": "markdown",
   "id": "9df559a3",
   "metadata": {},
   "source": [
    "Eqn 8.33"
   ]
  },
  {
   "cell_type": "code",
   "execution_count": null,
   "id": "9fe4b1d8",
   "metadata": {},
   "outputs": [],
   "source": [
    "exp(exp(digamma(digamma(x))))/x"
   ]
  },
  {
   "cell_type": "code",
   "execution_count": null,
   "id": "c0c492e1",
   "metadata": {},
   "outputs": [],
   "source": [
    "limit(_, x, oo)"
   ]
  },
  {
   "cell_type": "markdown",
   "id": "265f7f8a",
   "metadata": {},
   "source": [
    "Eqn 8.34"
   ]
  },
  {
   "cell_type": "code",
   "execution_count": null,
   "id": "f1f0b3ec",
   "metadata": {},
   "outputs": [],
   "source": [
    "exp(exp(digamma(log(x))))/x"
   ]
  },
  {
   "cell_type": "code",
   "execution_count": null,
   "id": "b9d180d8",
   "metadata": {},
   "outputs": [],
   "source": [
    "limit(_, x, oo)"
   ]
  },
  {
   "cell_type": "markdown",
   "id": "a2a52c22",
   "metadata": {},
   "source": [
    "Eqn 8.35"
   ]
  },
  {
   "cell_type": "code",
   "execution_count": null,
   "id": "e5882a2f",
   "metadata": {},
   "outputs": [],
   "source": [
    "exp(exp(exp(digamma(digamma(digamma(x))))))/x"
   ]
  },
  {
   "cell_type": "code",
   "execution_count": null,
   "id": "a01a3a22",
   "metadata": {},
   "outputs": [],
   "source": [
    "limit(_, x, oo)"
   ]
  },
  {
   "cell_type": "markdown",
   "id": "d8ae9d39",
   "metadata": {},
   "source": [
    "Eqn 8.36"
   ]
  },
  {
   "cell_type": "code",
   "execution_count": null,
   "id": "6293a2c6",
   "metadata": {},
   "outputs": [],
   "source": [
    "besselj(2,x)*exp(x*(2*log(2+sqrt(3))-sqrt(3)))*sqrt(x)"
   ]
  },
  {
   "cell_type": "code",
   "execution_count": null,
   "id": "5b16d3f4",
   "metadata": {},
   "outputs": [],
   "source": [
    "#limit(_, x, oo)"
   ]
  },
  {
   "cell_type": "code",
   "execution_count": null,
   "id": "c78eeb8e",
   "metadata": {},
   "outputs": [],
   "source": [
    "Max(x, exp(x))/log(Min(exp(-x), exp(-exp(x))))"
   ]
  },
  {
   "cell_type": "code",
   "execution_count": null,
   "id": "5dd690dc",
   "metadata": {},
   "outputs": [],
   "source": [
    "#limit(_, x, oo)"
   ]
  },
  {
   "cell_type": "markdown",
   "id": "bb1fd5b2",
   "metadata": {},
   "source": [
    "Some other examples"
   ]
  },
  {
   "cell_type": "code",
   "execution_count": null,
   "id": "385f027f",
   "metadata": {},
   "outputs": [],
   "source": [
    "digamma(digamma(digamma(x)))"
   ]
  },
  {
   "cell_type": "code",
   "execution_count": null,
   "id": "7d5b7850",
   "metadata": {},
   "outputs": [],
   "source": [
    "limit(_, x, oo)"
   ]
  },
  {
   "cell_type": "code",
   "execution_count": null,
   "id": "4ac57c84",
   "metadata": {},
   "outputs": [],
   "source": [
    "loggamma(loggamma(x))"
   ]
  },
  {
   "cell_type": "code",
   "execution_count": null,
   "id": "6596468b",
   "metadata": {},
   "outputs": [],
   "source": [
    "limit(_, x, oo)"
   ]
  },
  {
   "cell_type": "code",
   "execution_count": null,
   "id": "df160750",
   "metadata": {},
   "outputs": [],
   "source": []
  }
 ],
 "metadata": {
  "kernelspec": {
   "display_name": "Python 3 (ipykernel)",
   "language": "python",
   "name": "python3"
  },
  "language_info": {
   "codemirror_mode": {
    "name": "ipython",
    "version": 3
   },
   "file_extension": ".py",
   "mimetype": "text/x-python",
   "name": "python",
   "nbconvert_exporter": "python",
   "pygments_lexer": "ipython3",
   "version": "3.8.10"
  }
 },
 "nbformat": 4,
 "nbformat_minor": 5
}
