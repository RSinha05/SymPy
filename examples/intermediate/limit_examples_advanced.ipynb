{
 "cells": [
  {
   "cell_type": "code",
   "execution_count": 1,
   "id": "c5bf4464",
   "metadata": {},
   "outputs": [],
   "source": [
    "from sympy import *"
   ]
  },
  {
   "cell_type": "code",
   "execution_count": 2,
   "id": "4aed9122",
   "metadata": {},
   "outputs": [],
   "source": [
    "x = Symbol(\"x\")"
   ]
  },
  {
   "cell_type": "code",
   "execution_count": 3,
   "id": "1e6521ab",
   "metadata": {
    "collapsed": false,
    "jupyter": {
     "outputs_hidden": false
    }
   },
   "outputs": [
    {
     "data": {
      "text/latex": [
       "$\\displaystyle \\frac{2}{\\sqrt{\\pi}}$"
      ],
      "text/plain": [
       "2/sqrt(pi)"
      ]
     },
     "execution_count": 3,
     "metadata": {},
     "output_type": "execute_result"
    }
   ],
   "source": [
    "limit(exp(x)*exp(x**2)*(erf(x+1/exp(x))-erf(x)), x, oo)"
   ]
  },
  {
   "cell_type": "markdown",
   "id": "508035c3",
   "metadata": {},
   "source": [
    "The examples here show the limit computation on exp-log expressions (from Gruntz' thesis pp. 122 to 123)"
   ]
  },
  {
   "cell_type": "markdown",
   "id": "c40c133e",
   "metadata": {},
   "source": [
    "Eqn 8.1"
   ]
  },
  {
   "cell_type": "code",
   "execution_count": 4,
   "id": "39ab0d1f",
   "metadata": {
    "collapsed": false,
    "jupyter": {
     "outputs_hidden": false
    }
   },
   "outputs": [
    {
     "data": {
      "text/latex": [
       "$\\displaystyle \\left(- e^{\\frac{1}{x}} + e^{- e^{- x} + \\frac{1}{x}}\\right) e^{x}$"
      ],
      "text/plain": [
       "(-exp(1/x) + exp(-exp(-x) + 1/x))*exp(x)"
      ]
     },
     "execution_count": 4,
     "metadata": {},
     "output_type": "execute_result"
    }
   ],
   "source": [
    "exp(x)*(exp(1/x-exp(-x))-exp(1/x))"
   ]
  },
  {
   "cell_type": "code",
   "execution_count": 5,
   "id": "ef5f37d3",
   "metadata": {
    "collapsed": false,
    "jupyter": {
     "outputs_hidden": false
    }
   },
   "outputs": [
    {
     "data": {
      "text/latex": [
       "$\\displaystyle -1$"
      ],
      "text/plain": [
       "-1"
      ]
     },
     "execution_count": 5,
     "metadata": {},
     "output_type": "execute_result"
    }
   ],
   "source": [
    "limit(_, x, oo)"
   ]
  },
  {
   "cell_type": "markdown",
   "id": "472e546a",
   "metadata": {},
   "source": [
    "Eqn 8.2"
   ]
  },
  {
   "cell_type": "code",
   "execution_count": 6,
   "id": "d1599437",
   "metadata": {
    "collapsed": false,
    "jupyter": {
     "outputs_hidden": false
    }
   },
   "outputs": [
    {
     "data": {
      "text/latex": [
       "$\\displaystyle \\left(- e^{- e^{- e^{x}} + \\frac{1}{x}} + e^{e^{- x^{2}} + e^{- x} + \\frac{1}{x}}\\right) e^{x}$"
      ],
      "text/plain": [
       "(-exp(-exp(-exp(x)) + 1/x) + exp(exp(-x**2) + exp(-x) + 1/x))*exp(x)"
      ]
     },
     "execution_count": 6,
     "metadata": {},
     "output_type": "execute_result"
    }
   ],
   "source": [
    "exp(x)*(exp(1/x+exp(-x)+exp(-x**2)) - exp(1/x-exp(-exp(x))))"
   ]
  },
  {
   "cell_type": "code",
   "execution_count": 7,
   "id": "3bbf57e1",
   "metadata": {
    "collapsed": false,
    "jupyter": {
     "outputs_hidden": false
    }
   },
   "outputs": [
    {
     "data": {
      "text/latex": [
       "$\\displaystyle 1$"
      ],
      "text/plain": [
       "1"
      ]
     },
     "execution_count": 7,
     "metadata": {},
     "output_type": "execute_result"
    }
   ],
   "source": [
    "limit(_, x, oo)"
   ]
  },
  {
   "cell_type": "markdown",
   "id": "e4952979",
   "metadata": {},
   "source": [
    "Eqn 8.3"
   ]
  },
  {
   "cell_type": "code",
   "execution_count": 8,
   "id": "a9a778df",
   "metadata": {
    "collapsed": false,
    "jupyter": {
     "outputs_hidden": false
    }
   },
   "outputs": [
    {
     "data": {
      "text/latex": [
       "$\\displaystyle e^{\\frac{e^{x - e^{- x}}}{1 - \\frac{1}{x}}} - e^{e^{x}}$"
      ],
      "text/plain": [
       "exp(exp(x - exp(-x))/(1 - 1/x)) - exp(exp(x))"
      ]
     },
     "execution_count": 8,
     "metadata": {},
     "output_type": "execute_result"
    }
   ],
   "source": [
    "exp(exp(x-exp(-x))/(1-1/x)) - exp(exp(x))"
   ]
  },
  {
   "cell_type": "code",
   "execution_count": 9,
   "id": "cda0ac1f",
   "metadata": {
    "collapsed": false,
    "jupyter": {
     "outputs_hidden": false
    }
   },
   "outputs": [
    {
     "data": {
      "text/latex": [
       "$\\displaystyle \\infty$"
      ],
      "text/plain": [
       "oo"
      ]
     },
     "execution_count": 9,
     "metadata": {},
     "output_type": "execute_result"
    }
   ],
   "source": [
    "limit(_, x, oo)"
   ]
  },
  {
   "cell_type": "markdown",
   "id": "a9990bcd",
   "metadata": {},
   "source": [
    "Eqn 8.4"
   ]
  },
  {
   "cell_type": "code",
   "execution_count": 10,
   "id": "5320fdb0",
   "metadata": {
    "collapsed": false,
    "jupyter": {
     "outputs_hidden": false
    }
   },
   "outputs": [
    {
     "data": {
      "text/latex": [
       "$\\displaystyle e^{e^{\\frac{e^{x}}{1 - \\frac{1}{x}}}} - e^{e^{\\frac{e^{x}}{1 - \\log{\\left(x \\right)}^{- \\log{\\left(x \\right)}} - \\frac{1}{x}}}}$"
      ],
      "text/plain": [
       "exp(exp(exp(x)/(1 - 1/x))) - exp(exp(exp(x)/(1 - 1/log(x)**log(x) - 1/x)))"
      ]
     },
     "execution_count": 10,
     "metadata": {},
     "output_type": "execute_result"
    }
   ],
   "source": [
    "exp(exp(exp(x)/(1-1/x))) - exp(exp(exp(x)/(1-1/x-log(x)**(-log(x)))))"
   ]
  },
  {
   "cell_type": "code",
   "execution_count": 11,
   "id": "cfd68910",
   "metadata": {
    "collapsed": false,
    "jupyter": {
     "outputs_hidden": false
    }
   },
   "outputs": [
    {
     "data": {
      "text/latex": [
       "$\\displaystyle -\\infty$"
      ],
      "text/plain": [
       "-oo"
      ]
     },
     "execution_count": 11,
     "metadata": {},
     "output_type": "execute_result"
    }
   ],
   "source": [
    "limit(_, x, oo)"
   ]
  },
  {
   "cell_type": "markdown",
   "id": "6e41cfed",
   "metadata": {},
   "source": [
    "Eqn 8.5"
   ]
  },
  {
   "cell_type": "code",
   "execution_count": 12,
   "id": "76ca047b",
   "metadata": {
    "collapsed": false,
    "jupyter": {
     "outputs_hidden": false
    }
   },
   "outputs": [
    {
     "data": {
      "text/latex": [
       "$\\displaystyle e^{- e^{e^{x}}} e^{e^{e^{x + e^{- x}}}}$"
      ],
      "text/plain": [
       "exp(-exp(exp(x)))*exp(exp(exp(x + exp(-x))))"
      ]
     },
     "execution_count": 12,
     "metadata": {},
     "output_type": "execute_result"
    }
   ],
   "source": [
    "exp(exp(exp(x+exp(-x)))) / exp(exp(exp(x)))"
   ]
  },
  {
   "cell_type": "code",
   "execution_count": 13,
   "id": "f0ddfb43",
   "metadata": {
    "collapsed": false,
    "jupyter": {
     "outputs_hidden": false
    }
   },
   "outputs": [
    {
     "data": {
      "text/latex": [
       "$\\displaystyle \\infty$"
      ],
      "text/plain": [
       "oo"
      ]
     },
     "execution_count": 13,
     "metadata": {},
     "output_type": "execute_result"
    }
   ],
   "source": [
    "limit(_, x, oo)"
   ]
  },
  {
   "cell_type": "markdown",
   "id": "83cd01e6",
   "metadata": {},
   "source": [
    "Eqn 8.6"
   ]
  },
  {
   "cell_type": "code",
   "execution_count": 14,
   "id": "887a3d4d",
   "metadata": {
    "collapsed": false,
    "jupyter": {
     "outputs_hidden": false
    }
   },
   "outputs": [
    {
     "data": {
      "text/latex": [
       "$\\displaystyle e^{e^{e^{x}}} e^{- e^{e^{x - e^{- e^{x}}}}}$"
      ],
      "text/plain": [
       "exp(exp(exp(x)))*exp(-exp(exp(x - exp(-exp(x)))))"
      ]
     },
     "execution_count": 14,
     "metadata": {},
     "output_type": "execute_result"
    }
   ],
   "source": [
    "exp(exp(exp(x))) / exp(exp(exp(x-exp(-exp(x)))))"
   ]
  },
  {
   "cell_type": "code",
   "execution_count": 15,
   "id": "8e4d10cb",
   "metadata": {
    "collapsed": false,
    "jupyter": {
     "outputs_hidden": false
    }
   },
   "outputs": [
    {
     "data": {
      "text/latex": [
       "$\\displaystyle \\infty$"
      ],
      "text/plain": [
       "oo"
      ]
     },
     "execution_count": 15,
     "metadata": {},
     "output_type": "execute_result"
    }
   ],
   "source": [
    "limit(_, x, oo)"
   ]
  },
  {
   "cell_type": "markdown",
   "id": "0664782e",
   "metadata": {},
   "source": [
    "Eqn 8.7"
   ]
  },
  {
   "cell_type": "code",
   "execution_count": 16,
   "id": "60b54cc1",
   "metadata": {
    "collapsed": false,
    "jupyter": {
     "outputs_hidden": false
    }
   },
   "outputs": [
    {
     "data": {
      "text/latex": [
       "$\\displaystyle e^{e^{e^{x}}} e^{- e^{e^{x - e^{- e^{e^{x}}}}}}$"
      ],
      "text/plain": [
       "exp(exp(exp(x)))*exp(-exp(exp(x - exp(-exp(exp(x))))))"
      ]
     },
     "execution_count": 16,
     "metadata": {},
     "output_type": "execute_result"
    }
   ],
   "source": [
    "exp(exp(exp(x))) / exp(exp(exp(x-exp(-exp(exp(x))))))"
   ]
  },
  {
   "cell_type": "code",
   "execution_count": 17,
   "id": "9524832f",
   "metadata": {
    "collapsed": false,
    "jupyter": {
     "outputs_hidden": false
    }
   },
   "outputs": [
    {
     "data": {
      "text/latex": [
       "$\\displaystyle 1$"
      ],
      "text/plain": [
       "1"
      ]
     },
     "execution_count": 17,
     "metadata": {},
     "output_type": "execute_result"
    }
   ],
   "source": [
    "limit(_, x, oo)"
   ]
  },
  {
   "cell_type": "markdown",
   "id": "0e1ba48b",
   "metadata": {},
   "source": [
    "Eqn 8.8"
   ]
  },
  {
   "cell_type": "code",
   "execution_count": 18,
   "id": "bfe09a28",
   "metadata": {
    "collapsed": false,
    "jupyter": {
     "outputs_hidden": false
    }
   },
   "outputs": [
    {
     "data": {
      "text/latex": [
       "$\\displaystyle e^{e^{x}} e^{- e^{x - e^{- e^{e^{x}}}}}$"
      ],
      "text/plain": [
       "exp(exp(x))*exp(-exp(x - exp(-exp(exp(x)))))"
      ]
     },
     "execution_count": 18,
     "metadata": {},
     "output_type": "execute_result"
    }
   ],
   "source": [
    "exp(exp(x)) / exp(exp(x-exp(-exp(exp(x)))))"
   ]
  },
  {
   "cell_type": "code",
   "execution_count": 19,
   "id": "1b0a510c",
   "metadata": {
    "collapsed": false,
    "jupyter": {
     "outputs_hidden": false
    }
   },
   "outputs": [
    {
     "data": {
      "text/latex": [
       "$\\displaystyle 1$"
      ],
      "text/plain": [
       "1"
      ]
     },
     "execution_count": 19,
     "metadata": {},
     "output_type": "execute_result"
    }
   ],
   "source": [
    "limit(_, x, oo)"
   ]
  },
  {
   "cell_type": "markdown",
   "id": "15c13713",
   "metadata": {},
   "source": [
    "Eqn 8.9"
   ]
  },
  {
   "cell_type": "code",
   "execution_count": 20,
   "id": "fcc9b7b8",
   "metadata": {
    "collapsed": false,
    "jupyter": {
     "outputs_hidden": false
    }
   },
   "outputs": [
    {
     "data": {
      "text/latex": [
       "$\\displaystyle \\frac{e^{e^{\\sqrt{\\log{\\left(\\log{\\left(x \\right)} \\right)}} \\log{\\left(\\log{\\left(\\log{\\left(x \\right)} \\right)} \\right)}^{3}} \\sqrt{\\log{\\left(x \\right)}} \\log{\\left(\\log{\\left(x \\right)} \\right)}^{2}} \\log{\\left(x \\right)}^{2}}{\\sqrt{x}}$"
      ],
      "text/plain": [
       "exp(exp(sqrt(log(log(x)))*log(log(log(x)))**3)*sqrt(log(x))*log(log(x))**2)*log(x)**2/sqrt(x)"
      ]
     },
     "execution_count": 20,
     "metadata": {},
     "output_type": "execute_result"
    }
   ],
   "source": [
    "log(x)**2 * exp(sqrt(log(x))*(log(log(x)))**2 * exp(sqrt(log(log(x))) * (log(log(log(x))))**3)) / sqrt(x)"
   ]
  },
  {
   "cell_type": "code",
   "execution_count": 21,
   "id": "f392a9a0",
   "metadata": {
    "collapsed": false,
    "jupyter": {
     "outputs_hidden": false
    }
   },
   "outputs": [
    {
     "data": {
      "text/latex": [
       "$\\displaystyle 0$"
      ],
      "text/plain": [
       "0"
      ]
     },
     "execution_count": 21,
     "metadata": {},
     "output_type": "execute_result"
    }
   ],
   "source": [
    "limit(_, x, oo)"
   ]
  },
  {
   "cell_type": "markdown",
   "id": "add21ed1",
   "metadata": {},
   "source": [
    "Eqn 8.10"
   ]
  },
  {
   "cell_type": "code",
   "execution_count": 22,
   "id": "bbcff087",
   "metadata": {
    "collapsed": false,
    "jupyter": {
     "outputs_hidden": false
    }
   },
   "outputs": [
    {
     "data": {
      "text/latex": [
       "$\\displaystyle \\frac{x \\log{\\left(x \\right)} \\log{\\left(- x^{2} + x e^{x} \\right)}^{2}}{\\log{\\left(\\log{\\left(x^{2} + 2 e^{e^{3 x^{3} \\log{\\left(x \\right)}}} \\right)} \\right)}}$"
      ],
      "text/plain": [
       "x*log(x)*log(-x**2 + x*exp(x))**2/log(log(x**2 + 2*exp(exp(3*x**3*log(x)))))"
      ]
     },
     "execution_count": 22,
     "metadata": {},
     "output_type": "execute_result"
    }
   ],
   "source": [
    "(x*log(x)*(log(x*exp(x)-x**2))**2) / (log(log(x**2+2*exp(exp(3*x**3*log(x))))))"
   ]
  },
  {
   "cell_type": "code",
   "execution_count": 23,
   "id": "28b5ceb2",
   "metadata": {
    "collapsed": false,
    "jupyter": {
     "outputs_hidden": false
    }
   },
   "outputs": [
    {
     "data": {
      "text/latex": [
       "$\\displaystyle \\frac{1}{3}$"
      ],
      "text/plain": [
       "1/3"
      ]
     },
     "execution_count": 23,
     "metadata": {},
     "output_type": "execute_result"
    }
   ],
   "source": [
    "limit(_, x, oo)"
   ]
  },
  {
   "cell_type": "markdown",
   "id": "54cc4c24",
   "metadata": {},
   "source": [
    "Eqn 8.11"
   ]
  },
  {
   "cell_type": "code",
   "execution_count": 24,
   "id": "d7701fe2",
   "metadata": {
    "collapsed": false,
    "jupyter": {
     "outputs_hidden": false
    }
   },
   "outputs": [
    {
     "data": {
      "text/latex": [
       "$\\displaystyle \\frac{- e^{x} + e^{\\frac{x e^{- x}}{e^{- \\frac{2 x^{2}}{x + 1}} + e^{- x}}}}{x}$"
      ],
      "text/plain": [
       "(-exp(x) + exp(x*exp(-x)/(exp(-2*x**2/(x + 1)) + exp(-x))))/x"
      ]
     },
     "execution_count": 24,
     "metadata": {},
     "output_type": "execute_result"
    }
   ],
   "source": [
    "(exp(x*exp(-x)/(exp(-x)+exp(-2*x**2/(x+1)))) - exp(x))/x"
   ]
  },
  {
   "cell_type": "code",
   "execution_count": 25,
   "id": "43a9f8c2",
   "metadata": {
    "collapsed": false,
    "jupyter": {
     "outputs_hidden": false
    }
   },
   "outputs": [
    {
     "data": {
      "text/latex": [
       "$\\displaystyle - e^{2}$"
      ],
      "text/plain": [
       "-exp(2)"
      ]
     },
     "execution_count": 25,
     "metadata": {},
     "output_type": "execute_result"
    }
   ],
   "source": [
    "limit(_, x, oo)"
   ]
  },
  {
   "cell_type": "markdown",
   "id": "4fa246b5",
   "metadata": {},
   "source": [
    "Eqn 8.12"
   ]
  },
  {
   "cell_type": "code",
   "execution_count": 26,
   "id": "33524e15",
   "metadata": {
    "collapsed": false,
    "jupyter": {
     "outputs_hidden": false
    }
   },
   "outputs": [
    {
     "data": {
      "text/latex": [
       "$\\displaystyle \\left(3^{x} + 5^{x}\\right)^{\\frac{1}{x}}$"
      ],
      "text/plain": [
       "(3**x + 5**x)**(1/x)"
      ]
     },
     "execution_count": 26,
     "metadata": {},
     "output_type": "execute_result"
    }
   ],
   "source": [
    "(3**x + 5**x)**(1/x)"
   ]
  },
  {
   "cell_type": "code",
   "execution_count": 27,
   "id": "3c7de472",
   "metadata": {
    "collapsed": false,
    "jupyter": {
     "outputs_hidden": false
    }
   },
   "outputs": [
    {
     "data": {
      "text/latex": [
       "$\\displaystyle 5$"
      ],
      "text/plain": [
       "5"
      ]
     },
     "execution_count": 27,
     "metadata": {},
     "output_type": "execute_result"
    }
   ],
   "source": [
    "limit(_, x, oo)"
   ]
  },
  {
   "cell_type": "markdown",
   "id": "5b28fe79",
   "metadata": {},
   "source": [
    "Eqn 8.13"
   ]
  },
  {
   "cell_type": "code",
   "execution_count": 28,
   "id": "5fb1658e",
   "metadata": {
    "collapsed": false,
    "jupyter": {
     "outputs_hidden": false
    }
   },
   "outputs": [
    {
     "data": {
      "text/latex": [
       "$\\displaystyle \\frac{x}{\\log{\\left(x^{\\log{\\left(2 \\right)}} \\right)}}$"
      ],
      "text/plain": [
       "x/log(x**log(2))"
      ]
     },
     "execution_count": 28,
     "metadata": {},
     "output_type": "execute_result"
    }
   ],
   "source": [
    "x/log(x**(log(x**(log(2)/log(x)))))"
   ]
  },
  {
   "cell_type": "code",
   "execution_count": 29,
   "id": "4aee7df0",
   "metadata": {
    "collapsed": false,
    "jupyter": {
     "outputs_hidden": false
    }
   },
   "outputs": [
    {
     "data": {
      "text/latex": [
       "$\\displaystyle \\infty$"
      ],
      "text/plain": [
       "oo"
      ]
     },
     "execution_count": 29,
     "metadata": {},
     "output_type": "execute_result"
    }
   ],
   "source": [
    "limit(_, x, oo)"
   ]
  },
  {
   "cell_type": "markdown",
   "id": "3568eada",
   "metadata": {},
   "source": [
    "Eqn 8.14"
   ]
  },
  {
   "cell_type": "code",
   "execution_count": 30,
   "id": "fb52fe73",
   "metadata": {
    "collapsed": false,
    "jupyter": {
     "outputs_hidden": false
    }
   },
   "outputs": [
    {
     "data": {
      "text/latex": [
       "$\\displaystyle e^{- e^{10 \\log{\\left(x \\right)} \\log{\\left(\\log{\\left(x \\right)} \\right)}}} e^{e^{2 \\log{\\left(x^{5} + x \\right)} \\log{\\left(\\log{\\left(x \\right)} \\right)}}}$"
      ],
      "text/plain": [
       "exp(-exp(10*log(x)*log(log(x))))*exp(exp(2*log(x**5 + x)*log(log(x))))"
      ]
     },
     "execution_count": 30,
     "metadata": {},
     "output_type": "execute_result"
    }
   ],
   "source": [
    "exp(exp(2*log(x**5+x)*log(log(x)))) / exp(exp(10*log(x)*log(log(x))))"
   ]
  },
  {
   "cell_type": "code",
   "execution_count": 31,
   "id": "e08c65a2",
   "metadata": {
    "collapsed": false,
    "jupyter": {
     "outputs_hidden": false
    }
   },
   "outputs": [
    {
     "data": {
      "text/latex": [
       "$\\displaystyle \\infty$"
      ],
      "text/plain": [
       "oo"
      ]
     },
     "execution_count": 31,
     "metadata": {},
     "output_type": "execute_result"
    }
   ],
   "source": [
    "limit(_, x, oo)"
   ]
  },
  {
   "cell_type": "markdown",
   "id": "8b5f7c04",
   "metadata": {},
   "source": [
    "Eqn 8.15"
   ]
  },
  {
   "cell_type": "code",
   "execution_count": 32,
   "id": "d4ed44de",
   "metadata": {
    "collapsed": false,
    "jupyter": {
     "outputs_hidden": false
    }
   },
   "outputs": [
    {
     "data": {
      "text/latex": [
       "$\\displaystyle \\frac{4 e^{8 e^{\\frac{54 x^{\\frac{49}{45}}}{17} + \\frac{21 x^{\\frac{6}{11}}}{8} + \\frac{2}{x^{8}} + \\frac{5}{2 x^{\\frac{5}{7}}}}}}{9 \\log{\\left(\\log{\\left(- \\log{\\left(\\frac{4}{3 x^{\\frac{5}{14}}} \\right)} \\right)} \\right)}^{\\frac{7}{6}}}$"
      ],
      "text/plain": [
       "4*exp(8*exp(54*x**(49/45)/17 + 21*x**(6/11)/8 + 2/x**8 + 5/(2*x**(5/7))))/(9*log(log(-log(4/(3*x**(5/14)))))**(7/6))"
      ]
     },
     "execution_count": 32,
     "metadata": {},
     "output_type": "execute_result"
    }
   ],
   "source": [
    "4*exp(exp(S(5)/2*x**(-S(5)/7)+ S(21)/8*x**(S(6)/11)+2*x**(-8)+S(54)/17*x**(S(49)/45) ))**8 / (9*log(log(-log(S(4)/3*x**(-S(5)/14))))**(S(7)/6))"
   ]
  },
  {
   "cell_type": "code",
   "execution_count": 33,
   "id": "12a9a537",
   "metadata": {
    "collapsed": false,
    "jupyter": {
     "outputs_hidden": false
    }
   },
   "outputs": [
    {
     "data": {
      "text/latex": [
       "$\\displaystyle \\infty$"
      ],
      "text/plain": [
       "oo"
      ]
     },
     "execution_count": 33,
     "metadata": {},
     "output_type": "execute_result"
    }
   ],
   "source": [
    "limit(_, x, oo)"
   ]
  },
  {
   "cell_type": "markdown",
   "id": "45c08560",
   "metadata": {},
   "source": [
    "Eqn 8.16"
   ]
  },
  {
   "cell_type": "code",
   "execution_count": 34,
   "id": "3eba789c",
   "metadata": {
    "collapsed": false,
    "jupyter": {
     "outputs_hidden": false
    }
   },
   "outputs": [
    {
     "data": {
      "text/latex": [
       "$\\displaystyle \\left(- e^{x} + e^{\\frac{4 x e^{- x}}{e^{- \\frac{2 x^{2}}{x + 1}} + e^{- x}}}\\right) e^{- 4 x}$"
      ],
      "text/plain": [
       "(-exp(x) + exp(4*x*exp(-x)/(exp(-2*x**2/(x + 1)) + exp(-x))))*exp(-4*x)"
      ]
     },
     "execution_count": 34,
     "metadata": {},
     "output_type": "execute_result"
    }
   ],
   "source": [
    "(exp(4*x*exp(-x)/(1/exp(x)+1/exp(2*x**2/(x+1)))) - exp(x)) / exp(x)**4"
   ]
  },
  {
   "cell_type": "code",
   "execution_count": 35,
   "id": "a0cd245d",
   "metadata": {
    "collapsed": false,
    "jupyter": {
     "outputs_hidden": false
    }
   },
   "outputs": [
    {
     "data": {
      "text/latex": [
       "$\\displaystyle 1$"
      ],
      "text/plain": [
       "1"
      ]
     },
     "execution_count": 35,
     "metadata": {},
     "output_type": "execute_result"
    }
   ],
   "source": [
    "limit(_, x, oo)"
   ]
  },
  {
   "cell_type": "markdown",
   "id": "f65b2503",
   "metadata": {},
   "source": [
    "Eqn 8.17"
   ]
  },
  {
   "cell_type": "code",
   "execution_count": 36,
   "id": "88a5bfa6",
   "metadata": {
    "collapsed": false,
    "jupyter": {
     "outputs_hidden": false
    }
   },
   "outputs": [
    {
     "data": {
      "text/latex": [
       "$\\displaystyle e^{- x} e^{\\frac{x e^{- x}}{e^{- \\frac{2 x^{2}}{x + 1}} + e^{- x}}}$"
      ],
      "text/plain": [
       "exp(-x)*exp(x*exp(-x)/(exp(-2*x**2/(x + 1)) + exp(-x)))"
      ]
     },
     "execution_count": 36,
     "metadata": {},
     "output_type": "execute_result"
    }
   ],
   "source": [
    "exp(x*exp(-x)/(exp(-x)+exp(-2*x**2/(x+1))))/exp(x)"
   ]
  },
  {
   "cell_type": "code",
   "execution_count": 37,
   "id": "ac34395e",
   "metadata": {
    "collapsed": false,
    "jupyter": {
     "outputs_hidden": false
    }
   },
   "outputs": [
    {
     "data": {
      "text/latex": [
       "$\\displaystyle 1$"
      ],
      "text/plain": [
       "1"
      ]
     },
     "execution_count": 37,
     "metadata": {},
     "output_type": "execute_result"
    }
   ],
   "source": [
    "limit(_, x, oo)"
   ]
  },
  {
   "cell_type": "markdown",
   "id": "c378f0e6",
   "metadata": {},
   "source": [
    "Eqn 8.18"
   ]
  },
  {
   "cell_type": "code",
   "execution_count": 38,
   "id": "63b96abd",
   "metadata": {
    "collapsed": false,
    "jupyter": {
     "outputs_hidden": false
    }
   },
   "outputs": [
    {
     "data": {
      "text/latex": [
       "$\\displaystyle x - e^{x} + e^{\\frac{2 x}{1 + e^{- x}}} e^{- \\frac{x}{1 + e^{- \\frac{x}{1 + e^{- x}}}}} e^{e^{- \\frac{x}{1 + e^{- x}}}} e^{e^{- x + e^{- \\frac{x}{1 + e^{- x}}}}}$"
      ],
      "text/plain": [
       "x - exp(x) + exp(2*x/(1 + exp(-x)))*exp(-x/(1 + exp(-x/(1 + exp(-x)))))*exp(exp(-x/(1 + exp(-x))))*exp(exp(-x + exp(-x/(1 + exp(-x)))))"
      ]
     },
     "execution_count": 38,
     "metadata": {},
     "output_type": "execute_result"
    }
   ],
   "source": [
    "(exp(exp(-x/(1+exp(-x))))*exp(-x/(1+exp(-x/(1+exp(-x)))))*exp(exp(-x+exp(-x/(1+exp(-x)))))) / (exp(-x/(1+exp(-x))))**2 - exp(x) + x"
   ]
  },
  {
   "cell_type": "code",
   "execution_count": 39,
   "id": "c7ff28a0",
   "metadata": {
    "collapsed": false,
    "jupyter": {
     "outputs_hidden": false
    }
   },
   "outputs": [
    {
     "data": {
      "text/latex": [
       "$\\displaystyle 2$"
      ],
      "text/plain": [
       "2"
      ]
     },
     "execution_count": 39,
     "metadata": {},
     "output_type": "execute_result"
    }
   ],
   "source": [
    "limit(_, x, oo)"
   ]
  },
  {
   "cell_type": "markdown",
   "id": "520a5e14",
   "metadata": {},
   "source": [
    "Eqn 8.19"
   ]
  },
  {
   "cell_type": "code",
   "execution_count": 40,
   "id": "8cc08a14",
   "metadata": {
    "collapsed": false,
    "jupyter": {
     "outputs_hidden": false
    }
   },
   "outputs": [
    {
     "data": {
      "text/latex": [
       "$\\displaystyle \\frac{\\left(\\log{\\left(\\log{\\left(x \\right)} + \\log{\\left(\\log{\\left(x \\right)} \\right)} \\right)} - \\log{\\left(\\log{\\left(x \\right)} \\right)}\\right) \\log{\\left(x \\right)}}{\\log{\\left(\\log{\\left(x \\right)} + \\log{\\left(\\log{\\left(\\log{\\left(x \\right)} \\right)} \\right)} \\right)}}$"
      ],
      "text/plain": [
       "(log(log(x) + log(log(x))) - log(log(x)))*log(x)/log(log(x) + log(log(log(x))))"
      ]
     },
     "execution_count": 40,
     "metadata": {},
     "output_type": "execute_result"
    }
   ],
   "source": [
    "log(x)*(log(log(x)+log(log(x))) - log(log(x))) / (log(log(x)+log(log(log(x)))))"
   ]
  },
  {
   "cell_type": "code",
   "execution_count": 41,
   "id": "73ff3f5d",
   "metadata": {
    "collapsed": false,
    "jupyter": {
     "outputs_hidden": false
    }
   },
   "outputs": [
    {
     "data": {
      "text/latex": [
       "$\\displaystyle 1$"
      ],
      "text/plain": [
       "1"
      ]
     },
     "execution_count": 41,
     "metadata": {},
     "output_type": "execute_result"
    }
   ],
   "source": [
    "limit(_, x, oo)"
   ]
  },
  {
   "cell_type": "markdown",
   "id": "308bd8c0",
   "metadata": {},
   "source": [
    "Eqn 8.20"
   ]
  },
  {
   "cell_type": "code",
   "execution_count": 42,
   "id": "9b4ed889",
   "metadata": {
    "collapsed": false,
    "jupyter": {
     "outputs_hidden": false
    }
   },
   "outputs": [
    {
     "data": {
      "text/latex": [
       "$\\displaystyle e^{\\frac{\\log{\\left(\\log{\\left(x + e^{\\log{\\left(x \\right)} \\log{\\left(\\log{\\left(x \\right)} \\right)}} \\right)} \\right)}}{\\log{\\left(\\log{\\left(\\log{\\left(x + e^{x} + \\log{\\left(x \\right)} \\right)} \\right)} \\right)}}}$"
      ],
      "text/plain": [
       "exp(log(log(x + exp(log(x)*log(log(x)))))/log(log(log(x + exp(x) + log(x)))))"
      ]
     },
     "execution_count": 42,
     "metadata": {},
     "output_type": "execute_result"
    }
   ],
   "source": [
    "exp((log(log(x+exp(log(x)*log(log(x)))))) / (log(log(log(exp(x)+x+log(x))))))"
   ]
  },
  {
   "cell_type": "code",
   "execution_count": 43,
   "id": "ed09f307",
   "metadata": {
    "collapsed": false,
    "jupyter": {
     "outputs_hidden": false
    }
   },
   "outputs": [
    {
     "data": {
      "text/latex": [
       "$\\displaystyle e$"
      ],
      "text/plain": [
       "E"
      ]
     },
     "execution_count": 43,
     "metadata": {},
     "output_type": "execute_result"
    }
   ],
   "source": [
    "limit(_, x, oo)"
   ]
  },
  {
   "cell_type": "markdown",
   "id": "4a4103db",
   "metadata": {},
   "source": [
    "The following examples show limit computation on special functions (from Gruntz' thesis p. 126)"
   ]
  },
  {
   "cell_type": "markdown",
   "id": "b2655d0f",
   "metadata": {},
   "source": [
    "Eqn 8.21"
   ]
  },
  {
   "cell_type": "code",
   "execution_count": 44,
   "id": "ffa9515a",
   "metadata": {
    "collapsed": false,
    "jupyter": {
     "outputs_hidden": false
    }
   },
   "outputs": [
    {
     "data": {
      "text/latex": [
       "$\\displaystyle \\left(\\sin{\\left(e^{- x} + \\frac{1}{x} \\right)} - \\sin{\\left(e^{- x^{2}} + \\frac{1}{x} \\right)}\\right) e^{x}$"
      ],
      "text/plain": [
       "(sin(exp(-x) + 1/x) - sin(exp(-x**2) + 1/x))*exp(x)"
      ]
     },
     "execution_count": 44,
     "metadata": {},
     "output_type": "execute_result"
    }
   ],
   "source": [
    "exp(x)*(sin(1/x+exp(-x))-sin(1/x+exp(-x**2)))"
   ]
  },
  {
   "cell_type": "code",
   "execution_count": 45,
   "id": "c305f500",
   "metadata": {
    "collapsed": false,
    "jupyter": {
     "outputs_hidden": false
    }
   },
   "outputs": [
    {
     "data": {
      "text/latex": [
       "$\\displaystyle 1$"
      ],
      "text/plain": [
       "1"
      ]
     },
     "execution_count": 45,
     "metadata": {},
     "output_type": "execute_result"
    }
   ],
   "source": [
    "limit(_, x, oo)"
   ]
  },
  {
   "cell_type": "markdown",
   "id": "4be6952f",
   "metadata": {},
   "source": [
    "Eqn 8.22"
   ]
  },
  {
   "cell_type": "code",
   "execution_count": 46,
   "id": "db63aa50",
   "metadata": {
    "collapsed": false,
    "jupyter": {
     "outputs_hidden": false
    }
   },
   "outputs": [
    {
     "data": {
      "text/latex": [
       "$\\displaystyle \\left(- e^{\\sin{\\left(\\frac{1}{x} \\right)}} + e^{\\sin{\\left(e^{- e^{x}} + \\frac{1}{x} \\right)}}\\right) e^{e^{x}}$"
      ],
      "text/plain": [
       "(-exp(sin(1/x)) + exp(sin(exp(-exp(x)) + 1/x)))*exp(exp(x))"
      ]
     },
     "execution_count": 46,
     "metadata": {},
     "output_type": "execute_result"
    }
   ],
   "source": [
    "exp(exp(x)) * (exp(sin(1/x+exp(-exp(x)))) - exp(sin(1/x)))"
   ]
  },
  {
   "cell_type": "code",
   "execution_count": 47,
   "id": "39f01607",
   "metadata": {
    "collapsed": false,
    "jupyter": {
     "outputs_hidden": false
    }
   },
   "outputs": [
    {
     "data": {
      "text/latex": [
       "$\\displaystyle 1$"
      ],
      "text/plain": [
       "1"
      ]
     },
     "execution_count": 47,
     "metadata": {},
     "output_type": "execute_result"
    }
   ],
   "source": [
    "limit(_, x, oo)"
   ]
  },
  {
   "cell_type": "markdown",
   "id": "5a979cd1",
   "metadata": {},
   "source": [
    "Eqn 8.23"
   ]
  },
  {
   "cell_type": "code",
   "execution_count": 48,
   "id": "b3a328ea",
   "metadata": {
    "collapsed": false,
    "jupyter": {
     "outputs_hidden": false
    }
   },
   "outputs": [
    {
     "data": {
      "text/latex": [
       "$\\displaystyle \\left(- \\operatorname{erf}{\\left(x \\right)} + \\operatorname{erf}{\\left(x - e^{- e^{x}} \\right)}\\right) e^{x^{2}} e^{e^{x}}$"
      ],
      "text/plain": [
       "(-erf(x) + erf(x - exp(-exp(x))))*exp(x**2)*exp(exp(x))"
      ]
     },
     "execution_count": 48,
     "metadata": {},
     "output_type": "execute_result"
    }
   ],
   "source": [
    "(erf(x-exp(-exp(x))) - erf(x)) * exp(exp(x)) * exp(x**2)"
   ]
  },
  {
   "cell_type": "code",
   "execution_count": 49,
   "id": "75a47083",
   "metadata": {
    "collapsed": false,
    "jupyter": {
     "outputs_hidden": false
    }
   },
   "outputs": [
    {
     "data": {
      "text/latex": [
       "$\\displaystyle - \\frac{2}{\\sqrt{\\pi}}$"
      ],
      "text/plain": [
       "-2/sqrt(pi)"
      ]
     },
     "execution_count": 49,
     "metadata": {},
     "output_type": "execute_result"
    }
   ],
   "source": [
    "limit(_, x, oo)"
   ]
  },
  {
   "cell_type": "markdown",
   "id": "62e3ea54",
   "metadata": {},
   "source": [
    "Eqn 8.24"
   ]
  },
  {
   "cell_type": "code",
   "execution_count": 50,
   "id": "833980a1",
   "metadata": {
    "collapsed": false,
    "jupyter": {
     "outputs_hidden": false
    }
   },
   "outputs": [
    {
     "data": {
      "text/latex": [
       "$\\displaystyle x \\left(- \\operatorname{Ei}{\\left(x \\right)} + \\operatorname{Ei}{\\left(x - e^{- e^{x}} \\right)}\\right) e^{- x} e^{e^{x}}$"
      ],
      "text/plain": [
       "x*(-Ei(x) + Ei(x - exp(-exp(x))))*exp(-x)*exp(exp(x))"
      ]
     },
     "execution_count": 50,
     "metadata": {},
     "output_type": "execute_result"
    }
   ],
   "source": [
    "(Ei(x-exp(-exp(x))) - Ei(x)) *exp(-x)*exp(exp(x))*x"
   ]
  },
  {
   "cell_type": "code",
   "execution_count": 51,
   "id": "312fe7e6",
   "metadata": {
    "collapsed": false,
    "jupyter": {
     "outputs_hidden": false
    }
   },
   "outputs": [
    {
     "data": {
      "text/latex": [
       "$\\displaystyle -1$"
      ],
      "text/plain": [
       "-1"
      ]
     },
     "execution_count": 51,
     "metadata": {},
     "output_type": "execute_result"
    }
   ],
   "source": [
    "limit(_, x, oo)"
   ]
  },
  {
   "cell_type": "markdown",
   "id": "d02c7cde",
   "metadata": {},
   "source": [
    "Eqn 8.25"
   ]
  },
  {
   "cell_type": "code",
   "execution_count": 52,
   "id": "9c6cc5da",
   "metadata": {
    "collapsed": false,
    "jupyter": {
     "outputs_hidden": false
    }
   },
   "outputs": [
    {
     "data": {
      "text/latex": [
       "$\\displaystyle \\left(- \\zeta\\left(x\\right) + \\zeta\\left(x + e^{- x}\\right)\\right) e^{x \\left(\\log{\\left(2 \\right)} + 1\\right)}$"
      ],
      "text/plain": [
       "(-zeta(x) + zeta(x + exp(-x)))*exp(x*(log(2) + 1))"
      ]
     },
     "execution_count": 52,
     "metadata": {},
     "output_type": "execute_result"
    }
   ],
   "source": [
    "exp((log(2)+1)*x) * (zeta(x+exp(-x)) - zeta(x))"
   ]
  },
  {
   "cell_type": "code",
   "execution_count": 53,
   "id": "37e5317e",
   "metadata": {
    "collapsed": false,
    "jupyter": {
     "outputs_hidden": false
    }
   },
   "outputs": [],
   "source": [
    "#limit(_, x, oo)"
   ]
  },
  {
   "cell_type": "markdown",
   "id": "71ea991b",
   "metadata": {},
   "source": [
    "Eqn 8.26"
   ]
  },
  {
   "cell_type": "code",
   "execution_count": 54,
   "id": "cf9ee28a",
   "metadata": {
    "collapsed": false,
    "jupyter": {
     "outputs_hidden": false
    }
   },
   "outputs": [
    {
     "data": {
      "text/latex": [
       "$\\displaystyle \\left(- \\Gamma\\left(x\\right) + \\Gamma\\left(x + e^{- x}\\right)\\right) e^{x}$"
      ],
      "text/plain": [
       "(-gamma(x) + gamma(x + exp(-x)))*exp(x)"
      ]
     },
     "execution_count": 54,
     "metadata": {},
     "output_type": "execute_result"
    }
   ],
   "source": [
    "exp(x)*(gamma(x+exp(-x)) - gamma(x))"
   ]
  },
  {
   "cell_type": "code",
   "execution_count": 55,
   "id": "49730688",
   "metadata": {
    "collapsed": false,
    "jupyter": {
     "outputs_hidden": false
    }
   },
   "outputs": [
    {
     "data": {
      "text/latex": [
       "$\\displaystyle \\infty$"
      ],
      "text/plain": [
       "oo"
      ]
     },
     "execution_count": 55,
     "metadata": {},
     "output_type": "execute_result"
    }
   ],
   "source": [
    "limit(_, x, oo)"
   ]
  },
  {
   "cell_type": "markdown",
   "id": "365a9434",
   "metadata": {},
   "source": [
    "Eqn 8.27"
   ]
  },
  {
   "cell_type": "code",
   "execution_count": 56,
   "id": "75e3cb1c",
   "metadata": {
    "collapsed": false,
    "jupyter": {
     "outputs_hidden": false
    }
   },
   "outputs": [
    {
     "data": {
      "text/latex": [
       "$\\displaystyle e^{e^{\\frac{1}{x}} \\Gamma\\left(x - e^{- x}\\right)} - e^{\\Gamma\\left(x\\right)}$"
      ],
      "text/plain": [
       "exp(exp(1/x)*gamma(x - exp(-x))) - exp(gamma(x))"
      ]
     },
     "execution_count": 56,
     "metadata": {},
     "output_type": "execute_result"
    }
   ],
   "source": [
    "exp(gamma(x-exp(-x))*exp(1/x)) - exp(gamma(x))"
   ]
  },
  {
   "cell_type": "code",
   "execution_count": 57,
   "id": "178d3cbd",
   "metadata": {
    "collapsed": false,
    "jupyter": {
     "outputs_hidden": false
    }
   },
   "outputs": [],
   "source": [
    "#limit(_, x, oo)"
   ]
  },
  {
   "cell_type": "markdown",
   "id": "91ecf67f",
   "metadata": {},
   "source": [
    "Eqn 8.28"
   ]
  },
  {
   "cell_type": "code",
   "execution_count": 58,
   "id": "f4e3f5a9",
   "metadata": {
    "collapsed": false,
    "jupyter": {
     "outputs_hidden": false
    }
   },
   "outputs": [
    {
     "data": {
      "text/latex": [
       "$\\displaystyle \\frac{- \\Gamma\\left(x\\right) + \\Gamma\\left(x + \\frac{1}{\\Gamma\\left(x\\right)}\\right)}{\\log{\\left(x \\right)}}$"
      ],
      "text/plain": [
       "(-gamma(x) + gamma(x + 1/gamma(x)))/log(x)"
      ]
     },
     "execution_count": 58,
     "metadata": {},
     "output_type": "execute_result"
    }
   ],
   "source": [
    "(gamma(x+1/gamma(x)) - gamma(x)) / log(x)"
   ]
  },
  {
   "cell_type": "code",
   "execution_count": 59,
   "id": "47f438a2",
   "metadata": {
    "collapsed": false,
    "jupyter": {
     "outputs_hidden": false
    }
   },
   "outputs": [
    {
     "data": {
      "text/latex": [
       "$\\displaystyle 1$"
      ],
      "text/plain": [
       "1"
      ]
     },
     "execution_count": 59,
     "metadata": {},
     "output_type": "execute_result"
    }
   ],
   "source": [
    "limit(_, x, oo)"
   ]
  },
  {
   "cell_type": "markdown",
   "id": "8abbe20d",
   "metadata": {},
   "source": [
    "Eqn 8.29"
   ]
  },
  {
   "cell_type": "code",
   "execution_count": 60,
   "id": "86ebe2ed",
   "metadata": {
    "collapsed": false,
    "jupyter": {
     "outputs_hidden": false
    }
   },
   "outputs": [
    {
     "data": {
      "text/latex": [
       "$\\displaystyle x \\left(\\log{\\left(x \\right)} - \\Gamma\\left(x\\right) + \\Gamma\\left(x - \\frac{1}{\\Gamma\\left(x\\right)}\\right)\\right)$"
      ],
      "text/plain": [
       "x*(log(x) - gamma(x) + gamma(x - 1/gamma(x)))"
      ]
     },
     "execution_count": 60,
     "metadata": {},
     "output_type": "execute_result"
    }
   ],
   "source": [
    "x * (gamma(x-1/gamma(x)) - gamma(x) + log(x))"
   ]
  },
  {
   "cell_type": "code",
   "execution_count": 61,
   "id": "a06b598b",
   "metadata": {
    "collapsed": false,
    "jupyter": {
     "outputs_hidden": false
    }
   },
   "outputs": [
    {
     "data": {
      "text/latex": [
       "$\\displaystyle \\frac{1}{2}$"
      ],
      "text/plain": [
       "1/2"
      ]
     },
     "execution_count": 61,
     "metadata": {},
     "output_type": "execute_result"
    }
   ],
   "source": [
    "limit(_, x, oo)"
   ]
  },
  {
   "cell_type": "markdown",
   "id": "81f1e92f",
   "metadata": {},
   "source": [
    "Eqn 8.30"
   ]
  },
  {
   "cell_type": "code",
   "execution_count": 62,
   "id": "6e982b4b",
   "metadata": {
    "collapsed": false,
    "jupyter": {
     "outputs_hidden": false
    }
   },
   "outputs": [
    {
     "data": {
      "text/latex": [
       "$\\displaystyle x \\left(\\frac{- \\Gamma\\left(x\\right) + \\Gamma\\left(x + \\frac{1}{\\Gamma\\left(x\\right)}\\right)}{\\log{\\left(x \\right)}} - \\cos{\\left(\\frac{1}{x} \\right)}\\right) \\log{\\left(x \\right)}$"
      ],
      "text/plain": [
       "x*((-gamma(x) + gamma(x + 1/gamma(x)))/log(x) - cos(1/x))*log(x)"
      ]
     },
     "execution_count": 62,
     "metadata": {},
     "output_type": "execute_result"
    }
   ],
   "source": [
    "((gamma(x+1/gamma(x)) - gamma(x))/log(x) - cos(1/x))*x*log(x)"
   ]
  },
  {
   "cell_type": "code",
   "execution_count": 63,
   "id": "c4d6785f",
   "metadata": {
    "collapsed": false,
    "jupyter": {
     "outputs_hidden": false
    }
   },
   "outputs": [
    {
     "data": {
      "text/latex": [
       "$\\displaystyle - \\frac{1}{2}$"
      ],
      "text/plain": [
       "-1/2"
      ]
     },
     "execution_count": 63,
     "metadata": {},
     "output_type": "execute_result"
    }
   ],
   "source": [
    "limit(_, x, oo)"
   ]
  },
  {
   "cell_type": "markdown",
   "id": "1b888943",
   "metadata": {},
   "source": [
    "Eqn 8.31"
   ]
  },
  {
   "cell_type": "code",
   "execution_count": 64,
   "id": "80544f67",
   "metadata": {
    "collapsed": false,
    "jupyter": {
     "outputs_hidden": false
    }
   },
   "outputs": [
    {
     "data": {
      "text/latex": [
       "$\\displaystyle - \\left(\\frac{x^{x - \\frac{1}{2}}}{12} + x^{x + \\frac{1}{2}}\\right) e^{- x} + \\frac{\\sqrt{2} \\Gamma\\left(x + 1\\right)}{2 \\sqrt{\\pi}}$"
      ],
      "text/plain": [
       "-(x**(x - 1/2)/12 + x**(x + 1/2))*exp(-x) + sqrt(2)*gamma(x + 1)/(2*sqrt(pi))"
      ]
     },
     "execution_count": 64,
     "metadata": {},
     "output_type": "execute_result"
    }
   ],
   "source": [
    "gamma(x+1)/sqrt(2*pi) - exp(-x)*(x**(x+S(1)/2) + x**(x-S(1)/2)/12)"
   ]
  },
  {
   "cell_type": "code",
   "execution_count": 65,
   "id": "83c210b0",
   "metadata": {
    "collapsed": false,
    "jupyter": {
     "outputs_hidden": false
    }
   },
   "outputs": [
    {
     "data": {
      "text/latex": [
       "$\\displaystyle \\infty$"
      ],
      "text/plain": [
       "oo"
      ]
     },
     "execution_count": 65,
     "metadata": {},
     "output_type": "execute_result"
    }
   ],
   "source": [
    "limit(_, x, oo)"
   ]
  },
  {
   "cell_type": "markdown",
   "id": "246328b5",
   "metadata": {},
   "source": [
    "Eqn 8.32"
   ]
  },
  {
   "cell_type": "code",
   "execution_count": 66,
   "id": "5037d169",
   "metadata": {
    "collapsed": false,
    "jupyter": {
     "outputs_hidden": false
    }
   },
   "outputs": [
    {
     "data": {
      "text/latex": [
       "$\\displaystyle e^{- x} \\log{\\left(\\Gamma\\left(\\Gamma\\left(x\\right)\\right) \\right)}$"
      ],
      "text/plain": [
       "exp(-x)*log(gamma(gamma(x)))"
      ]
     },
     "execution_count": 66,
     "metadata": {},
     "output_type": "execute_result"
    }
   ],
   "source": [
    "log(gamma(gamma(x)))/exp(x)"
   ]
  },
  {
   "cell_type": "code",
   "execution_count": 67,
   "id": "7509b7ac",
   "metadata": {
    "collapsed": false,
    "jupyter": {
     "outputs_hidden": false
    }
   },
   "outputs": [
    {
     "data": {
      "text/latex": [
       "$\\displaystyle \\infty$"
      ],
      "text/plain": [
       "oo"
      ]
     },
     "execution_count": 67,
     "metadata": {},
     "output_type": "execute_result"
    }
   ],
   "source": [
    "limit(_, x, oo)"
   ]
  },
  {
   "cell_type": "markdown",
   "id": "459ab50a",
   "metadata": {},
   "source": [
    "Eqn 8.33"
   ]
  },
  {
   "cell_type": "code",
   "execution_count": 68,
   "id": "d475748d",
   "metadata": {
    "collapsed": false,
    "jupyter": {
     "outputs_hidden": false
    }
   },
   "outputs": [
    {
     "data": {
      "text/latex": [
       "$\\displaystyle \\frac{e^{e^{\\operatorname{polygamma}{\\left(0,\\operatorname{polygamma}{\\left(0,x \\right)} \\right)}}}}{x}$"
      ],
      "text/plain": [
       "exp(exp(polygamma(0, polygamma(0, x))))/x"
      ]
     },
     "execution_count": 68,
     "metadata": {},
     "output_type": "execute_result"
    }
   ],
   "source": [
    "exp(exp(digamma(digamma(x))))/x"
   ]
  },
  {
   "cell_type": "code",
   "execution_count": 69,
   "id": "2e455795",
   "metadata": {
    "collapsed": false,
    "jupyter": {
     "outputs_hidden": false
    }
   },
   "outputs": [
    {
     "data": {
      "text/latex": [
       "$\\displaystyle e^{- \\frac{1}{2}}$"
      ],
      "text/plain": [
       "exp(-1/2)"
      ]
     },
     "execution_count": 69,
     "metadata": {},
     "output_type": "execute_result"
    }
   ],
   "source": [
    "limit(_, x, oo)"
   ]
  },
  {
   "cell_type": "markdown",
   "id": "45c423e6",
   "metadata": {},
   "source": [
    "Eqn 8.34"
   ]
  },
  {
   "cell_type": "code",
   "execution_count": 70,
   "id": "275f56b2",
   "metadata": {
    "collapsed": false,
    "jupyter": {
     "outputs_hidden": false
    }
   },
   "outputs": [
    {
     "data": {
      "text/latex": [
       "$\\displaystyle \\frac{e^{e^{\\operatorname{polygamma}{\\left(0,\\log{\\left(x \\right)} \\right)}}}}{x}$"
      ],
      "text/plain": [
       "exp(exp(polygamma(0, log(x))))/x"
      ]
     },
     "execution_count": 70,
     "metadata": {},
     "output_type": "execute_result"
    }
   ],
   "source": [
    "exp(exp(digamma(log(x))))/x"
   ]
  },
  {
   "cell_type": "code",
   "execution_count": 71,
   "id": "3edae015",
   "metadata": {
    "collapsed": false,
    "jupyter": {
     "outputs_hidden": false
    }
   },
   "outputs": [
    {
     "data": {
      "text/latex": [
       "$\\displaystyle e^{- \\frac{1}{2}}$"
      ],
      "text/plain": [
       "exp(-1/2)"
      ]
     },
     "execution_count": 71,
     "metadata": {},
     "output_type": "execute_result"
    }
   ],
   "source": [
    "limit(_, x, oo)"
   ]
  },
  {
   "cell_type": "markdown",
   "id": "0eb3f53c",
   "metadata": {},
   "source": [
    "Eqn 8.35"
   ]
  },
  {
   "cell_type": "code",
   "execution_count": 72,
   "id": "6c82a424",
   "metadata": {
    "collapsed": false,
    "jupyter": {
     "outputs_hidden": false
    }
   },
   "outputs": [
    {
     "data": {
      "text/latex": [
       "$\\displaystyle \\frac{e^{e^{e^{\\operatorname{polygamma}{\\left(0,\\operatorname{polygamma}{\\left(0,\\operatorname{polygamma}{\\left(0,x \\right)} \\right)} \\right)}}}}}{x}$"
      ],
      "text/plain": [
       "exp(exp(exp(polygamma(0, polygamma(0, polygamma(0, x))))))/x"
      ]
     },
     "execution_count": 72,
     "metadata": {},
     "output_type": "execute_result"
    }
   ],
   "source": [
    "exp(exp(exp(digamma(digamma(digamma(x))))))/x"
   ]
  },
  {
   "cell_type": "code",
   "execution_count": null,
   "id": "4a5d7521",
   "metadata": {
    "collapsed": false,
    "jupyter": {
     "outputs_hidden": false
    }
   },
   "outputs": [],
   "source": [
    "#limit(_, x, oo)"
   ]
  },
  {
   "cell_type": "markdown",
   "id": "84bc83e7",
   "metadata": {},
   "source": [
    "Eqn 8.36"
   ]
  },
  {
   "cell_type": "code",
   "execution_count": null,
   "id": "1ecfb859",
   "metadata": {
    "collapsed": false,
    "jupyter": {
     "outputs_hidden": false
    }
   },
   "outputs": [],
   "source": [
    "besselj(2,x)*exp(x*(2*log(2+sqrt(3))-sqrt(3)))*sqrt(x)"
   ]
  },
  {
   "cell_type": "code",
   "execution_count": null,
   "id": "a7a43403",
   "metadata": {
    "collapsed": false,
    "jupyter": {
     "outputs_hidden": false
    }
   },
   "outputs": [],
   "source": [
    "#limit(_, x, oo)"
   ]
  },
  {
   "cell_type": "markdown",
   "id": "3ab2c1e4",
   "metadata": {},
   "source": [
    "Eqn 8.37"
   ]
  },
  {
   "cell_type": "code",
   "execution_count": null,
   "id": "7ae1e227",
   "metadata": {
    "collapsed": false,
    "jupyter": {
     "outputs_hidden": false
    }
   },
   "outputs": [],
   "source": [
    "Max(x, exp(x))/log(Min(exp(-x), exp(-exp(x))))"
   ]
  },
  {
   "cell_type": "code",
   "execution_count": null,
   "id": "0f54683f",
   "metadata": {
    "collapsed": false,
    "jupyter": {
     "outputs_hidden": false
    }
   },
   "outputs": [],
   "source": [
    "limit(_, x, oo)"
   ]
  },
  {
   "cell_type": "markdown",
   "id": "aa9d5f37",
   "metadata": {},
   "source": [
    "Some other examples"
   ]
  },
  {
   "cell_type": "code",
   "execution_count": null,
   "id": "c84a007c",
   "metadata": {
    "collapsed": false,
    "jupyter": {
     "outputs_hidden": false
    }
   },
   "outputs": [],
   "source": [
    "digamma(digamma(digamma(x)))"
   ]
  },
  {
   "cell_type": "code",
   "execution_count": null,
   "id": "3a50b649",
   "metadata": {
    "collapsed": false,
    "jupyter": {
     "outputs_hidden": false
    }
   },
   "outputs": [],
   "source": [
    "limit(_, x, oo)"
   ]
  },
  {
   "cell_type": "code",
   "execution_count": null,
   "id": "8323a843",
   "metadata": {
    "collapsed": false,
    "jupyter": {
     "outputs_hidden": false
    }
   },
   "outputs": [],
   "source": [
    "loggamma(loggamma(x))"
   ]
  },
  {
   "cell_type": "code",
   "execution_count": null,
   "id": "57a4b0e6",
   "metadata": {
    "collapsed": false,
    "jupyter": {
     "outputs_hidden": false
    }
   },
   "outputs": [],
   "source": [
    "limit(_, x, oo)"
   ]
  }
 ],
 "metadata": {
  "kernelspec": {
   "display_name": "Python 3 (ipykernel)",
   "language": "python",
   "name": "python3"
  },
  "language_info": {
   "codemirror_mode": {
    "name": "ipython",
    "version": 3
   },
   "file_extension": ".py",
   "mimetype": "text/x-python",
   "name": "python",
   "nbconvert_exporter": "python",
   "pygments_lexer": "ipython3",
   "version": "3.12.0"
  }
 },
 "nbformat": 4,
 "nbformat_minor": 5
}
