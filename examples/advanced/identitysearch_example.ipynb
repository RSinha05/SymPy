{
 "cells": [
  {
   "cell_type": "markdown",
   "id": "feb8df37",
   "metadata": {},
   "source": [
    "# Demonstration of quantum gate identity search"
   ]
  },
  {
   "cell_type": "code",
   "execution_count": null,
   "id": "2dcd20ba",
   "metadata": {},
   "outputs": [],
   "source": [
    "from sympy.physics.quantum.gate import (X, Y, Z, H, S, T, CNOT,\n",
    "        IdentityGate, CGate, gate_simp)\n",
    "from sympy.physics.quantum.identitysearch import *\n",
    "from sympy.physics.quantum.dagger import Dagger"
   ]
  },
  {
   "cell_type": "markdown",
   "id": "5ffa0341",
   "metadata": {},
   "source": [
    "Declare a few quantum gates"
   ]
  },
  {
   "cell_type": "code",
   "execution_count": null,
   "id": "f8bbc316",
   "metadata": {},
   "outputs": [],
   "source": [
    "x = X(0)\n",
    "y = Y(0)\n",
    "z = Z(0)\n",
    "h = H(0)\n",
    "cnot = CNOT(1,0)\n",
    "cgate_z = CGate((0,), Z(1))"
   ]
  },
  {
   "cell_type": "markdown",
   "id": "882869c4",
   "metadata": {},
   "source": [
    "Start with the trivial cases"
   ]
  },
  {
   "cell_type": "code",
   "execution_count": null,
   "id": "dee7613d",
   "metadata": {},
   "outputs": [],
   "source": [
    "gate_list = [x]\n",
    "\n",
    "bfs_identity_search(gate_list, 1, max_depth=2)"
   ]
  },
  {
   "cell_type": "code",
   "execution_count": null,
   "id": "4db3c88d",
   "metadata": {},
   "outputs": [],
   "source": [
    "gate_list = [y]\n",
    "\n",
    "bfs_identity_search(gate_list, 1, max_depth=2)"
   ]
  },
  {
   "cell_type": "markdown",
   "id": "24add0eb",
   "metadata": {},
   "source": [
    "bfs_identity_search looks for circuits that reduce to a scalar value unless told otherwise. The following list should produce 4 identities as a result."
   ]
  },
  {
   "cell_type": "code",
   "execution_count": null,
   "id": "0f707507",
   "metadata": {},
   "outputs": [],
   "source": [
    "gate_list = [x, y, z]\n",
    "\n",
    "bfs_identity_search(gate_list, 2)"
   ]
  },
  {
   "cell_type": "code",
   "execution_count": null,
   "id": "e422310d",
   "metadata": {},
   "outputs": [],
   "source": [
    "gate_list = [x, y, z, h]\n",
    "\n",
    "bfs_identity_search(gate_list, 2)"
   ]
  },
  {
   "cell_type": "markdown",
   "id": "1249a136",
   "metadata": {},
   "source": [
    "One has the option to limit the max size of the circuit. The default size is the size of the gate list."
   ]
  },
  {
   "cell_type": "code",
   "execution_count": null,
   "id": "39bb099b",
   "metadata": {},
   "outputs": [],
   "source": [
    "bfs_identity_search(gate_list, 2, max_depth=3)"
   ]
  },
  {
   "cell_type": "markdown",
   "id": "2a3d5a9a",
   "metadata": {},
   "source": [
    "One also has the option to find circuits that only reduce to the Identity matrix rather than only scalar matrices."
   ]
  },
  {
   "cell_type": "code",
   "execution_count": null,
   "id": "09de859b",
   "metadata": {},
   "outputs": [],
   "source": [
    "bfs_identity_search(gate_list, 2, identity_only=True)"
   ]
  },
  {
   "cell_type": "code",
   "execution_count": null,
   "id": "a7e36d45",
   "metadata": {},
   "outputs": [],
   "source": [
    "gate_list = [cnot, cgate_z, h]\n",
    "\n",
    "bfs_identity_search(gate_list, 2, max_depth=4)"
   ]
  },
  {
   "cell_type": "code",
   "execution_count": null,
   "id": "7b63074f",
   "metadata": {},
   "outputs": [],
   "source": []
  }
 ],
 "metadata": {
  "kernelspec": {
   "display_name": "Sympy-Dev",
   "language": "python",
   "name": "sympy-dev"
  },
  "language_info": {
   "codemirror_mode": {
    "name": "ipython",
    "version": 3
   },
   "file_extension": ".py",
   "mimetype": "text/x-python",
   "name": "python",
   "nbconvert_exporter": "python",
   "pygments_lexer": "ipython3",
   "version": "3.10.9"
  }
 },
 "nbformat": 4,
 "nbformat_minor": 5
}
