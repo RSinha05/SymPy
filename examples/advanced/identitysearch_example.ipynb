{
 "metadata": {
  "name": "identitysearch_example"
 },
 "nbformat": 3,
 "nbformat_minor": 0,
 "worksheets": [
  {
   "cells": [
    {
     "cell_type": "code",
     "collapsed": true,
     "input": [
      "\"\"\"Demonstration of quantum gate identity search.\"\"\"\n",
      "\n",
      "from sympy.physics.quantum.gate import (X, Y, Z, H, S, T, CNOT,\n",
      "        IdentityGate, CGate, gate_simp)\n",
      "from sympy.physics.quantum.identitysearch import *\n",
      "from sympy.physics.quantum.dagger import Dagger"
     ],
     "language": "python",
     "metadata": {},
     "outputs": [],
     "prompt_number": 1
    },
    {
     "cell_type": "code",
     "collapsed": true,
     "input": [
      "# Declare a few quantum gates\n",
      "x = X(0)\n",
      "y = Y(0)\n",
      "z = Z(0)\n",
      "h = H(0)\n",
      "cnot = CNOT(1,0)\n",
      "cgate_z = CGate((0,), Z(1))"
     ],
     "language": "python",
     "metadata": {},
     "outputs": [],
     "prompt_number": 2
    },
    {
     "cell_type": "code",
     "collapsed": false,
     "input": [
      "# Start with the trivial cases\n",
      "gate_list = [x]\n",
      "\n",
      "bfs_identity_search(gate_list, 1, max_depth=2)"
     ],
     "language": "python",
     "metadata": {},
     "outputs": [
      {
       "output_type": "pyout",
       "prompt_number": 3,
       "text": [
        "set([GateIdentity(X(0), X(0))])"
       ]
      }
     ],
     "prompt_number": 3
    },
    {
     "cell_type": "code",
     "collapsed": false,
     "input": [
      "gate_list = [y]\n",
      "\n",
      "bfs_identity_search(gate_list, 1, max_depth=2)"
     ],
     "language": "python",
     "metadata": {},
     "outputs": [
      {
       "output_type": "pyout",
       "prompt_number": 4,
       "text": [
        "set([GateIdentity(Y(0), Y(0))])"
       ]
      }
     ],
     "prompt_number": 4
    },
    {
     "cell_type": "code",
     "collapsed": false,
     "input": [
      "# bfs_identity_search looks for circuits that reduce to a\n",
      "# scalar value unless told otherwise.\n",
      "# The following list should produce 4 identities as a result.\n",
      "gate_list = [x, y, z]\n",
      "\n",
      "bfs_identity_search(gate_list, 2)"
     ],
     "language": "python",
     "metadata": {},
     "outputs": [
      {
       "output_type": "pyout",
       "prompt_number": 5,
       "text": [
        "set([GateIdentity(X(0), X(0)),\n",
        "     GateIdentity(X(0), Y(0), Z(0)),\n",
        "     GateIdentity(Z(0), Z(0)),\n",
        "     GateIdentity(Y(0), Y(0))])"
       ]
      }
     ],
     "prompt_number": 5
    },
    {
     "cell_type": "code",
     "collapsed": false,
     "input": [
      "gate_list = [x, y, z, h]\n",
      "\n",
      "bfs_identity_search(gate_list, 2)"
     ],
     "language": "python",
     "metadata": {},
     "outputs": [
      {
       "output_type": "pyout",
       "prompt_number": 6,
       "text": [
        "set([GateIdentity(Y(0), H(0), Y(0), H(0)),\n",
        "     GateIdentity(Z(0), Z(0)),\n",
        "     GateIdentity(X(0), Z(0), X(0), Z(0)),\n",
        "     GateIdentity(X(0), X(0)),\n",
        "     GateIdentity(X(0), Y(0), X(0), Y(0)),\n",
        "     GateIdentity(X(0), Y(0), Z(0)),\n",
        "     GateIdentity(Y(0), Y(0)),\n",
        "     GateIdentity(X(0), H(0), Z(0), H(0)),\n",
        "     GateIdentity(Y(0), Z(0), Y(0), Z(0)),\n",
        "     GateIdentity(H(0), H(0))])"
       ]
      }
     ],
     "prompt_number": 6
    },
    {
     "cell_type": "code",
     "collapsed": false,
     "input": [
      "# One has the option to limit the max size of the circuit.\n",
      "# The default size is the size of the gate list.\n",
      "bfs_identity_search(gate_list, 2, max_depth=3)"
     ],
     "language": "python",
     "metadata": {},
     "outputs": [
      {
       "output_type": "pyout",
       "prompt_number": 7,
       "text": [
        "set([GateIdentity(X(0), X(0)),\n",
        "     GateIdentity(X(0), Y(0), Z(0)),\n",
        "     GateIdentity(Z(0), Z(0)),\n",
        "     GateIdentity(H(0), H(0)),\n",
        "     GateIdentity(Y(0), Y(0))])"
       ]
      }
     ],
     "prompt_number": 7
    },
    {
     "cell_type": "code",
     "collapsed": false,
     "input": [
      "# One also has the option to find circuits that only reduce\n",
      "# to the Identity matrix rather than only scalar matrices.\n",
      "bfs_identity_search(gate_list, 2, identity_only=True)"
     ],
     "language": "python",
     "metadata": {},
     "outputs": [
      {
       "output_type": "pyout",
       "prompt_number": 8,
       "text": [
        "set([GateIdentity(X(0), X(0)),\n",
        "     GateIdentity(X(0), H(0), Z(0), H(0)),\n",
        "     GateIdentity(Z(0), Z(0)),\n",
        "     GateIdentity(H(0), H(0)),\n",
        "     GateIdentity(Y(0), Y(0))])"
       ]
      }
     ],
     "prompt_number": 8
    },
    {
     "cell_type": "code",
     "collapsed": false,
     "input": [
      "gate_list = [cnot, cgate_z, h]\n",
      "\n",
      "bfs_identity_search(gate_list, 2, max_depth=4)"
     ],
     "language": "python",
     "metadata": {},
     "outputs": [
      {
       "output_type": "pyout",
       "prompt_number": 9,
       "text": [
        "set([GateIdentity(H(0), H(0)),\n",
        "     GateIdentity(CNOT(1,0), H(0), C((0),Z(1)), H(0)),\n",
        "     GateIdentity(C((0),Z(1)), C((0),Z(1))),\n",
        "     GateIdentity(CNOT(1,0), CNOT(1,0))])"
       ]
      }
     ],
     "prompt_number": 9
    }
   ],
   "metadata": {}
  }
 ]
}