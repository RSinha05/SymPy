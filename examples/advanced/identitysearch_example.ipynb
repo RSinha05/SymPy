{
 "cells": [
  {
   "cell_type": "code",
   "execution_count": 1,
   "id": "83ca1e46",
   "metadata": {
    "collapsed": true
   },
   "outputs": [],
   "source": [
    "\"\"\"Demonstration of quantum gate identity search.\"\"\"\n",
    "\n",
    "from sympy.physics.quantum.gate import (X, Y, Z, H, S, T, CNOT,\n",
    "        IdentityGate, CGate, gate_simp)\n",
    "from sympy.physics.quantum.identitysearch import *\n",
    "from sympy.physics.quantum.dagger import Dagger"
   ]
  },
  {
   "cell_type": "code",
   "execution_count": 2,
   "id": "6b4b0652",
   "metadata": {
    "collapsed": true
   },
   "outputs": [],
   "source": [
    "# Declare a few quantum gates\n",
    "x = X(0)\n",
    "y = Y(0)\n",
    "z = Z(0)\n",
    "h = H(0)\n",
    "cnot = CNOT(1,0)\n",
    "cgate_z = CGate((0,), Z(1))"
   ]
  },
  {
   "cell_type": "code",
   "execution_count": 6,
   "id": "0c2ed301",
   "metadata": {
    "collapsed": false
   },
   "outputs": [
    {
     "data": {
      "text/plain": [
       "set([GateIdentity(X(0), X(0))])"
      ]
     },
     "execution_count": 6,
     "metadata": {},
     "output_type": "execute_result"
    }
   ],
   "source": [
    "# Start with the trivial cases\n",
    "gate_list = [x]\n",
    "\n",
    "bfs_identity_search(gate_list, 1, max_depth=2)"
   ]
  },
  {
   "cell_type": "code",
   "execution_count": 7,
   "id": "be7183a9",
   "metadata": {
    "collapsed": false
   },
   "outputs": [
    {
     "data": {
      "text/plain": [
       "set([GateIdentity(Y(0), Y(0))])"
      ]
     },
     "execution_count": 7,
     "metadata": {},
     "output_type": "execute_result"
    }
   ],
   "source": [
    "gate_list = [y]\n",
    "\n",
    "bfs_identity_search(gate_list, 1, max_depth=2)"
   ]
  },
  {
   "cell_type": "code",
   "execution_count": 9,
   "id": "a7ca6683",
   "metadata": {
    "collapsed": false
   },
   "outputs": [
    {
     "data": {
      "text/plain": [
       "set([GateIdentity(X(0), X(0)),\n",
       "     GateIdentity(Z(0), Z(0)),\n",
       "     GateIdentity(X(0), Y(0), Z(0)),\n",
       "     GateIdentity(Y(0), Y(0))])"
      ]
     },
     "execution_count": 9,
     "metadata": {},
     "output_type": "execute_result"
    }
   ],
   "source": [
    "# bfs_identity_search looks for circuits that reduce to a\n",
    "# scalar value unless told otherwise.\n",
    "# The following list should produce 4 identities as a result.\n",
    "gate_list = [x, y, z]\n",
    "\n",
    "bfs_identity_search(gate_list, 2)"
   ]
  },
  {
   "cell_type": "code",
   "execution_count": 10,
   "id": "8ac31a1e",
   "metadata": {
    "collapsed": false
   },
   "outputs": [
    {
     "data": {
      "text/plain": [
       "set([GateIdentity(Y(0), H(0), Y(0), H(0)),\n",
       "     GateIdentity(X(0), Y(0), X(0), Y(0)),\n",
       "     GateIdentity(X(0), Y(0), Z(0)),\n",
       "     GateIdentity(X(0), H(0), Z(0), H(0)),\n",
       "     GateIdentity(Z(0), Z(0)),\n",
       "     GateIdentity(X(0), X(0)),\n",
       "     GateIdentity(Y(0), Y(0)),\n",
       "     GateIdentity(X(0), Z(0), X(0), Z(0)),\n",
       "     GateIdentity(Y(0), Z(0), Y(0), Z(0)),\n",
       "     GateIdentity(H(0), H(0))])"
      ]
     },
     "execution_count": 10,
     "metadata": {},
     "output_type": "execute_result"
    }
   ],
   "source": [
    "gate_list = [x, y, z, h]\n",
    "\n",
    "bfs_identity_search(gate_list, 2)"
   ]
  },
  {
   "cell_type": "code",
   "execution_count": 12,
   "id": "85e2e86a",
   "metadata": {
    "collapsed": false
   },
   "outputs": [
    {
     "data": {
      "text/plain": [
       "set([GateIdentity(X(0), X(0)),\n",
       "     GateIdentity(X(0), Y(0), Z(0)),\n",
       "     GateIdentity(Z(0), Z(0)),\n",
       "     GateIdentity(H(0), H(0)),\n",
       "     GateIdentity(Y(0), Y(0))])"
      ]
     },
     "execution_count": 12,
     "metadata": {},
     "output_type": "execute_result"
    }
   ],
   "source": [
    "# One has the option to limit the max size of the circuit.\n",
    "# The default size is the size of the gate list.\n",
    "bfs_identity_search(gate_list, 2, max_depth=3)"
   ]
  },
  {
   "cell_type": "code",
   "execution_count": 13,
   "id": "ff7673c9",
   "metadata": {
    "collapsed": false
   },
   "outputs": [
    {
     "data": {
      "text/plain": [
       "set([GateIdentity(X(0), X(0)),\n",
       "     GateIdentity(Z(0), Z(0)),\n",
       "     GateIdentity(H(0), H(0)),\n",
       "     GateIdentity(Y(0), Y(0))])"
      ]
     },
     "execution_count": 13,
     "metadata": {},
     "output_type": "execute_result"
    }
   ],
   "source": [
    "# One also has the option to find circuits that only reduce\n",
    "# to the Identity matrix rather than only scalar matrices.\n",
    "bfs_identity_search(gate_list, 2, identity_only=True)"
   ]
  },
  {
   "cell_type": "code",
   "execution_count": 14,
   "id": "4b180d50",
   "metadata": {
    "collapsed": false
   },
   "outputs": [
    {
     "data": {
      "text/plain": [
       "set([GateIdentity(CNOT(1,0), H(0), C((0),Z(1)), H(0)),\n",
       "     GateIdentity(H(0), H(0)),\n",
       "     GateIdentity(C((0),Z(1)), C((0),Z(1))),\n",
       "     GateIdentity(CNOT(1,0), CNOT(1,0))])"
      ]
     },
     "execution_count": 14,
     "metadata": {},
     "output_type": "execute_result"
    }
   ],
   "source": [
    "gate_list = [cnot, cgate_z, h]\n",
    "\n",
    "bfs_identity_search(gate_list, 2, max_depth=4)"
   ]
  }
 ],
 "metadata": {},
 "nbformat": 4,
 "nbformat_minor": 5
}
